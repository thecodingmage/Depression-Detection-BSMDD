{
  "cells": [
    {
      "cell_type": "code",
      "execution_count": 1,
      "metadata": {
        "colab": {
          "base_uri": "https://localhost:8080/"
        },
        "id": "SblXBkpbku_T",
        "outputId": "50665114-6a14-48a3-8bd9-c1c3cbc61ba3"
      },
      "outputs": [
        {
          "name": "stdout",
          "output_type": "stream",
          "text": [
            "Mounted at /content/drive\n"
          ]
        }
      ],
      "source": [
        "from google.colab import drive\n",
        "\n",
        "drive.mount('/content/drive')"
      ]
    },
    {
      "cell_type": "code",
      "execution_count": 2,
      "metadata": {
        "id": "7xJmwFFklhbJ"
      },
      "outputs": [],
      "source": [
        "import pandas as pd"
      ]
    },
    {
      "cell_type": "code",
      "execution_count": 3,
      "metadata": {
        "id": "_Qx1FmKxlqWX"
      },
      "outputs": [],
      "source": [
        "df = pd.read_excel('/content/drive/MyDrive/Depression detection dataset/BSMDD_main.xlsx')"
      ]
    },
    {
      "cell_type": "code",
      "execution_count": null,
      "metadata": {
        "colab": {
          "base_uri": "https://localhost:8080/"
        },
        "id": "oJQ7ucpclstu",
        "outputId": "a340d754-dc95-4c0a-fb66-6a90fed58da6"
      },
      "outputs": [
        {
          "name": "stdout",
          "output_type": "stream",
          "text": [
            "<class 'pandas.core.frame.DataFrame'>\n",
            "RangeIndex: 21910 entries, 0 to 21909\n",
            "Data columns (total 3 columns):\n",
            " #   Column         Non-Null Count  Dtype \n",
            "---  ------         --------------  ----- \n",
            " 0   text_bengali   21910 non-null  object\n",
            " 1   text_banglish  21910 non-null  object\n",
            " 2   label          21910 non-null  int64 \n",
            "dtypes: int64(1), object(2)\n",
            "memory usage: 513.6+ KB\n"
          ]
        }
      ],
      "source": [
        "df.info()"
      ]
    },
    {
      "cell_type": "code",
      "execution_count": null,
      "metadata": {
        "colab": {
          "base_uri": "https://localhost:8080/",
          "height": 206
        },
        "id": "EFuk_7ccludU",
        "outputId": "84937872-2d90-44bc-b62d-16fee2a3ca60"
      },
      "outputs": [
        {
          "data": {
            "application/vnd.google.colaboratory.intrinsic+json": {
              "summary": "{\n  \"name\": \"df\",\n  \"rows\": 21910,\n  \"fields\": [\n    {\n      \"column\": \"text_bengali\",\n      \"properties\": {\n        \"dtype\": \"string\",\n        \"num_unique_values\": 21904,\n        \"samples\": [\n          \"\\u09a8\\u09cb\\u099f\\u099f\\u09bf \\u09b2\\u09bf\\u0996\\u09c7\\u099b\\u09bf\\u09b2\\u09be\\u09ae \\u09ae\\u09be\\u09b0\\u09be \\u09af\\u09be\\u0987 \\u09b9\\u09af\\u09bc\\u09c7\\u099b\\u09bf \\u0995\\u09cd\\u09b7\\u09ae\\u09be \\u099a\\u09be\\u0987\\u09a4\\u09c7 \\u099a\\u09be\\u0987 \\u09ac\\u09cd\\u09af\\u0995\\u09cd\\u09a4\\u09bf \\u0985\\u09a8\\u09c1\\u09ad\\u09c2\\u09a4\\u09bf \\u098f\\u09a1\\u09bc\\u09bf\\u09af\\u09bc\\u09c7 \\u0986\\u09a8\\u09a8\\u09cd\\u09a6\\u09bf\\u09a4 \\u09ac\\u09bf\\u09b0\\u0995\\u09cd\\u09a4 \\u099c\\u09be\\u09a8\\u09c7\\u09a8 \\u0998\\u09a8\\u09bf\\u09b7\\u09cd\\u09a0 \\u09b8\\u09ae\\u09cd\\u09aa\\u09b0\\u09cd\\u0995 \\u09a4\\u09c8\\u09b0\\u09bf \\u09ac\\u09cd\\u09af\\u09a5\\u09be \\u098f\\u09a1\\u09bc\\u09be\\u09a4\\u09c7 \\u099c\\u09c0\\u09ac\\u09a8\\u09c7\\u09b0 \\u09a6\\u09bf\\u0995 \\u09ac\\u09bf\\u09b2\\u09ae\\u09cd\\u09ac \\u098f\\u099f\\u09bf\\u0995\\u09c7 \\u098f\\u09ae\\u09a8\\u09ad\\u09be\\u09ac\\u09c7 \\u09a6\\u09c7\\u0996\\u09be\\u0987 \\u0995\\u09a0\\u09cb\\u09b0 \\u09aa\\u09b0\\u09bf\\u09b6\\u09cd\\u09b0\\u09ae\\u09c0 \\u09b2\\u09cb\\u0995\\u09c7\\u09a6\\u09c7\\u09b0 \\u09b8\\u09be\\u09a5\\u09c7 \\u09ac\\u09a8\\u09cd\\u09a7\\u09c1\\u09a4\\u09cd\\u09ac \\u099a\\u09be\\u0987 \\u09b8\\u09be\\u09ae\\u0997\\u09cd\\u09b0\\u09bf\\u0995\\u09ad\\u09be\\u09ac\\u09c7 \\u09b6\\u09c2\\u09a8\\u09cd\\u09af\\u09a4\\u09be\\u09af\\u09bc \\u09ae\\u09cd\\u09b2\\u09be\\u09a8 \\u099a\\u09be\\u0987\\u09f7 \\u099c\\u09be\\u09a8\\u09bf \\u0995\\u09bf\\u09a8\\u09be \\u09b8\\u09ac\\u09b8\\u09ae\\u09af\\u09bc \\u099b\\u09bf\\u09b2\\u09be\\u09ae \\u0998\\u099f\\u09a8\\u09be \\u0998\\u099f\\u09c7\\u099b\\u09bf\\u09b2 \\u09ac\\u09bf\\u09b6\\u09cd\\u09ac\\u09be\\u09b8 \\u09aa\\u099b\\u09a8\\u09cd\\u09a6 \\u09b6\\u09c1\\u09a7\\u09c1\\u09ae\\u09be\\u09a4\\u09cd\\u09b0 \\u09b8\\u099a\\u09c7\\u09a4\\u09a8 \\u099a\\u09bf\\u09a8\\u09cd\\u09a4\\u09be\\u09a7\\u09be\\u09b0\\u09be\\u09b0 \\u0995\\u09b0\\u09c7\\u099b\\u09bf \\u0985\\u09a8\\u09cd\\u09af\\u09a6\\u09c7\\u09b0 \\u0995\\u09cd\\u09b7\\u09a4\\u09bf \\u09ac\\u09be\\u09b9\\u09cd\\u09af\\u09bf\\u0995 \\u0995\\u09be\\u09b0\\u09a3\\u0997\\u09c1\\u09b2\\u09bf\\u09b0 \\u0995\\u09be\\u09b0\\u09a3\\u09c7 \\u09a8\\u09af\\u09bc\\u09f7 \\u09aa\\u09b0\\u09bf\\u09ac\\u09be\\u09b0\\u09c7\\u09b0 \\u0986\\u09aa\\u09a8\\u09be\\u0995\\u09c7 \\u09ad\\u09be\\u09b2\\u09ac\\u09be\\u09b8\\u09bf \\u0986\\u09b6\\u09be \\u09ac\\u09c7\\u0981\\u099a\\u09c7 \\u0995\\u09a4\\u099f\\u09be \\u09b6\\u0995\\u09cd\\u09a4\\u09bf\\u09b6\\u09be\\u09b2\\u09c0 \\u09b8\\u09c1\\u09a8\\u09cd\\u09a6\\u09b0 \\u0995\\u09c0\\u09ad\\u09be\\u09ac\\u09c7 \\u09ac\\u09be\\u09b0\\u09ac\\u09be\\u09b0 \\u0985\\u09aa\\u0995\\u09b0\\u09cd\\u09ae\\u09c7\\u09b0 \\u0995\\u09cd\\u09b7\\u09ae\\u09be \\u09b0\\u09be\\u0996\\u09be\\u09b0 \\u09ac\\u09a8\\u09cd\\u09a7\\u09c1 \\u0985\\u09ac\\u09b6\\u09cd\\u09af\\u0987 \\u0986\\u09aa\\u09a8\\u09be\\u0995\\u09c7 \\u0985\\u09a8\\u09c7\\u0995\\u09ac\\u09be\\u09b0 \\u0986\\u09ac\\u09c7\\u0997\\u0997\\u09a4\\u09ad\\u09be\\u09ac\\u09c7 \\u0986\\u0998\\u09be\\u09a4 \\u0995\\u09b0\\u09c7\\u099b\\u09bf \\u0995\\u09c7\\u09ac\\u09b2 \\u099c\\u09bf\\u099c\\u09cd\\u099e\\u09be\\u09b8\\u09be \\u098f\\u0997\\u09bf\\u09af\\u09bc\\u09c7 \\u09ac\\u09a8\\u09cd\\u09a7\\u09c1\\u09a4\\u09cd\\u09ac \\u09ad\\u09be\\u09b2 \\u09ac\\u09cd\\u09af\\u0995\\u09cd\\u09a4\\u09bf\\u0995\\u09c7 \\u0996\\u09c1\\u0981\\u099c\\u09c7 \\u09aa\\u09be\\u09a8 \\u09ad\\u09be\\u09b2 \\u09ae\\u09be\\u09a8\\u09c1\\u09b7 \\u098f\\u09ae\\u09a8\\u0995\\u09bf \\u0995\\u09b0\\u09b2\\u09c7\\u0993 \\u0985\\u09ac\\u09b6\\u09c7\\u09b7\\u09c7 \\u09ae\\u09c3\\u09a4\\u09cd\\u09af\\u09c1\\u09b0 \\u0985\\u09aa\\u09c7\\u0995\\u09cd\\u09b7\\u09be \\u09a6\\u09c7\\u09ac\\u09a4\\u09be \\u0988\\u09b6\\u09cd\\u09ac\\u09b0 \\u09b6\\u09af\\u09bc\\u09a4\\u09be\\u09a8 \\u09b6\\u09c2\\u09a8\\u09cd\\u09af\\u09a4\\u09be \\u09b6\\u09c1\\u09a6\\u09cd\\u09a7\\u09a4\\u09be \\u099c\\u09be\\u09a8\\u09bf \\u0986\\u09a8\\u09a8\\u09cd\\u09a6\\u09bf\\u09a4 \\u09a4\\u09be\\u09b0\\u09be\\u09b0 \\u09a4\\u09be\\u0995\\u09be\\u09a4\\u09c7 \\u09aa\\u09c7\\u09b0\\u09c7\\u099b\\u09bf \\u09b8\\u09be\\u09a5\\u09c7 \\u09ac\\u09bf\\u099a\\u09cd\\u099b\\u09bf\\u09a8\\u09cd\\u09a8 \\u09b9\\u09af\\u09bc\\u09c7\\u099b\\u09bf \\u09b8\\u09c3\\u09b7\\u09cd\\u099f\\u09bf \\u0985\\u09a8\\u09cd\\u09ac\\u09c7\\u09b7\\u09a3 \\u0986\\u09a8\\u09cd\\u09a4\\u09b0\\u09bf\\u0995\\u09ad\\u09be\\u09ac\\u09c7\\u0986\\u09ae\\u09be\\u0995\\u09c7 \\u09b8\\u09be\\u09b2\\u09c7 \\u09a4\\u09c8\\u09b0\\u09bf \\u09aa\\u09c1\\u09b0\\u09be\\u09a8\\u09cb \\u09b8\\u09c1\\u0987\\u09b8\\u09be\\u0987\\u09a1 \\u09a8\\u09cb\\u099f \\u09aa\\u09c7\\u09af\\u09bc\\u09c7\\u099b\\u09bf \\u099c\\u09c0\\u09ac\\u09a8 \\u09ac\\u09be\\u099c\\u09c7 \\u09a5\\u09be\\u09ae\\u09bf\\u09af\\u09bc\\u09c7\\u099b\\u09c7 \\u0995\\u09c3\\u09a4\\u099c\\u09cd\\u099e \\u09b8\\u09ae\\u09b0\\u09cd\\u09a5\\u09a8 \\u09aa\\u09cd\\u09b0\\u09af\\u09bc\\u09cb\\u099c\\u09a8 \\u09af\\u09cb\\u0997\\u09be\\u09af\\u09cb\\u0997 \\u0995\\u09b0\\u09c1\\u09a8\",\n          \"\\u099c\\u09be\\u09a8\\u09c7\\u09a8 \\u0995\\u09bf\\u09ad\\u09be\\u09ac\\u09c7 \\u09a8\\u09c7\\u09a4\\u09bf\\u09ac\\u09be\\u099a\\u0995 \\u099a\\u09bf\\u09a8\\u09cd\\u09a4\\u09be \\u09aa\\u09b0\\u09bf\\u09a4\\u09cd\\u09b0\\u09be\\u09a3 \\u09aa\\u09c7\\u09a4\\u09c7 \\u09aa\\u09b0\\u09bf\\u09a4\\u09cd\\u09b0\\u09be\\u09a3 \\u09aa\\u09c7\\u09a4\\u09c7 \\u0985\\u09b8\\u09b9\\u09cd\\u09af \\u0989\\u09a0\\u099b\\u09c7 \\u099a\\u09be\\u0987 \\u0986\\u0997\\u09c7\\u09b0 \\u099c\\u09bf\\u09a8\\u09bf\\u09b8\\u0997\\u09c1\\u09b2\\u09bf \\u0995\\u09c0\\u09ad\\u09be\\u09ac\\u09c7 \\u0989\\u09aa\\u09ad\\u09cb\\u0997 \\u09ae\\u09be\\u09a5\\u09be\\u09b0 \\u09aa\\u09bf\\u099b\\u09a8\\u09c7 \\u099c\\u09cb\\u09b0\\u09c7 \\u099c\\u09cb\\u09b0\\u09c7 \\u09b6\\u09ac\\u09cd\\u09a6\\u09c7\\u09b0 \\u09a5\\u09be\\u09ae\\u09ac\\u09c7 \\u09b9\\u09be\\u0981\\u09a1\\u09bc\\u09bf \\u09aa\\u09cd\\u09af\\u09be\\u09a8 \\u098f\\u0995\\u09b8\\u09be\\u09a5\\u09c7 \\u09a0\\u09c1\\u0995\\u099b\\u09c7 \\u0985\\u09ac\\u09bf\\u09b0\\u09be\\u09ae \\u09ac\\u09be\\u099c\\u099b\\u09c7 \\u09a8\\u09c0\\u09b0\\u09ac \\u09b6\\u09c1\\u09a8\\u09a4\\u09c7 \\u09aa\\u09be\\u099a\\u09cd\\u099b\\u09c7\\u09a8 \\u09b8\\u09ac\\u09b8\\u09ae\\u09af\\u09bc \\u09ae\\u09be\\u09a5\\u09be\\u09b0 \\u09aa\\u09bf\\u099b\\u09a8\\u09c7 \\u09aa\\u09cd\\u09b0\\u09a4\\u09bf\\u099f\\u09bf \\u09af\\u09cc\\u09a8\\u09b8\\u0999\\u09cd\\u0997\\u09ae \\u0987\\u09a4\\u09bf\\u09ac\\u09be\\u099a\\u0995 \\u09b0\\u09be\\u09b6 \\u098f\\u09ae\\u09a8\\u0995\\u09bf \\u0996\\u09c1\\u09b6\\u09bf \\u09ac\\u09cb\\u09a7 \\u099c\\u09be\\u09a8\\u09bf \\u09b8\\u09c1\\u0996 \\u09b8\\u09a4\\u09cd\\u09af\\u09bf\\u0987 \\u09a6\\u09cd\\u09b0\\u09c1\\u09a4 \\u09af\\u09cc\\u09a8\\u09b8\\u0999\\u09cd\\u0997\\u09ae \\u09aa\\u09b0\\u09bf\\u09a4\\u09cd\\u09b0\\u09be\\u09a3 \\u09aa\\u09c7\\u09a4\\u09c7 \\u099a\\u09be\\u0987 \\u09b8\\u09be\\u09a5\\u09c7 \\u0995\\u09a0\\u09cb\\u09b0 \\u09b2\\u09a1\\u09bc\\u09be\\u0987 \\u0995\\u09b0\\u099b\\u09bf \\u09aa\\u09cd\\u09b0\\u09a4\\u09bf\\u09a6\\u09bf\\u09a8 \\u0995\\u09a0\\u09bf\\u09a8 \\u0995\\u09cd\\u09b0\\u09ae\\u09be\\u0997\\u09a4 \\u09a6\\u09c0\\u09b0\\u09cd\\u0998\\u09be\\u09af\\u09bc\\u09bf\\u09a4 \\u09a8\\u09c7\\u09a4\\u09bf\\u09ac\\u09be\\u099a\\u0995 \\u099a\\u09bf\\u09a8\\u09cd\\u09a4\\u09be \\u09b9\\u09a4\\u09cd\\u09af\\u09be\",\n          \"\\u09ac\\u09cd\\u09af\\u09be\\u0995\\u09b0\\u09a3 \\u09ad\\u09c1\\u09b2 \\u09a6\\u09c1\\u0983\\u0996\\u09bf\\u09a4 \\u09ad\\u09bf\\u09a1\\u09bc\\u09c7\\u09b0 \\u099f\\u09be\\u0987\\u09aa \\u0995\\u09b0\\u099b\\u09bf \\u0986\\u09ac\\u09c7\\u0997\\u09c7\\u09b0 \\u09a1\\u09be\\u09a8 \\u09ac\\u09bf\\u0995\\u09cd\\u09b7\\u09bf\\u09aa\\u09cd\\u09a4 \\u0995\\u09b0\\u099b\\u09bf \\u09b8\\u09cd\\u09ac\\u09be\\u09ad\\u09be\\u09ac\\u09bf\\u0995 \\u09ac\\u09cd\\u09af\\u0995\\u09cd\\u09a4\\u09bf \\u09ac\\u09af\\u09bc\\u09b8 \\u09aa\\u09cd\\u09b0\\u09a4\\u09cd\\u09af\\u09c7\\u0995\\u09c7\\u09b0\\u0987 \\u0987\\u09a4\\u09bf\\u09ae\\u09a7\\u09cd\\u09af\\u09c7 \\u09b8\\u09ae\\u09cd\\u09aa\\u09b0\\u09cd\\u0995\\u09c7\\u09b0 \\u09b0\\u09af\\u09bc\\u09c7\\u099b\\u09c7\\u098f\\u0995\\u099f\\u09bf \\u09ad\\u09be\\u09b2 \\u09ac\\u09a8\\u09cd\\u09a7\\u09c1 \\u0997\\u09cd\\u09b0\\u09c1\\u09aa \\u09b8\\u09be\\u09b0\\u09be \\u099c\\u09c0\\u09ac\\u09a8 \\u098f\\u09b2\\u09be\\u0995\\u09be\\u09af\\u09bc \\u09ac\\u09cd\\u09af\\u09be\\u09aa\\u0995\\u09ad\\u09be\\u09ac\\u09c7 \\u09b8\\u0982\\u0997\\u09cd\\u09b0\\u09be\\u09ae \\u0995\\u09b0\\u09c7\\u099b\\u09bf \\u09ae\\u09be\\u0993 \\u0996\\u09be\\u09b0\\u09be\\u09aa \\u09b9\\u09af\\u09bc\\u09f7 \\u09a8\\u09bf\\u09b6\\u09cd\\u099a\\u09bf\\u09a4 \\u09ae\\u09be\\u09a8\\u09c1\\u09b7 \\u099a\\u09be\\u09b0\\u09aa\\u09be\\u09b6\\u09c7 \\u0985\\u09b0\\u09cd\\u09a5\\u09aa\\u09c2\\u09b0\\u09cd\\u09a3 \\u09b8\\u09ae\\u09cd\\u09aa\\u09b0\\u09cd\\u0995 \\u09ac\\u09c7\\u0981\\u099a\\u09c7 \\u09a5\\u09be\\u0995\\u09ac \\u09ae\\u09be\\u09a8\\u09c1\\u09b7\\u09c7\\u09b0 \\u09ac\\u09c7\\u0981\\u099a\\u09c7 \\u09a5\\u09be\\u0995\\u09be\\u09b0 \\u09aa\\u09cd\\u09b0\\u09af\\u09bc\\u09cb\\u099c\\u09a8 \\u0985\\u09ac\\u09be\\u0995 \\u09b9\\u09a4\\u09be\\u09b6 \\u099f\\u09bf\\u098f\\u09b2\\u09a1\\u09bf\\u0986\\u09b0 \\u09ae\\u09be\\u09af\\u09bc\\u09c7\\u09b0 \\u09a4\\u09be\\u09b0\\u09bf\\u0996 \\u099a\\u09be\\u09aa \\u09b2\\u09cb\\u0995 \\u09ac\\u09bf\\u09af\\u09bc\\u09c7 \\u09b6\\u09c1\\u09a7\\u09c1\\u09ae\\u09be\\u09a4\\u09cd\\u09b0 \\u09ad\\u09be\\u09b2 \\u09b2\\u09cb\\u0995 \\u09ac\\u09bf\\u09b6\\u09cd\\u09ac\\u09be\\u09b8 \\u0986\\u09ac\\u0995\\u09cd\\u09b7 \\u09aa\\u09cd\\u09b0\\u09a4\\u09bf\\u09a6\\u09bf\\u09a8 \\u09b8\\u09a4\\u09cd\\u09af\\u09bf\\u0987 \\u0996\\u09be\\u09b0\\u09be\\u09aa \\u09ac\\u09af\\u09bc\\u09b8\\u09c7 \\u09ac\\u09bf\\u09af\\u09bc\\u09c7 \\u0995\\u09b0\\u099b\\u09bf \\u09b8\\u09ae\\u09cd\\u09ad\\u09be\\u09ac\\u09a8\\u09be \\u09aa\\u09be\\u09a4\\u09b2\\u09be \\u09ac\\u09bf\\u09b6\\u09cd\\u09ac\\u09be\\u09b8 \\u098f\\u0995\\u09be \\u09b6\\u09c7\\u09b7 \\u09a6\\u09c8\\u09a8\\u09a8\\u09cd\\u09a6\\u09bf\\u09a8 \\u09b8\\u09ae\\u09cd\\u09aa\\u09b0\\u09cd\\u0995\\u09c7 \\u09b8\\u09be\\u09a5\\u09c7 \\u09ae\\u09be\\u09b0\\u09be\\u09ae\\u09be\\u09b0\\u09bf \\u098f\\u09ae\\u09a8\\u0995\\u09bf \\u0985\\u09a4\\u09bf\\u09b0\\u099e\\u09cd\\u099c\\u09bf\\u09a4 \\u09b8\\u09a4\\u09cd\\u09af\\u09bf\\u0987 \\u09a8\\u09bf\\u099a\\u09c7 \\u098f\\u09ae\\u09a8\\u0995\\u09bf \\u0986\\u09a4\\u09cd\\u09ae\\u09b9\\u09a4\\u09cd\\u09af\\u09be \\u0985\\u09ac\\u09bf\\u09ac\\u09be\\u09b9\\u09bf\\u09a4 \\u0986\\u099b\\u09bf \\u0996\\u09bf\\u09a4 \\u09ae\\u09be\\u09af\\u09bc\\u09c7\\u09b0 \\u09b8\\u09ae\\u09cd\\u09aa\\u09b0\\u09cd\\u0995\\u09c7 \\u09aa\\u09cd\\u09b0\\u09a4\\u09bf\\u09a6\\u09bf\\u09a8 \\u0995\\u09a5\\u09be \\u09b0\\u09be\\u0996\\u09c7 \\u0996\\u09be\\u09b0\\u09be\\u09aa \\u09a4\\u09cb\\u09b2\\u09c7 \\u09b8\\u09a4\\u09cd\\u09af\\u09bf\\u0987 \\u09ac\\u09bf\\u09af\\u09bc\\u09c7 \\u099a\\u09be\\u0987 \\u09b6\\u09c0\\u0998\\u09cd\\u09b0\\u0987 \\u09aa\\u09b0\\u09bf\\u09ac\\u09be\\u09b0 \\u099a\\u09be\\u0987 \\u09a8\\u09bf\\u09b6\\u09cd\\u099a\\u09bf\\u09a4 \\u099a\\u09be\\u0987 \\u09b8\\u09c1\\u0996\\u09c0 \\u099c\\u09c0\\u09ac\\u09a8 \\u0995\\u09be\\u09b0\\u09a3\\u09c7\\u0987 \\u09b8\\u09ae\\u09cd\\u09aa\\u09b0\\u09cd\\u0995\\u09c7\\u09b0 \\u099b\\u09c1\\u099f\\u09c7 \\u09aa\\u09b0\\u09bf\\u09ac\\u09b0\\u09cd\\u09a4\\u09c7 \\u0996\\u09c1\\u0981\\u099c\\u09c7 \\u09ac\\u09c7\\u09b0 \\u09b8\\u09ae\\u09af\\u09bc \\u09a8\\u09bf\\u099a\\u09cd\\u099b\\u09bf \\u09a6\\u09c1\\u099c\\u09a8\\u09c7\\u0987 \\u0985\\u09b8\\u09a8\\u09cd\\u09a4\\u09c1\\u09b7\\u09cd\\u099f \\u09b9\\u09ac\\u09f7 \\u09ac\\u09be\\u09ac\\u09be \\u09af\\u09c1\\u09a6\\u09cd\\u09a7 \\u09ac\\u09bf\\u09ac\\u09be\\u09b9 \\u09a7\\u09b0\\u09a8\\u09c7\\u09b0 \\u09a5\\u09be\\u0995\\u09be\\u09b0 \\u09ad\\u09c0\\u09a4 \\u09b8\\u09be\\u09ae\\u09be\\u09a8\\u09cd\\u09af \\u0997\\u09cd\\u09b0\\u09b9\\u09a3 \\u0995\\u09b0\\u099b\\u09bf \\u0985\\u0982\\u09b6 \\u0997\\u09c1\\u09b0\\u09c1\\u09a4\\u09b0 \\u0986\\u09a4\\u09cd\\u09ae\\u09b8\\u09ae\\u09cd\\u09ae\\u09be\\u09a8 \\u09b8\\u09ae\\u09b8\\u09cd\\u09af\\u09be \\u09ad\\u09cb\\u0997\\u09be \\u09b8\\u09ac\\u099a\\u09c7\\u09af\\u09bc\\u09c7 \\u09ae\\u099c\\u09be\\u09ae\\u09b9\\u09be\\u09a8 \\u09ac\\u09cd\\u09af\\u0995\\u09cd\\u09a4\\u09bf \\u0995\\u09be\\u099b\\u09be\\u0995\\u09be\\u099b\\u09bf \\u09a8\\u09be\\u0993 \\u09aa\\u09bf\\u0995 \\u0995\\u09b0\\u099b\\u09bf \\u09ac\\u09bf\\u09af\\u09bc\\u09c7 \\u09a6\\u09b0\\u0995\\u09be\\u09b0 \\u0985\\u09b8\\u09c1\\u09b8\\u09cd\\u09a5 \\u09ac\\u09bf\\u09af\\u09bc\\u09c7 \\u0997\\u09cd\\u09b0\\u09cd\\u09af\\u09be\\u09a1 \\u09b8\\u09cd\\u0995\\u09c1\\u09b2 \\u09b6\\u09c7\\u09b7 \\u09a6\\u09c3\\u09b7\\u09cd\\u099f\\u09bf \\u09a8\\u09bf\\u09ac\\u09a6\\u09cd\\u09a7 \\u0995\\u09b0\\u099b\\u09bf \\u09aa\\u09b0\\u09c7\\u09b0 \\u09ae\\u09be\\u09b8\\u09c7 \\u0986\\u09a8\\u09c1\\u09b7\\u09cd\\u09a0\\u09be\\u09a8\\u09bf\\u0995\\u09ad\\u09be\\u09ac\\u09c7 \\u09b8\\u09cd\\u09a8\\u09be\\u09a4\\u0995 \\u09b8\\u09a8\\u09cd\\u09a7\\u09be\\u09a8 \\u099a\\u09be\\u0987 \\u0998\\u09c2\\u09b0\\u09cd\\u09a3\\u09a8 \\u09ac\\u09b0\\u09cd\\u0997 \\u0995\\u09a0\\u09bf\\u09a8 \\u09b8\\u09ae\\u09af\\u09bc \\u0997\\u09cd\\u09b0\\u09be\\u09b8\\u0995\\u09be\\u09b0\\u09c0 \\u09ae\\u09c1\\u09b9\\u09c2\\u09b0\\u09cd\\u09a4\\u09c7 \\u09ab\\u09cb\\u0995\\u09be\\u09b8 \\u099a\\u09be\\u0987 \\u09ae\\u09be \\u09ac\\u09bf\\u09af\\u09bc\\u09c7 \\u09b8\\u09ae\\u09cd\\u09aa\\u09cd\\u09b0\\u09a6\\u09be\\u09af\\u09bc\\u09c7\\u09b0 \\u09ac\\u09c7\\u09b6\\u09bf\\u09b0\\u09ad\\u09be\\u0997 \\u099b\\u09c7\\u09b2\\u09c7\\u09b0\\u09be \\u09ac\\u09af\\u09bc\\u09b8 \\u09ac\\u09bf\\u09ac\\u09be\\u09b9\\u09bf\\u09a4 \\u098f\\u09ae\\u09a8\\u0995\\u09bf \\u0996\\u09c1\\u0981\\u099c\\u099b\\u09c7\\u09a8 \\u099b\\u09cb\\u099f \\u09ae\\u09c7\\u09af\\u09bc\\u09c7\\u09a6\\u09c7\\u09b0 \\u09ac\\u09af\\u09bc\\u09b8\\u09c7 \\u09b8\\u09ae\\u09cd\\u09aa\\u09cd\\u09b0\\u09a6\\u09be\\u09af\\u09bc\\u09c7\\u09b0 \\u0995\\u09cd\\u09b7\\u09a4\\u09bf\\u0997\\u09cd\\u09b0\\u09b8\\u09cd\\u09a4 \\u09aa\\u09a3\\u09cd\\u09af\\u09c7\\u09b0 \\u0985\\u09ac\\u09bf\\u09ac\\u09be\\u09b9\\u09bf\\u09a4 \\u09af\\u09c7\\u09b9\\u09c7\\u09a4\\u09c1 \\u09b8\\u09ae\\u09cd\\u09aa\\u09c2\\u09b0\\u09cd\\u09a3 \\u0985\\u0996\\u09be\\u09a6\\u09cd\\u09af \\u09ac\\u09be\\u09ac\\u09be \\u09af\\u09c1\\u09a6\\u09cd\\u09a7 \\u09ad\\u09af\\u09bc\\u09be\\u09a8\\u0995 \\u09ac\\u09bf\\u09ac\\u09be\\u09b9 \\u09ac\\u09bf\\u09af\\u09bc\\u09c7 \\u098f\\u0995\\u099f\\u09c1 \\u09ad\\u09af\\u09bc \\u09aa\\u09be\\u0987 \\u09b8\\u09a0\\u09bf\\u0995 \\u0996\\u09c1\\u0981\\u099c\\u09c7 \\u09a8\\u09bf \\u09ae\\u09be\\u09af\\u09bc\\u09c7\\u09b0 \\u098f\\u099b\\u09be\\u09a1\\u09bc\\u09be\\u0993 \\u09ac\\u09bf\\u09ac\\u09be\\u09b9\\u09c7\\u09b0 \\u09b8\\u09be\\u0987\\u099f\\u09c7 \\u09b8\\u09be\\u0987\\u09a8 \\u0985\\u09a8\\u09c1\\u09ae\\u09a4\\u09bf \\u09a8\\u09bf\\u09b0\\u09cd\\u09a6\\u09bf\\u09b7\\u09cd\\u099f \\u09ac\\u09b2\\u099b\\u09bf \\u0985\\u09a8\\u09c1\\u09b0\\u09cb\\u09a7 \\u09aa\\u09be\\u09a0\\u09be\\u09af\\u09bc \\u0985\\u09ad\\u09bf\\u09af\\u09cb\\u0997 \\u09aa\\u099b\\u09a8\\u09cd\\u09a6 \\u09ac\\u09c7\\u09b6\\u09bf\\u09b0\\u09ad\\u09be\\u0997\\u0987 \\u09ad\\u09be\\u09b0\\u09a4\\u09c7 \\u099c\\u09a8\\u09cd\\u09ae\\u0997\\u09cd\\u09b0\\u09b9\\u09a3 \\u09ac\\u09c7\\u09a1\\u09bc\\u09c7 \\u0993\\u09a0\\u09c7 \\u09ae\\u09be\\u09a8\\u09b8\\u09bf\\u0995\\u09a4\\u09be \\u09ad\\u09be\\u0997 \\u0985\\u09ad\\u09bf\\u09af\\u09cb\\u0997 \\u09aa\\u09bf\\u0995 \\u09aa\\u09c1\\u09b0\\u09be\\u09a8\\u09cb \\u0989\\u09aa\\u09af\\u09c1\\u0995\\u09cd\\u09a4 \\u09ae\\u09cd\\u09af\\u09be\\u099a \\u09b2\\u09cb\\u0995 \\u09b8\\u09cd\\u09ac\\u09be\\u09b8\\u09cd\\u09a5\\u09cd\\u09af \\u09b8\\u09ae\\u09b8\\u09cd\\u09af\\u09be \\u09ad\\u09cb\\u0997\\u09be \\u09ac\\u09b2\\u099b\\u09c7\\u09a8 \\u09ae\\u09be \\u09ac\\u09b2\\u09c7\\u099b\\u09bf\\u09b2\\u09c7\\u09a8 \\u09ac\\u09bf\\u09b0\\u0995\\u09cd\\u09a4 \\u09b2\\u09cb\\u0995\\u0995\\u09c7 \\u09aa\\u099b\\u09a8\\u09cd\\u09a6 \\u098f\\u09ae\\u09a8\\u0995\\u09bf \\u099c\\u09bf\\u099c\\u09cd\\u099e\\u09be\\u09b8\\u09be \\u09b2\\u09c7\\u09b8\\u09ac\\u09bf\\u09af\\u09bc\\u09be\\u09a8 \\u0985\\u09a4\\u09cd\\u09af\\u09a8\\u09cd\\u09a4 \\u0995\\u09cd\\u09b7\\u09a4\\u09bf\\u0995\\u09b0 \\u09b8\\u09cd\\u09aa\\u09b7\\u09cd\\u099f\\u09ad\\u09be\\u09ac\\u09c7 \\u09b8\\u09a4\\u09cd\\u09af \\u0986\\u0995\\u09cd\\u09b7\\u09b0\\u09bf\\u0995 \\u09b8\\u09ae\\u09cd\\u09aa\\u09b0\\u09cd\\u0995\\u09c7 \\u09aa\\u09cd\\u09b0\\u09a4\\u09bf\\u09a6\\u09bf\\u09a8 \\u09b8\\u09be\\u09a5\\u09c7 \\u09a4\\u09b0\\u09cd\\u0995 \\u09ae\\u09c1\\u09b9\\u09c2\\u09b0\\u09cd\\u09a4\\u09c7 \\u0996\\u09bf\\u09a4 \\u09ac\\u09be\\u0981\\u099a\\u09a4\\u09c7 \\u099a\\u09be\\u0987\"\n        ],\n        \"semantic_type\": \"\",\n        \"description\": \"\"\n      }\n    },\n    {\n      \"column\": \"text_banglish\",\n      \"properties\": {\n        \"dtype\": \"string\",\n        \"num_unique_values\": 21904,\n        \"samples\": [\n          \"notati likhechilama mara yai hayechi kshama chaite chai byakti anubhuti ediye anandita birakta janena ghanishtha samparka tairi byatha edate jibanera dika bilamba etike emanabhabe dekhai kathora parishrami lokedera sathe bandhutba chai samagrikabhabe shunyataya mlana chai\\u09f7 jani kina sabasamaya chilama ghatana ghatechila bishbasa pachanda shudhumatra sachetana chintadharara karechi anyadera kshati bahyika karanagulira karane naya\\u09f7 paribarera apanake bhalabasi asha benche katata shaktishali sundara kibhabe barabara apakarmera kshama rakhara bandhu abashyai apanake anekabara abegagatabhabe aghata karechi kebala jijnasa egiye bandhutba bhala byaktike khunje pana bhala manusha emanaki karaleo abasheshe mrityura apeksha debata ishbara shayatana shunyata shuddhata jani anandita tarara takate perechi sathe bichchinna hayechi srishti anbeshana antarikabhabeamake sale tairi purano suisaida nota peyechi jibana baje thamiyeche kritajna samarthana prayojana yogayoga karuna\",\n          \"janena kibhabe netibachaka chinta paritrana pete paritrana pete asahya uthache chai agera jinisaguli kibhabe upabhoga mathara pichane jore jore shabdera thamabe handi pyana ekasathe thukache abirama bajache niraba shunate pachchena sabasamaya mathara pichane pratiti yaunasangama itibachaka rasha emanaki khushi bodha jani sukha satyii druta yaunasangama paritrana pete chai sathe kathora ladai karachi pratidina kathina kramagata dirghayita netibachaka chinta hatya\",\n          \"byakarana bhula duhkhita bhidera taipa karachi abegera dana bikshipta karachi sbabhabika byakti bayasa pratyekerai itimadhye samparkera rayecheekati bhala bandhu grupa sara jibana elakaya byapakabhabe samgrama karechi mao kharapa haya\\u09f7 nishchita manusha charapashe arthapurna samparka benche thakaba manushera benche thakara prayojana abaka hatasha tieladiara mayera tarikha chapa loka biye shudhumatra bhala loka bishbasa abaksha pratidina satyii kharapa bayase biye karachi sambhabana patala bishbasa eka shesha dainandina samparke sathe maramari emanaki atiranjita satyii niche emanaki atmahatya abibahita achi khita mayera samparke pratidina katha rakhe kharapa tole satyii biye chai shighrai paribara chai nishchita chai sukhi jibana karanei samparkera chute paribarte khunje bera samaya nichchi dujanei asantushta haba\\u09f7 baba yuddha bibaha dharanera thakara bhita samanya grahana karachi amsha gurutara atmasammana samasya bhoga sabacheye majamahana byakti kachakachi nao pika karachi biye darakara asustha biye gryada skula shesha drishti nibaddha karachi parera mase anushthanikabhabe snataka sandhana chai ghurnana barga kathina samaya grasakari muhurte phokasa chai ma biye sampradayera beshirabhaga chelera bayasa bibahita emanaki khunjachena chota meyedera bayase sampradayera kshatigrasta panyera abibahita yehetu sampurna akhadya baba yuddha bhayanaka bibaha biye ekatu bhaya pai sathika khunje ni mayera echadao bibahera saite saina anumati nirdishta balachi anurodha pathaya abhiyoga pachanda beshirabhagai bharate janmagrahana bede othe manasikata bhaga abhiyoga pika purano upayukta myacha loka sbasthya samasya bhoga balachena ma balechilena birakta lokake pachanda emanaki jijnasa lesabiyana atyanta kshatikara spashtabhabe satya aksharika samparke pratidina sathe tarka muhurte khita banchate chai\"\n        ],\n        \"semantic_type\": \"\",\n        \"description\": \"\"\n      }\n    },\n    {\n      \"column\": \"label\",\n      \"properties\": {\n        \"dtype\": \"number\",\n        \"std\": 0,\n        \"min\": 0,\n        \"max\": 1,\n        \"num_unique_values\": 2,\n        \"samples\": [\n          0,\n          1\n        ],\n        \"semantic_type\": \"\",\n        \"description\": \"\"\n      }\n    }\n  ]\n}",
              "type": "dataframe",
              "variable_name": "df"
            },
            "text/html": [
              "\n",
              "  <div id=\"df-a8cf6236-320a-4337-bc72-cb70e803dda3\" class=\"colab-df-container\">\n",
              "    <div>\n",
              "<style scoped>\n",
              "    .dataframe tbody tr th:only-of-type {\n",
              "        vertical-align: middle;\n",
              "    }\n",
              "\n",
              "    .dataframe tbody tr th {\n",
              "        vertical-align: top;\n",
              "    }\n",
              "\n",
              "    .dataframe thead th {\n",
              "        text-align: right;\n",
              "    }\n",
              "</style>\n",
              "<table border=\"1\" class=\"dataframe\">\n",
              "  <thead>\n",
              "    <tr style=\"text-align: right;\">\n",
              "      <th></th>\n",
              "      <th>text_bengali</th>\n",
              "      <th>text_banglish</th>\n",
              "      <th>label</th>\n",
              "    </tr>\n",
              "  </thead>\n",
              "  <tbody>\n",
              "    <tr>\n",
              "      <th>0</th>\n",
              "      <td>মানসিক শারীরিকভাবে অসুস্থ ক্লান্ত পুরো জীবন শা...</td>\n",
              "      <td>manasika sharirikabhabe asustha klanta puro ji...</td>\n",
              "      <td>1</td>\n",
              "    </tr>\n",
              "    <tr>\n",
              "      <th>1</th>\n",
              "      <td>দয়া সাথে থাকুন অত্যন্ত দীর্ঘ আপনাকে পড়তে উত্...</td>\n",
              "      <td>daya sathe thakuna atyanta dirgha apanake pada...</td>\n",
              "      <td>1</td>\n",
              "    </tr>\n",
              "    <tr>\n",
              "      <th>2</th>\n",
              "      <td>জানতাম সাথে ভুল লোক খারাপ জীবন কাটিয়েছে সম্পূ...</td>\n",
              "      <td>janatama sathe bhula loka kharapa jibana katiy...</td>\n",
              "      <td>1</td>\n",
              "    </tr>\n",
              "    <tr>\n",
              "      <th>3</th>\n",
              "      <td>অনেটিভ ইংরেজি স্পিকারের অনুসরণ বিরক্তিকর অপ্রত...</td>\n",
              "      <td>anetibha imreji spikarera anusarana biraktikar...</td>\n",
              "      <td>1</td>\n",
              "    </tr>\n",
              "    <tr>\n",
              "      <th>4</th>\n",
              "      <td>অনেটিভ ইংরেজি স্পিকারের অনুসরণ বিরক্তিকর অপ্রত...</td>\n",
              "      <td>anetibha imreji spikarera anusarana biraktikar...</td>\n",
              "      <td>1</td>\n",
              "    </tr>\n",
              "  </tbody>\n",
              "</table>\n",
              "</div>\n",
              "    <div class=\"colab-df-buttons\">\n",
              "\n",
              "  <div class=\"colab-df-container\">\n",
              "    <button class=\"colab-df-convert\" onclick=\"convertToInteractive('df-a8cf6236-320a-4337-bc72-cb70e803dda3')\"\n",
              "            title=\"Convert this dataframe to an interactive table.\"\n",
              "            style=\"display:none;\">\n",
              "\n",
              "  <svg xmlns=\"http://www.w3.org/2000/svg\" height=\"24px\" viewBox=\"0 -960 960 960\">\n",
              "    <path d=\"M120-120v-720h720v720H120Zm60-500h600v-160H180v160Zm220 220h160v-160H400v160Zm0 220h160v-160H400v160ZM180-400h160v-160H180v160Zm440 0h160v-160H620v160ZM180-180h160v-160H180v160Zm440 0h160v-160H620v160Z\"/>\n",
              "  </svg>\n",
              "    </button>\n",
              "\n",
              "  <style>\n",
              "    .colab-df-container {\n",
              "      display:flex;\n",
              "      gap: 12px;\n",
              "    }\n",
              "\n",
              "    .colab-df-convert {\n",
              "      background-color: #E8F0FE;\n",
              "      border: none;\n",
              "      border-radius: 50%;\n",
              "      cursor: pointer;\n",
              "      display: none;\n",
              "      fill: #1967D2;\n",
              "      height: 32px;\n",
              "      padding: 0 0 0 0;\n",
              "      width: 32px;\n",
              "    }\n",
              "\n",
              "    .colab-df-convert:hover {\n",
              "      background-color: #E2EBFA;\n",
              "      box-shadow: 0px 1px 2px rgba(60, 64, 67, 0.3), 0px 1px 3px 1px rgba(60, 64, 67, 0.15);\n",
              "      fill: #174EA6;\n",
              "    }\n",
              "\n",
              "    .colab-df-buttons div {\n",
              "      margin-bottom: 4px;\n",
              "    }\n",
              "\n",
              "    [theme=dark] .colab-df-convert {\n",
              "      background-color: #3B4455;\n",
              "      fill: #D2E3FC;\n",
              "    }\n",
              "\n",
              "    [theme=dark] .colab-df-convert:hover {\n",
              "      background-color: #434B5C;\n",
              "      box-shadow: 0px 1px 3px 1px rgba(0, 0, 0, 0.15);\n",
              "      filter: drop-shadow(0px 1px 2px rgba(0, 0, 0, 0.3));\n",
              "      fill: #FFFFFF;\n",
              "    }\n",
              "  </style>\n",
              "\n",
              "    <script>\n",
              "      const buttonEl =\n",
              "        document.querySelector('#df-a8cf6236-320a-4337-bc72-cb70e803dda3 button.colab-df-convert');\n",
              "      buttonEl.style.display =\n",
              "        google.colab.kernel.accessAllowed ? 'block' : 'none';\n",
              "\n",
              "      async function convertToInteractive(key) {\n",
              "        const element = document.querySelector('#df-a8cf6236-320a-4337-bc72-cb70e803dda3');\n",
              "        const dataTable =\n",
              "          await google.colab.kernel.invokeFunction('convertToInteractive',\n",
              "                                                    [key], {});\n",
              "        if (!dataTable) return;\n",
              "\n",
              "        const docLinkHtml = 'Like what you see? Visit the ' +\n",
              "          '<a target=\"_blank\" href=https://colab.research.google.com/notebooks/data_table.ipynb>data table notebook</a>'\n",
              "          + ' to learn more about interactive tables.';\n",
              "        element.innerHTML = '';\n",
              "        dataTable['output_type'] = 'display_data';\n",
              "        await google.colab.output.renderOutput(dataTable, element);\n",
              "        const docLink = document.createElement('div');\n",
              "        docLink.innerHTML = docLinkHtml;\n",
              "        element.appendChild(docLink);\n",
              "      }\n",
              "    </script>\n",
              "  </div>\n",
              "\n",
              "\n",
              "    <div id=\"df-6d7e3ecc-4eb4-4a3f-993b-f4a142570e8a\">\n",
              "      <button class=\"colab-df-quickchart\" onclick=\"quickchart('df-6d7e3ecc-4eb4-4a3f-993b-f4a142570e8a')\"\n",
              "                title=\"Suggest charts\"\n",
              "                style=\"display:none;\">\n",
              "\n",
              "<svg xmlns=\"http://www.w3.org/2000/svg\" height=\"24px\"viewBox=\"0 0 24 24\"\n",
              "     width=\"24px\">\n",
              "    <g>\n",
              "        <path d=\"M19 3H5c-1.1 0-2 .9-2 2v14c0 1.1.9 2 2 2h14c1.1 0 2-.9 2-2V5c0-1.1-.9-2-2-2zM9 17H7v-7h2v7zm4 0h-2V7h2v10zm4 0h-2v-4h2v4z\"/>\n",
              "    </g>\n",
              "</svg>\n",
              "      </button>\n",
              "\n",
              "<style>\n",
              "  .colab-df-quickchart {\n",
              "      --bg-color: #E8F0FE;\n",
              "      --fill-color: #1967D2;\n",
              "      --hover-bg-color: #E2EBFA;\n",
              "      --hover-fill-color: #174EA6;\n",
              "      --disabled-fill-color: #AAA;\n",
              "      --disabled-bg-color: #DDD;\n",
              "  }\n",
              "\n",
              "  [theme=dark] .colab-df-quickchart {\n",
              "      --bg-color: #3B4455;\n",
              "      --fill-color: #D2E3FC;\n",
              "      --hover-bg-color: #434B5C;\n",
              "      --hover-fill-color: #FFFFFF;\n",
              "      --disabled-bg-color: #3B4455;\n",
              "      --disabled-fill-color: #666;\n",
              "  }\n",
              "\n",
              "  .colab-df-quickchart {\n",
              "    background-color: var(--bg-color);\n",
              "    border: none;\n",
              "    border-radius: 50%;\n",
              "    cursor: pointer;\n",
              "    display: none;\n",
              "    fill: var(--fill-color);\n",
              "    height: 32px;\n",
              "    padding: 0;\n",
              "    width: 32px;\n",
              "  }\n",
              "\n",
              "  .colab-df-quickchart:hover {\n",
              "    background-color: var(--hover-bg-color);\n",
              "    box-shadow: 0 1px 2px rgba(60, 64, 67, 0.3), 0 1px 3px 1px rgba(60, 64, 67, 0.15);\n",
              "    fill: var(--button-hover-fill-color);\n",
              "  }\n",
              "\n",
              "  .colab-df-quickchart-complete:disabled,\n",
              "  .colab-df-quickchart-complete:disabled:hover {\n",
              "    background-color: var(--disabled-bg-color);\n",
              "    fill: var(--disabled-fill-color);\n",
              "    box-shadow: none;\n",
              "  }\n",
              "\n",
              "  .colab-df-spinner {\n",
              "    border: 2px solid var(--fill-color);\n",
              "    border-color: transparent;\n",
              "    border-bottom-color: var(--fill-color);\n",
              "    animation:\n",
              "      spin 1s steps(1) infinite;\n",
              "  }\n",
              "\n",
              "  @keyframes spin {\n",
              "    0% {\n",
              "      border-color: transparent;\n",
              "      border-bottom-color: var(--fill-color);\n",
              "      border-left-color: var(--fill-color);\n",
              "    }\n",
              "    20% {\n",
              "      border-color: transparent;\n",
              "      border-left-color: var(--fill-color);\n",
              "      border-top-color: var(--fill-color);\n",
              "    }\n",
              "    30% {\n",
              "      border-color: transparent;\n",
              "      border-left-color: var(--fill-color);\n",
              "      border-top-color: var(--fill-color);\n",
              "      border-right-color: var(--fill-color);\n",
              "    }\n",
              "    40% {\n",
              "      border-color: transparent;\n",
              "      border-right-color: var(--fill-color);\n",
              "      border-top-color: var(--fill-color);\n",
              "    }\n",
              "    60% {\n",
              "      border-color: transparent;\n",
              "      border-right-color: var(--fill-color);\n",
              "    }\n",
              "    80% {\n",
              "      border-color: transparent;\n",
              "      border-right-color: var(--fill-color);\n",
              "      border-bottom-color: var(--fill-color);\n",
              "    }\n",
              "    90% {\n",
              "      border-color: transparent;\n",
              "      border-bottom-color: var(--fill-color);\n",
              "    }\n",
              "  }\n",
              "</style>\n",
              "\n",
              "      <script>\n",
              "        async function quickchart(key) {\n",
              "          const quickchartButtonEl =\n",
              "            document.querySelector('#' + key + ' button');\n",
              "          quickchartButtonEl.disabled = true;  // To prevent multiple clicks.\n",
              "          quickchartButtonEl.classList.add('colab-df-spinner');\n",
              "          try {\n",
              "            const charts = await google.colab.kernel.invokeFunction(\n",
              "                'suggestCharts', [key], {});\n",
              "          } catch (error) {\n",
              "            console.error('Error during call to suggestCharts:', error);\n",
              "          }\n",
              "          quickchartButtonEl.classList.remove('colab-df-spinner');\n",
              "          quickchartButtonEl.classList.add('colab-df-quickchart-complete');\n",
              "        }\n",
              "        (() => {\n",
              "          let quickchartButtonEl =\n",
              "            document.querySelector('#df-6d7e3ecc-4eb4-4a3f-993b-f4a142570e8a button');\n",
              "          quickchartButtonEl.style.display =\n",
              "            google.colab.kernel.accessAllowed ? 'block' : 'none';\n",
              "        })();\n",
              "      </script>\n",
              "    </div>\n",
              "\n",
              "    </div>\n",
              "  </div>\n"
            ],
            "text/plain": [
              "                                        text_bengali  \\\n",
              "0  মানসিক শারীরিকভাবে অসুস্থ ক্লান্ত পুরো জীবন শা...   \n",
              "1  দয়া সাথে থাকুন অত্যন্ত দীর্ঘ আপনাকে পড়তে উত্...   \n",
              "2  জানতাম সাথে ভুল লোক খারাপ জীবন কাটিয়েছে সম্পূ...   \n",
              "3  অনেটিভ ইংরেজি স্পিকারের অনুসরণ বিরক্তিকর অপ্রত...   \n",
              "4  অনেটিভ ইংরেজি স্পিকারের অনুসরণ বিরক্তিকর অপ্রত...   \n",
              "\n",
              "                                       text_banglish  label  \n",
              "0  manasika sharirikabhabe asustha klanta puro ji...      1  \n",
              "1  daya sathe thakuna atyanta dirgha apanake pada...      1  \n",
              "2  janatama sathe bhula loka kharapa jibana katiy...      1  \n",
              "3  anetibha imreji spikarera anusarana biraktikar...      1  \n",
              "4  anetibha imreji spikarera anusarana biraktikar...      1  "
            ]
          },
          "execution_count": 5,
          "metadata": {},
          "output_type": "execute_result"
        }
      ],
      "source": [
        "df.head()"
      ]
    },
    {
      "cell_type": "code",
      "execution_count": 2,
      "metadata": {
        "colab": {
          "base_uri": "https://localhost:8080/",
          "height": 714
        },
        "id": "4L9NSDlHvN-4",
        "outputId": "31ef8591-a7d4-40ff-bb1b-da54a48ca542"
      },
      "outputs": [
        {
          "name": "stdout",
          "output_type": "stream",
          "text": [
            "Collecting gensim\n",
            "  Downloading gensim-4.3.3-cp312-cp312-manylinux_2_17_x86_64.manylinux2014_x86_64.whl.metadata (8.1 kB)\n",
            "Collecting numpy<2.0,>=1.18.5 (from gensim)\n",
            "  Downloading numpy-1.26.4-cp312-cp312-manylinux_2_17_x86_64.manylinux2014_x86_64.whl.metadata (61 kB)\n",
            "\u001b[2K     \u001b[90m━━━━━━━━━━━━━━━━━━━━━━━━━━━━━━━━━━━━━━━━\u001b[0m \u001b[32m61.0/61.0 kB\u001b[0m \u001b[31m2.3 MB/s\u001b[0m eta \u001b[36m0:00:00\u001b[0m\n",
            "\u001b[?25hCollecting scipy<1.14.0,>=1.7.0 (from gensim)\n",
            "  Downloading scipy-1.13.1-cp312-cp312-manylinux_2_17_x86_64.manylinux2014_x86_64.whl.metadata (60 kB)\n",
            "\u001b[2K     \u001b[90m━━━━━━━━━━━━━━━━━━━━━━━━━━━━━━━━━━━━━━━━\u001b[0m \u001b[32m60.6/60.6 kB\u001b[0m \u001b[31m3.3 MB/s\u001b[0m eta \u001b[36m0:00:00\u001b[0m\n",
            "\u001b[?25hRequirement already satisfied: smart-open>=1.8.1 in /usr/local/lib/python3.12/dist-packages (from gensim) (7.3.1)\n",
            "Requirement already satisfied: wrapt in /usr/local/lib/python3.12/dist-packages (from smart-open>=1.8.1->gensim) (1.17.3)\n",
            "Downloading gensim-4.3.3-cp312-cp312-manylinux_2_17_x86_64.manylinux2014_x86_64.whl (26.6 MB)\n",
            "\u001b[2K   \u001b[90m━━━━━━━━━━━━━━━━━━━━━━━━━━━━━━━━━━━━━━━━\u001b[0m \u001b[32m26.6/26.6 MB\u001b[0m \u001b[31m62.8 MB/s\u001b[0m eta \u001b[36m0:00:00\u001b[0m\n",
            "\u001b[?25hDownloading numpy-1.26.4-cp312-cp312-manylinux_2_17_x86_64.manylinux2014_x86_64.whl (18.0 MB)\n",
            "\u001b[2K   \u001b[90m━━━━━━━━━━━━━━━━━━━━━━━━━━━━━━━━━━━━━━━━\u001b[0m \u001b[32m18.0/18.0 MB\u001b[0m \u001b[31m76.1 MB/s\u001b[0m eta \u001b[36m0:00:00\u001b[0m\n",
            "\u001b[?25hDownloading scipy-1.13.1-cp312-cp312-manylinux_2_17_x86_64.manylinux2014_x86_64.whl (38.2 MB)\n",
            "\u001b[2K   \u001b[90m━━━━━━━━━━━━━━━━━━━━━━━━━━━━━━━━━━━━━━━━\u001b[0m \u001b[32m38.2/38.2 MB\u001b[0m \u001b[31m13.5 MB/s\u001b[0m eta \u001b[36m0:00:00\u001b[0m\n",
            "\u001b[?25hInstalling collected packages: numpy, scipy, gensim\n",
            "  Attempting uninstall: numpy\n",
            "    Found existing installation: numpy 2.0.2\n",
            "    Uninstalling numpy-2.0.2:\n",
            "      Successfully uninstalled numpy-2.0.2\n",
            "  Attempting uninstall: scipy\n",
            "    Found existing installation: scipy 1.16.2\n",
            "    Uninstalling scipy-1.16.2:\n",
            "      Successfully uninstalled scipy-1.16.2\n",
            "\u001b[31mERROR: pip's dependency resolver does not currently take into account all the packages that are installed. This behaviour is the source of the following dependency conflicts.\n",
            "opencv-python 4.12.0.88 requires numpy<2.3.0,>=2; python_version >= \"3.9\", but you have numpy 1.26.4 which is incompatible.\n",
            "opencv-contrib-python 4.12.0.88 requires numpy<2.3.0,>=2; python_version >= \"3.9\", but you have numpy 1.26.4 which is incompatible.\n",
            "opencv-python-headless 4.12.0.88 requires numpy<2.3.0,>=2; python_version >= \"3.9\", but you have numpy 1.26.4 which is incompatible.\n",
            "tsfresh 0.21.1 requires scipy>=1.14.0; python_version >= \"3.10\", but you have scipy 1.13.1 which is incompatible.\n",
            "thinc 8.3.6 requires numpy<3.0.0,>=2.0.0, but you have numpy 1.26.4 which is incompatible.\u001b[0m\u001b[31m\n",
            "\u001b[0mSuccessfully installed gensim-4.3.3 numpy-1.26.4 scipy-1.13.1\n"
          ]
        },
        {
          "data": {
            "application/vnd.colab-display-data+json": {
              "id": "12d2ba38860346578711bbcb16173426",
              "pip_warning": {
                "packages": [
                  "numpy",
                  "scipy"
                ]
              }
            }
          },
          "metadata": {},
          "output_type": "display_data"
        }
      ],
      "source": [
        "! pip install gensim"
      ]
    },
    {
      "cell_type": "code",
      "execution_count": 7,
      "metadata": {
        "colab": {
          "base_uri": "https://localhost:8080/"
        },
        "id": "6soMgKhou_53",
        "outputId": "2656b4d2-4615-4b02-d137-1b1d21b596c6"
      },
      "outputs": [
        {
          "name": "stderr",
          "output_type": "stream",
          "text": [
            "[nltk_data] Downloading package punkt to /root/nltk_data...\n",
            "[nltk_data]   Package punkt is already up-to-date!\n"
          ]
        },
        {
          "name": "stdout",
          "output_type": "stream",
          "text": [
            "Drive already mounted at /content/drive; to attempt to forcibly remount, call drive.mount(\"/content/drive\", force_remount=True).\n"
          ]
        }
      ],
      "source": [
        "import numpy as np\n",
        "import pandas as pd\n",
        "import re\n",
        "import nltk\n",
        "from nltk.tokenize import word_tokenize\n",
        "\n",
        "from gensim.models import Word2Vec\n",
        "\n",
        "from sklearn.model_selection import train_test_split\n",
        "from sklearn.metrics import accuracy_score, precision_score, recall_score, f1_score, classification_report\n",
        "\n",
        "import tensorflow as tf\n",
        "from tensorflow.keras.preprocessing.text import Tokenizer\n",
        "from tensorflow.keras.preprocessing.sequence import pad_sequences\n",
        "from tensorflow.keras.models import Sequential\n",
        "from tensorflow.keras.layers import Embedding, Bidirectional, GRU, Dense, Dropout\n",
        "from tensorflow.keras.callbacks import EarlyStopping\n",
        "\n",
        "# For complexity analysis\n",
        "import time\n",
        "import os\n",
        "\n",
        "# The correct resource name is 'punkt'\n",
        "nltk.download('punkt')\n",
        "\n",
        "# Mount Google Drive\n",
        "from google.colab import drive\n",
        "drive.mount('/content/drive')"
      ]
    },
    {
      "cell_type": "code",
      "execution_count": 11,
      "metadata": {
        "colab": {
          "base_uri": "https://localhost:8080/"
        },
        "id": "zOhu_9VwvB4C",
        "outputId": "87ef9193-ea3b-470e-d8fa-36ad62c59b69"
      },
      "outputs": [
        {
          "name": "stdout",
          "output_type": "stream",
          "text": [
            "DataFrame after preprocessing and tokenization:\n",
            "                                       text_banglish  \\\n",
            "0  manasika sharirikabhabe asustha klanta puro ji...   \n",
            "1  daya sathe thakuna atyanta dirgha apanake pada...   \n",
            "2  janatama sathe bhula loka kharapa jibana katiy...   \n",
            "3  anetibha imreji spikarera anusarana biraktikar...   \n",
            "4  anetibha imreji spikarera anusarana biraktikar...   \n",
            "\n",
            "                                        cleaned_text  \\\n",
            "0  manasika sharirikabhabe asustha klanta puro ji...   \n",
            "1  daya sathe thakuna atyanta dirgha apanake pada...   \n",
            "2  janatama sathe bhula loka kharapa jibana katiy...   \n",
            "3  anetibha imreji spikarera anusarana biraktikar...   \n",
            "4  anetibha imreji spikarera anusarana biraktikar...   \n",
            "\n",
            "                                      tokenized_text  label  \n",
            "0  [manasika, sharirikabhabe, asustha, klanta, pu...      1  \n",
            "1  [daya, sathe, thakuna, atyanta, dirgha, apanak...      1  \n",
            "2  [janatama, sathe, bhula, loka, kharapa, jibana...      1  \n",
            "3  [anetibha, imreji, spikarera, anusarana, birak...      1  \n",
            "4  [anetibha, imreji, spikarera, anusarana, birak...      1  \n",
            "\n",
            "Dataset Info:\n",
            "<class 'pandas.core.frame.DataFrame'>\n",
            "RangeIndex: 21910 entries, 0 to 21909\n",
            "Data columns (total 5 columns):\n",
            " #   Column          Non-Null Count  Dtype \n",
            "---  ------          --------------  ----- \n",
            " 0   text_bengali    21910 non-null  object\n",
            " 1   text_banglish   21910 non-null  object\n",
            " 2   label           21910 non-null  int64 \n",
            " 3   cleaned_text    21910 non-null  object\n",
            " 4   tokenized_text  21910 non-null  object\n",
            "dtypes: int64(1), object(4)\n",
            "memory usage: 856.0+ KB\n"
          ]
        }
      ],
      "source": [
        "# 1. Load the dataset\n",
        "file_path = '/content/drive/MyDrive/Depression detection dataset/BSMDD_main.xlsx'\n",
        "df = pd.read_excel(file_path)\n",
        "\n",
        "# Drop any rows with missing text\n",
        "df.dropna(subset=['text_banglish'], inplace=True)\n",
        "df.reset_index(drop=True, inplace=True)\n",
        "\n",
        "\n",
        "# 2. Define a text preprocessing function\n",
        "def preprocess_text(text):\n",
        "    text = str(text).lower()  # Convert to lowercase, ensure it's a string\n",
        "    text = re.sub(r'[^a-z\\s]', '', text) # Remove punctuation, numbers, and special characters\n",
        "    text = re.sub(r'\\s+', ' ', text).strip() # Remove extra whitespace\n",
        "    return text\n",
        "\n",
        "# 3. Apply the preprocessing function\n",
        "df['cleaned_text'] = df['text_banglish'].apply(preprocess_text)\n",
        "\n",
        "# 4. Tokenize the text using a simple split\n",
        "df['tokenized_text'] = df['cleaned_text'].apply(lambda x: x.split())\n",
        "\n",
        "# Display the first few rows with the new columns\n",
        "print(\"DataFrame after preprocessing and tokenization:\")\n",
        "# CORRECTED: Changed 'Label' to 'label' (all lowercase)\n",
        "print(df[['text_banglish', 'cleaned_text', 'tokenized_text', 'label']].head())\n",
        "\n",
        "# Display dataset info to check for null values\n",
        "print(\"\\nDataset Info:\")\n",
        "df.info()"
      ]
    },
    {
      "cell_type": "code",
      "execution_count": 18,
      "metadata": {
        "colab": {
          "base_uri": "https://localhost:8080/"
        },
        "id": "qPZ2JRwByRVk",
        "outputId": "69835065-b3e1-4cda-83a4-cc34ba3f72ab"
      },
      "outputs": [
        {
          "name": "stdout",
          "output_type": "stream",
          "text": [
            "Word2Vec model trained successfully.\n",
            "\n",
            "Vocabulary size: 56826\n",
            "\n",
            "Words most similar to 'ami':\n",
            "[('prototaipa', 0.9431474804878235), ('merinase', 0.9421924948692322), ('bhayesachyatera', 0.9418488144874573), ('iujaranema', 0.9399396777153015), ('resalimye', 0.9384870529174805), ('lukochurira', 0.9363691806793213), ('anugamidera', 0.9354920983314514), ('trata', 0.9353041052818298), ('alishake', 0.9349705576896667), ('hostim', 0.9338364005088806)]\n"
          ]
        }
      ],
      "source": [
        "from gensim.models import Word2Vec\n",
        "\n",
        "# Isolate the tokenized sentences for training\n",
        "sentences = df['tokenized_text'].tolist()\n",
        "\n",
        "# --- Word2Vec Model Training ---\n",
        "# Define the model parameters\n",
        "embedding_dim = 100  # Dimensionality of the word vectors\n",
        "window_size = 5      # Context window size\n",
        "min_word_count = 1   # Minimum word count to be included\n",
        "\n",
        "# sg=1 trains the Skip-Gram model, which often works well\n",
        "w2v_model = Word2Vec(sentences=sentences,\n",
        "                     vector_size=embedding_dim,\n",
        "                     window=window_size,\n",
        "                     min_count=min_word_count,\n",
        "                     workers=4,\n",
        "                     sg=1)\n",
        "\n",
        "print(\"Word2Vec model trained successfully.\")\n",
        "\n",
        "# --- Sanity Check ---\n",
        "# Check the vocabulary size\n",
        "vocab_size = len(w2v_model.wv.index_to_key)\n",
        "print(f\"\\nVocabulary size: {vocab_size}\")\n",
        "\n",
        "# Test the model by finding the most similar words to a sample word.\n",
        "# 'ami' ('I' in Bengali) is a common word and likely to be in the vocabulary.\n",
        "try:\n",
        "    if 'ami' in w2v_model.wv:\n",
        "        sample_word = 'ami'\n",
        "    else:\n",
        "        # If 'ami' isn't in the vocab, just use the most frequent word as an example\n",
        "        sample_word = w2v_model.wv.index_to_key[0]\n",
        "\n",
        "    similar_words = w2v_model.wv.most_similar(sample_word)\n",
        "    print(f\"\\nWords most similar to '{sample_word}':\")\n",
        "    print(similar_words)\n",
        "except (IndexError, KeyError):\n",
        "    print(\"\\nCould not perform similarity check. The vocabulary might be smaller than expected.\")"
      ]
    },
    {
      "cell_type": "code",
      "execution_count": 13,
      "metadata": {
        "colab": {
          "base_uri": "https://localhost:8080/"
        },
        "id": "BPPQzU_TySxk",
        "outputId": "69ba8ea8-a49c-4193-f683-b26d82488079"
      },
      "outputs": [
        {
          "name": "stdout",
          "output_type": "stream",
          "text": [
            "Vocabulary size for Keras Tokenizer: 56827\n",
            "Padding sequences to a max length of: 192\n",
            "Shape of the embedding matrix: (56827, 100)\n",
            "\n",
            "Training data shape (X_train): (17528, 192)\n",
            "Testing data shape (X_test): (4382, 192)\n"
          ]
        }
      ],
      "source": [
        "from tensorflow.keras.preprocessing.text import Tokenizer\n",
        "from tensorflow.keras.preprocessing.sequence import pad_sequences\n",
        "from sklearn.model_selection import train_test_split\n",
        "import numpy as np\n",
        "\n",
        "# --- 1. Use Keras Tokenizer to convert texts to integer sequences ---\n",
        "# We use the cleaned text column for this\n",
        "texts = df['cleaned_text'].tolist()\n",
        "labels = df['label'].values\n",
        "\n",
        "tokenizer = Tokenizer()\n",
        "tokenizer.fit_on_texts(texts)\n",
        "sequences = tokenizer.texts_to_sequences(texts)\n",
        "\n",
        "word_index = tokenizer.word_index\n",
        "# The Keras vocab size is the number of unique words + 1 (for the padding token)\n",
        "keras_vocab_size = len(word_index) + 1\n",
        "print(f\"Vocabulary size for Keras Tokenizer: {keras_vocab_size}\")\n",
        "\n",
        "\n",
        "# --- 2. Pad sequences to a uniform length ---\n",
        "# Let's find a suitable max length (e.g., the 95th percentile of sentence lengths)\n",
        "# This avoids making all sequences excessively long because of a few outliers.\n",
        "lengths = [len(s) for s in sequences]\n",
        "maxlen = int(np.percentile(lengths, 95))\n",
        "print(f\"Padding sequences to a max length of: {maxlen}\")\n",
        "\n",
        "X = pad_sequences(sequences, maxlen=maxlen, padding='post', truncating='post')\n",
        "y = labels\n",
        "\n",
        "\n",
        "# --- 3. Create the embedding matrix from our Word2Vec model ---\n",
        "embedding_matrix = np.zeros((keras_vocab_size, embedding_dim)) # embedding_dim is 100 from the previous cell\n",
        "\n",
        "for word, i in word_index.items():\n",
        "    if word in w2v_model.wv:\n",
        "        embedding_vector = w2v_model.wv[word]\n",
        "        embedding_matrix[i] = embedding_vector\n",
        "\n",
        "print(f\"Shape of the embedding matrix: {embedding_matrix.shape}\")\n",
        "\n",
        "\n",
        "# --- 4. Split data into training and testing sets ---\n",
        "X_train, X_test, y_train, y_test = train_test_split(X, y,\n",
        "                                                    test_size=0.2,\n",
        "                                                    random_state=42,\n",
        "                                                    stratify=y) # stratify ensures similar class distribution\n",
        "\n",
        "print(f\"\\nTraining data shape (X_train): {X_train.shape}\")\n",
        "print(f\"Testing data shape (X_test): {X_test.shape}\")"
      ]
    },
    {
      "cell_type": "code",
      "execution_count": 14,
      "metadata": {
        "colab": {
          "base_uri": "https://localhost:8080/",
          "height": 350
        },
        "id": "2nEg6EPAzXPr",
        "outputId": "48bd7e89-b017-4452-e991-e81b74ac7b25"
      },
      "outputs": [
        {
          "name": "stderr",
          "output_type": "stream",
          "text": [
            "/usr/local/lib/python3.12/dist-packages/keras/src/layers/core/embedding.py:97: UserWarning: Argument `input_length` is deprecated. Just remove it.\n",
            "  warnings.warn(\n"
          ]
        },
        {
          "data": {
            "text/html": [
              "<pre style=\"white-space:pre;overflow-x:auto;line-height:normal;font-family:Menlo,'DejaVu Sans Mono',consolas,'Courier New',monospace\"><span style=\"font-weight: bold\">Model: \"sequential\"</span>\n",
              "</pre>\n"
            ],
            "text/plain": [
              "\u001b[1mModel: \"sequential\"\u001b[0m\n"
            ]
          },
          "metadata": {},
          "output_type": "display_data"
        },
        {
          "data": {
            "text/html": [
              "<pre style=\"white-space:pre;overflow-x:auto;line-height:normal;font-family:Menlo,'DejaVu Sans Mono',consolas,'Courier New',monospace\">┏━━━━━━━━━━━━━━━━━━━━━━━━━━━━━━━━━┳━━━━━━━━━━━━━━━━━━━━━━━━┳━━━━━━━━━━━━━━━┓\n",
              "┃<span style=\"font-weight: bold\"> Layer (type)                    </span>┃<span style=\"font-weight: bold\"> Output Shape           </span>┃<span style=\"font-weight: bold\">       Param # </span>┃\n",
              "┡━━━━━━━━━━━━━━━━━━━━━━━━━━━━━━━━━╇━━━━━━━━━━━━━━━━━━━━━━━━╇━━━━━━━━━━━━━━━┩\n",
              "│ embedding (<span style=\"color: #0087ff; text-decoration-color: #0087ff\">Embedding</span>)           │ ?                      │     <span style=\"color: #00af00; text-decoration-color: #00af00\">5,682,700</span> │\n",
              "├─────────────────────────────────┼────────────────────────┼───────────────┤\n",
              "│ bidirectional (<span style=\"color: #0087ff; text-decoration-color: #0087ff\">Bidirectional</span>)   │ ?                      │   <span style=\"color: #00af00; text-decoration-color: #00af00\">0</span> (unbuilt) │\n",
              "├─────────────────────────────────┼────────────────────────┼───────────────┤\n",
              "│ dropout (<span style=\"color: #0087ff; text-decoration-color: #0087ff\">Dropout</span>)               │ ?                      │             <span style=\"color: #00af00; text-decoration-color: #00af00\">0</span> │\n",
              "├─────────────────────────────────┼────────────────────────┼───────────────┤\n",
              "│ dense (<span style=\"color: #0087ff; text-decoration-color: #0087ff\">Dense</span>)                   │ ?                      │   <span style=\"color: #00af00; text-decoration-color: #00af00\">0</span> (unbuilt) │\n",
              "├─────────────────────────────────┼────────────────────────┼───────────────┤\n",
              "│ dense_1 (<span style=\"color: #0087ff; text-decoration-color: #0087ff\">Dense</span>)                 │ ?                      │   <span style=\"color: #00af00; text-decoration-color: #00af00\">0</span> (unbuilt) │\n",
              "└─────────────────────────────────┴────────────────────────┴───────────────┘\n",
              "</pre>\n"
            ],
            "text/plain": [
              "┏━━━━━━━━━━━━━━━━━━━━━━━━━━━━━━━━━┳━━━━━━━━━━━━━━━━━━━━━━━━┳━━━━━━━━━━━━━━━┓\n",
              "┃\u001b[1m \u001b[0m\u001b[1mLayer (type)                   \u001b[0m\u001b[1m \u001b[0m┃\u001b[1m \u001b[0m\u001b[1mOutput Shape          \u001b[0m\u001b[1m \u001b[0m┃\u001b[1m \u001b[0m\u001b[1m      Param #\u001b[0m\u001b[1m \u001b[0m┃\n",
              "┡━━━━━━━━━━━━━━━━━━━━━━━━━━━━━━━━━╇━━━━━━━━━━━━━━━━━━━━━━━━╇━━━━━━━━━━━━━━━┩\n",
              "│ embedding (\u001b[38;5;33mEmbedding\u001b[0m)           │ ?                      │     \u001b[38;5;34m5,682,700\u001b[0m │\n",
              "├─────────────────────────────────┼────────────────────────┼───────────────┤\n",
              "│ bidirectional (\u001b[38;5;33mBidirectional\u001b[0m)   │ ?                      │   \u001b[38;5;34m0\u001b[0m (unbuilt) │\n",
              "├─────────────────────────────────┼────────────────────────┼───────────────┤\n",
              "│ dropout (\u001b[38;5;33mDropout\u001b[0m)               │ ?                      │             \u001b[38;5;34m0\u001b[0m │\n",
              "├─────────────────────────────────┼────────────────────────┼───────────────┤\n",
              "│ dense (\u001b[38;5;33mDense\u001b[0m)                   │ ?                      │   \u001b[38;5;34m0\u001b[0m (unbuilt) │\n",
              "├─────────────────────────────────┼────────────────────────┼───────────────┤\n",
              "│ dense_1 (\u001b[38;5;33mDense\u001b[0m)                 │ ?                      │   \u001b[38;5;34m0\u001b[0m (unbuilt) │\n",
              "└─────────────────────────────────┴────────────────────────┴───────────────┘\n"
            ]
          },
          "metadata": {},
          "output_type": "display_data"
        },
        {
          "data": {
            "text/html": [
              "<pre style=\"white-space:pre;overflow-x:auto;line-height:normal;font-family:Menlo,'DejaVu Sans Mono',consolas,'Courier New',monospace\"><span style=\"font-weight: bold\"> Total params: </span><span style=\"color: #00af00; text-decoration-color: #00af00\">5,682,700</span> (21.68 MB)\n",
              "</pre>\n"
            ],
            "text/plain": [
              "\u001b[1m Total params: \u001b[0m\u001b[38;5;34m5,682,700\u001b[0m (21.68 MB)\n"
            ]
          },
          "metadata": {},
          "output_type": "display_data"
        },
        {
          "data": {
            "text/html": [
              "<pre style=\"white-space:pre;overflow-x:auto;line-height:normal;font-family:Menlo,'DejaVu Sans Mono',consolas,'Courier New',monospace\"><span style=\"font-weight: bold\"> Trainable params: </span><span style=\"color: #00af00; text-decoration-color: #00af00\">0</span> (0.00 B)\n",
              "</pre>\n"
            ],
            "text/plain": [
              "\u001b[1m Trainable params: \u001b[0m\u001b[38;5;34m0\u001b[0m (0.00 B)\n"
            ]
          },
          "metadata": {},
          "output_type": "display_data"
        },
        {
          "data": {
            "text/html": [
              "<pre style=\"white-space:pre;overflow-x:auto;line-height:normal;font-family:Menlo,'DejaVu Sans Mono',consolas,'Courier New',monospace\"><span style=\"font-weight: bold\"> Non-trainable params: </span><span style=\"color: #00af00; text-decoration-color: #00af00\">5,682,700</span> (21.68 MB)\n",
              "</pre>\n"
            ],
            "text/plain": [
              "\u001b[1m Non-trainable params: \u001b[0m\u001b[38;5;34m5,682,700\u001b[0m (21.68 MB)\n"
            ]
          },
          "metadata": {},
          "output_type": "display_data"
        }
      ],
      "source": [
        "from tensorflow.keras.models import Sequential\n",
        "from tensorflow.keras.layers import Embedding, Bidirectional, GRU, Dense, Dropout\n",
        "from tensorflow.keras.metrics import Precision, Recall\n",
        "\n",
        "# --- 1. Build the BiGRU Model ---\n",
        "\n",
        "model = Sequential()\n",
        "\n",
        "# Embedding Layer (loaded with our Word2Vec weights)\n",
        "model.add(Embedding(input_dim=keras_vocab_size,\n",
        "                    output_dim=embedding_dim,\n",
        "                    weights=[embedding_matrix],\n",
        "                    input_length=maxlen,\n",
        "                    trainable=False)) # Freeze the embedding layer\n",
        "\n",
        "# Bidirectional GRU Layer\n",
        "model.add(Bidirectional(GRU(units=64)))\n",
        "\n",
        "# Dropout for regularization\n",
        "model.add(Dropout(0.3))\n",
        "\n",
        "# A standard Dense layer\n",
        "model.add(Dense(32, activation='relu'))\n",
        "\n",
        "# Final Output Layer for binary classification\n",
        "model.add(Dense(1, activation='sigmoid'))\n",
        "\n",
        "\n",
        "# --- 2. Compile the Model ---\n",
        "model.compile(optimizer='adam',\n",
        "              loss='binary_crossentropy',\n",
        "              metrics=['accuracy', Precision(name='precision'), Recall(name='recall')])\n",
        "\n",
        "\n",
        "# --- 3. Print Model Summary ---\n",
        "# This is very useful for your paper to show the model's structure and parameters.\n",
        "model.summary()"
      ]
    },
    {
      "cell_type": "code",
      "execution_count": 15,
      "metadata": {
        "colab": {
          "base_uri": "https://localhost:8080/"
        },
        "id": "Ef5_-2oIz1TB",
        "outputId": "1c2ebb2c-168d-4448-b4e9-bc3cd7bf110f"
      },
      "outputs": [
        {
          "name": "stdout",
          "output_type": "stream",
          "text": [
            "Starting model training...\n",
            "Epoch 1/20\n",
            "\u001b[1m548/548\u001b[0m \u001b[32m━━━━━━━━━━━━━━━━━━━━\u001b[0m\u001b[37m\u001b[0m \u001b[1m139s\u001b[0m 241ms/step - accuracy: 0.7767 - loss: 0.4715 - precision: 0.7556 - recall: 0.8395 - val_accuracy: 0.8665 - val_loss: 0.3191 - val_precision: 0.8231 - val_recall: 0.9339\n",
            "Epoch 2/20\n",
            "\u001b[1m548/548\u001b[0m \u001b[32m━━━━━━━━━━━━━━━━━━━━\u001b[0m\u001b[37m\u001b[0m \u001b[1m134s\u001b[0m 245ms/step - accuracy: 0.8724 - loss: 0.3070 - precision: 0.8576 - recall: 0.8919 - val_accuracy: 0.8884 - val_loss: 0.2746 - val_precision: 0.9018 - val_recall: 0.8718\n",
            "Epoch 3/20\n",
            "\u001b[1m548/548\u001b[0m \u001b[32m━━━━━━━━━━━━━━━━━━━━\u001b[0m\u001b[37m\u001b[0m \u001b[1m146s\u001b[0m 266ms/step - accuracy: 0.8933 - loss: 0.2620 - precision: 0.8837 - recall: 0.9061 - val_accuracy: 0.8982 - val_loss: 0.2487 - val_precision: 0.8747 - val_recall: 0.9297\n",
            "Epoch 4/20\n",
            "\u001b[1m548/548\u001b[0m \u001b[32m━━━━━━━━━━━━━━━━━━━━\u001b[0m\u001b[37m\u001b[0m \u001b[1m141s\u001b[0m 257ms/step - accuracy: 0.9013 - loss: 0.2374 - precision: 0.8931 - recall: 0.9115 - val_accuracy: 0.9019 - val_loss: 0.2370 - val_precision: 0.8804 - val_recall: 0.9302\n",
            "Epoch 5/20\n",
            "\u001b[1m548/548\u001b[0m \u001b[32m━━━━━━━━━━━━━━━━━━━━\u001b[0m\u001b[37m\u001b[0m \u001b[1m138s\u001b[0m 251ms/step - accuracy: 0.9107 - loss: 0.2235 - precision: 0.9043 - recall: 0.9192 - val_accuracy: 0.9037 - val_loss: 0.2307 - val_precision: 0.9128 - val_recall: 0.8928\n",
            "Epoch 6/20\n",
            "\u001b[1m548/548\u001b[0m \u001b[32m━━━━━━━━━━━━━━━━━━━━\u001b[0m\u001b[37m\u001b[0m \u001b[1m144s\u001b[0m 255ms/step - accuracy: 0.9188 - loss: 0.2075 - precision: 0.9130 - recall: 0.9264 - val_accuracy: 0.9035 - val_loss: 0.2446 - val_precision: 0.8675 - val_recall: 0.9526\n",
            "Epoch 7/20\n",
            "\u001b[1m548/548\u001b[0m \u001b[32m━━━━━━━━━━━━━━━━━━━━\u001b[0m\u001b[37m\u001b[0m \u001b[1m138s\u001b[0m 252ms/step - accuracy: 0.9191 - loss: 0.2043 - precision: 0.9097 - recall: 0.9291 - val_accuracy: 0.8996 - val_loss: 0.2397 - val_precision: 0.9354 - val_recall: 0.8586\n",
            "Epoch 8/20\n",
            "\u001b[1m548/548\u001b[0m \u001b[32m━━━━━━━━━━━━━━━━━━━━\u001b[0m\u001b[37m\u001b[0m \u001b[1m135s\u001b[0m 246ms/step - accuracy: 0.9286 - loss: 0.1789 - precision: 0.9243 - recall: 0.9331 - val_accuracy: 0.9105 - val_loss: 0.2269 - val_precision: 0.9047 - val_recall: 0.9179\n",
            "Epoch 9/20\n",
            "\u001b[1m548/548\u001b[0m \u001b[32m━━━━━━━━━━━━━━━━━━━━\u001b[0m\u001b[37m\u001b[0m \u001b[1m146s\u001b[0m 253ms/step - accuracy: 0.9300 - loss: 0.1750 - precision: 0.9238 - recall: 0.9363 - val_accuracy: 0.9133 - val_loss: 0.2222 - val_precision: 0.9023 - val_recall: 0.9270\n",
            "Epoch 10/20\n",
            "\u001b[1m548/548\u001b[0m \u001b[32m━━━━━━━━━━━━━━━━━━━━\u001b[0m\u001b[37m\u001b[0m \u001b[1m146s\u001b[0m 261ms/step - accuracy: 0.9333 - loss: 0.1675 - precision: 0.9270 - recall: 0.9423 - val_accuracy: 0.9026 - val_loss: 0.2460 - val_precision: 0.9362 - val_recall: 0.8641\n",
            "Epoch 11/20\n",
            "\u001b[1m548/548\u001b[0m \u001b[32m━━━━━━━━━━━━━━━━━━━━\u001b[0m\u001b[37m\u001b[0m \u001b[1m135s\u001b[0m 246ms/step - accuracy: 0.9404 - loss: 0.1571 - precision: 0.9369 - recall: 0.9450 - val_accuracy: 0.9080 - val_loss: 0.2386 - val_precision: 0.9075 - val_recall: 0.9088\n",
            "Epoch 12/20\n",
            "\u001b[1m548/548\u001b[0m \u001b[32m━━━━━━━━━━━━━━━━━━━━\u001b[0m\u001b[37m\u001b[0m \u001b[1m138s\u001b[0m 251ms/step - accuracy: 0.9433 - loss: 0.1404 - precision: 0.9381 - recall: 0.9501 - val_accuracy: 0.9073 - val_loss: 0.2381 - val_precision: 0.8934 - val_recall: 0.9252\n",
            "\n",
            "Training finished in 1683.59 seconds.\n"
          ]
        }
      ],
      "source": [
        "import time\n",
        "\n",
        "# --- Train the Model ---\n",
        "\n",
        "print(\"Starting model training...\")\n",
        "\n",
        "# Add a callback for Early Stopping\n",
        "# This will stop training if the validation loss doesn't improve for 3 consecutive epochs.\n",
        "early_stopping = EarlyStopping(monitor='val_loss', patience=3, restore_best_weights=True)\n",
        "\n",
        "# Define number of epochs and batch size\n",
        "epochs = 20\n",
        "batch_size = 32\n",
        "\n",
        "# Start the timer\n",
        "start_time = time.time()\n",
        "\n",
        "# Train the model\n",
        "history = model.fit(X_train, y_train,\n",
        "                    epochs=epochs,\n",
        "                    batch_size=batch_size,\n",
        "                    validation_data=(X_test, y_test),\n",
        "                    callbacks=[early_stopping])\n",
        "\n",
        "# Stop the timer\n",
        "end_time = time.time()\n",
        "\n",
        "# Calculate and print the training time\n",
        "training_time = end_time - start_time\n",
        "print(f\"\\nTraining finished in {training_time:.2f} seconds.\")"
      ]
    },
    {
      "cell_type": "code",
      "execution_count": 16,
      "metadata": {
        "colab": {
          "base_uri": "https://localhost:8080/"
        },
        "id": "Myc_9se18to4",
        "outputId": "05d896ad-64f2-44f1-ea05-0f34909ba065"
      },
      "outputs": [
        {
          "name": "stdout",
          "output_type": "stream",
          "text": [
            "--- Final Performance Evaluation ---\n",
            "\u001b[1m137/137\u001b[0m \u001b[32m━━━━━━━━━━━━━━━━━━━━\u001b[0m\u001b[37m\u001b[0m \u001b[1m15s\u001b[0m 98ms/step\n",
            "\n",
            "Overall Test Metrics:\n",
            "Accuracy:  0.9133\n",
            "Precision: 0.9023\n",
            "Recall:    0.9270\n",
            "F1 Score:  0.9145\n",
            "\n",
            "Classification Report:\n",
            "                   precision    recall  f1-score   support\n",
            "\n",
            "Not Depressed (0)       0.92      0.90      0.91      2190\n",
            "    Depressed (1)       0.90      0.93      0.91      2192\n",
            "\n",
            "         accuracy                           0.91      4382\n",
            "        macro avg       0.91      0.91      0.91      4382\n",
            "     weighted avg       0.91      0.91      0.91      4382\n",
            "\n",
            "Confusion Matrix:\n",
            "[[1970  220]\n",
            " [ 160 2032]]\n",
            "\n",
            "==================================================\n",
            "\n",
            "--- Time Complexity ---\n",
            "Total Training Time: 1683.59 seconds (approx. 28.1 minutes)\n",
            "\u001b[1m137/137\u001b[0m \u001b[32m━━━━━━━━━━━━━━━━━━━━\u001b[0m\u001b[37m\u001b[0m \u001b[1m7s\u001b[0m 50ms/step\n",
            "Total Inference Time for 4382 samples: 6.9408 seconds\n",
            "Average Inference Time per Sample: 1.5839 milliseconds\n",
            "\n",
            "==================================================\n",
            "\n",
            "--- Space Complexity ---\n",
            "Total Model Parameters: 5,750,605\n",
            "Model Size on Disk: 22.50 MB\n"
          ]
        }
      ],
      "source": [
        "from sklearn.metrics import classification_report, confusion_matrix, accuracy_score, precision_score, recall_score, f1_score\n",
        "import time\n",
        "import os\n",
        "import numpy as np\n",
        "\n",
        "# --- 1. Performance Evaluation on Test Set ---\n",
        "print(\"--- Final Performance Evaluation ---\")\n",
        "\n",
        "# Get model's prediction probabilities on the test set\n",
        "y_pred_probs = model.predict(X_test)\n",
        "\n",
        "# Convert probabilities to binary class labels (0 or 1) using a 0.5 threshold\n",
        "y_pred = (y_pred_probs > 0.5).astype(\"int32\")\n",
        "\n",
        "# Calculate and print the final metrics\n",
        "accuracy = accuracy_score(y_test, y_pred)\n",
        "precision = precision_score(y_test, y_pred)\n",
        "recall = recall_score(y_test, y_pred)\n",
        "f1 = f1_score(y_test, y_pred)\n",
        "\n",
        "print(f\"\\nOverall Test Metrics:\")\n",
        "print(f\"Accuracy:  {accuracy:.4f}\")\n",
        "print(f\"Precision: {precision:.4f}\")\n",
        "print(f\"Recall:    {recall:.4f}\")\n",
        "print(f\"F1 Score:  {f1:.4f}\\n\")\n",
        "\n",
        "# Display a detailed classification report\n",
        "print(\"Classification Report:\")\n",
        "print(classification_report(y_test, y_pred, target_names=['Not Depressed (0)', 'Depressed (1)']))\n",
        "\n",
        "# Display the confusion matrix\n",
        "print(\"Confusion Matrix:\")\n",
        "# [[True Negative, False Positive], [False Negative, True Positive]]\n",
        "print(confusion_matrix(y_test, y_pred))\n",
        "print(\"\\n\" + \"=\"*50 + \"\\n\")\n",
        "\n",
        "\n",
        "# --- 2. Practical Time Complexity Analysis ---\n",
        "print(\"--- Time Complexity ---\")\n",
        "\n",
        "# We already have the training time from the previous step\n",
        "print(f\"Total Training Time: {training_time:.2f} seconds (approx. {training_time/60:.1f} minutes)\")\n",
        "\n",
        "# Measure Inference Time on the entire test set\n",
        "inference_start_time = time.time()\n",
        "_ = model.predict(X_test)\n",
        "inference_end_time = time.time()\n",
        "\n",
        "total_inference_time = inference_end_time - inference_start_time\n",
        "avg_inference_time_per_sample = total_inference_time / len(X_test)\n",
        "\n",
        "print(f\"Total Inference Time for {len(X_test)} samples: {total_inference_time:.4f} seconds\")\n",
        "print(f\"Average Inference Time per Sample: {avg_inference_time_per_sample * 1000:.4f} milliseconds\\n\")\n",
        "print(\"=\"*50 + \"\\n\")\n",
        "\n",
        "\n",
        "# --- 3. Practical Space Complexity Analysis ---\n",
        "print(\"--- Space Complexity ---\")\n",
        "\n",
        "# Number of trainable parameters in the model\n",
        "total_params = model.count_params()\n",
        "print(f\"Total Model Parameters: {total_params:,}\")\n",
        "\n",
        "# Save the model to a file to check its size\n",
        "model_filename = \"depression_detection_bigru.keras\"\n",
        "model.save(model_filename)\n",
        "model_size_bytes = os.path.getsize(model_filename)\n",
        "model_size_mb = model_size_bytes / (1024 * 1024)\n",
        "\n",
        "print(f\"Model Size on Disk: {model_size_mb:.2f} MB\")"
      ]
    },
    {
      "cell_type": "code",
      "execution_count": 17,
      "metadata": {
        "colab": {
          "base_uri": "https://localhost:8080/"
        },
        "id": "I2M_oZxN9fC-",
        "outputId": "e04fa3bb-b00a-4041-9d2c-d640b142ad6c"
      },
      "outputs": [
        {
          "name": "stdout",
          "output_type": "stream",
          "text": [
            "Tokenizer saved to 'tokenizer.pickle'\n"
          ]
        }
      ],
      "source": [
        "import pickle\n",
        "\n",
        "# Save the tokenizer object\n",
        "with open('tokenizer.pickle', 'wb') as handle:\n",
        "    pickle.dump(tokenizer, handle, protocol=pickle.HIGHEST_PROTOCOL)\n",
        "\n",
        "print(\"Tokenizer saved to 'tokenizer.pickle'\")"
      ]
    }
  ],
  "metadata": {
    "colab": {
      "provenance": []
    },
    "kernelspec": {
      "display_name": "Python 3",
      "name": "python3"
    },
    "language_info": {
      "name": "python"
    }
  },
  "nbformat": 4,
  "nbformat_minor": 0
}
