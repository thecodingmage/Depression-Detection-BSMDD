{
  "nbformat": 4,
  "nbformat_minor": 0,
  "metadata": {
    "colab": {
      "provenance": []
    },
    "kernelspec": {
      "name": "python3",
      "display_name": "Python 3"
    },
    "language_info": {
      "name": "python"
    }
  },
  "cells": [
    {
      "cell_type": "code",
      "execution_count": null,
      "metadata": {
        "colab": {
          "base_uri": "https://localhost:8080/",
          "height": 689
        },
        "id": "M2AG0HaY0KnU",
        "outputId": "4f565633-89c0-4dc0-dec0-1f99d496289a"
      },
      "outputs": [
        {
          "output_type": "stream",
          "name": "stdout",
          "text": [
            "Collecting gensim\n",
            "  Downloading gensim-4.3.3-cp312-cp312-manylinux_2_17_x86_64.manylinux2014_x86_64.whl.metadata (8.1 kB)\n",
            "Collecting numpy<2.0,>=1.18.5 (from gensim)\n",
            "  Downloading numpy-1.26.4-cp312-cp312-manylinux_2_17_x86_64.manylinux2014_x86_64.whl.metadata (61 kB)\n",
            "\u001b[2K     \u001b[90m━━━━━━━━━━━━━━━━━━━━━━━━━━━━━━━━━━━━━━━━\u001b[0m \u001b[32m61.0/61.0 kB\u001b[0m \u001b[31m1.9 MB/s\u001b[0m eta \u001b[36m0:00:00\u001b[0m\n",
            "\u001b[?25hCollecting scipy<1.14.0,>=1.7.0 (from gensim)\n",
            "  Downloading scipy-1.13.1-cp312-cp312-manylinux_2_17_x86_64.manylinux2014_x86_64.whl.metadata (60 kB)\n",
            "\u001b[2K     \u001b[90m━━━━━━━━━━━━━━━━━━━━━━━━━━━━━━━━━━━━━━━━\u001b[0m \u001b[32m60.6/60.6 kB\u001b[0m \u001b[31m4.7 MB/s\u001b[0m eta \u001b[36m0:00:00\u001b[0m\n",
            "\u001b[?25hRequirement already satisfied: smart-open>=1.8.1 in /usr/local/lib/python3.12/dist-packages (from gensim) (7.3.1)\n",
            "Requirement already satisfied: wrapt in /usr/local/lib/python3.12/dist-packages (from smart-open>=1.8.1->gensim) (1.17.3)\n",
            "Downloading gensim-4.3.3-cp312-cp312-manylinux_2_17_x86_64.manylinux2014_x86_64.whl (26.6 MB)\n",
            "\u001b[2K   \u001b[90m━━━━━━━━━━━━━━━━━━━━━━━━━━━━━━━━━━━━━━━━\u001b[0m \u001b[32m26.6/26.6 MB\u001b[0m \u001b[31m57.1 MB/s\u001b[0m eta \u001b[36m0:00:00\u001b[0m\n",
            "\u001b[?25hDownloading numpy-1.26.4-cp312-cp312-manylinux_2_17_x86_64.manylinux2014_x86_64.whl (18.0 MB)\n",
            "\u001b[2K   \u001b[90m━━━━━━━━━━━━━━━━━━━━━━━━━━━━━━━━━━━━━━━━\u001b[0m \u001b[32m18.0/18.0 MB\u001b[0m \u001b[31m74.1 MB/s\u001b[0m eta \u001b[36m0:00:00\u001b[0m\n",
            "\u001b[?25hDownloading scipy-1.13.1-cp312-cp312-manylinux_2_17_x86_64.manylinux2014_x86_64.whl (38.2 MB)\n",
            "\u001b[2K   \u001b[90m━━━━━━━━━━━━━━━━━━━━━━━━━━━━━━━━━━━━━━━━\u001b[0m \u001b[32m38.2/38.2 MB\u001b[0m \u001b[31m14.1 MB/s\u001b[0m eta \u001b[36m0:00:00\u001b[0m\n",
            "\u001b[?25hInstalling collected packages: numpy, scipy, gensim\n",
            "  Attempting uninstall: numpy\n",
            "    Found existing installation: numpy 2.0.2\n",
            "    Uninstalling numpy-2.0.2:\n",
            "      Successfully uninstalled numpy-2.0.2\n",
            "  Attempting uninstall: scipy\n",
            "    Found existing installation: scipy 1.16.2\n",
            "    Uninstalling scipy-1.16.2:\n",
            "      Successfully uninstalled scipy-1.16.2\n",
            "\u001b[31mERROR: pip's dependency resolver does not currently take into account all the packages that are installed. This behaviour is the source of the following dependency conflicts.\n",
            "opencv-python 4.12.0.88 requires numpy<2.3.0,>=2; python_version >= \"3.9\", but you have numpy 1.26.4 which is incompatible.\n",
            "opencv-contrib-python 4.12.0.88 requires numpy<2.3.0,>=2; python_version >= \"3.9\", but you have numpy 1.26.4 which is incompatible.\n",
            "opencv-python-headless 4.12.0.88 requires numpy<2.3.0,>=2; python_version >= \"3.9\", but you have numpy 1.26.4 which is incompatible.\n",
            "tsfresh 0.21.1 requires scipy>=1.14.0; python_version >= \"3.10\", but you have scipy 1.13.1 which is incompatible.\n",
            "thinc 8.3.6 requires numpy<3.0.0,>=2.0.0, but you have numpy 1.26.4 which is incompatible.\u001b[0m\u001b[31m\n",
            "\u001b[0mSuccessfully installed gensim-4.3.3 numpy-1.26.4 scipy-1.13.1\n"
          ]
        },
        {
          "output_type": "display_data",
          "data": {
            "application/vnd.colab-display-data+json": {
              "pip_warning": {
                "packages": [
                  "numpy"
                ]
              },
              "id": "1ef412d5131f48b3bdec846eedf4588b"
            }
          },
          "metadata": {}
        }
      ],
      "source": [
        "!pip install gensim"
      ]
    },
    {
      "cell_type": "code",
      "source": [
        "# Import necessary libraries\n",
        "import numpy as np\n",
        "import pandas as pd\n",
        "import re\n",
        "import os\n",
        "import time\n",
        "import pickle\n",
        "\n",
        "# For Word2Vec\n",
        "from gensim.models import Word2Vec\n",
        "\n",
        "# For data splitting and evaluation\n",
        "from sklearn.model_selection import train_test_split\n",
        "from sklearn.metrics import classification_report, confusion_matrix, accuracy_score, f1_score, roc_auc_score\n",
        "import seaborn as sns\n",
        "import matplotlib.pyplot as plt\n",
        "\n",
        "# For Keras model building\n",
        "import tensorflow as tf\n",
        "from tensorflow.keras.preprocessing.text import Tokenizer\n",
        "from tensorflow.keras.preprocessing.sequence import pad_sequences\n",
        "from tensorflow.keras.models import Sequential\n",
        "from tensorflow.keras.layers import Embedding, Bidirectional, LSTM, Dense, Dropout # Import Bidirectional and LSTM\n",
        "from tensorflow.keras.callbacks import EarlyStopping\n",
        "from tensorflow.keras.metrics import Precision, Recall\n",
        "\n",
        "# Mount Google Drive\n",
        "from google.colab import drive\n",
        "drive.mount('/content/drive')\n",
        "\n",
        "# Load the dataset\n",
        "file_path = '/content/drive/MyDrive/Depression detection dataset/BSMDD_main.xlsx'\n",
        "df = pd.read_excel(file_path)\n",
        "\n",
        "# Drop any rows where the text is missing and reset index\n",
        "df.dropna(subset=['text_banglish'], inplace=True)\n",
        "df.reset_index(drop=True, inplace=True)\n",
        "\n",
        "print(\"Libraries imported, Drive mounted, and dataset loaded successfully.\")\n",
        "df.info()"
      ],
      "metadata": {
        "colab": {
          "base_uri": "https://localhost:8080/"
        },
        "id": "_0RX1eDJ0hxp",
        "outputId": "0d4e147e-d731-49cc-9485-11e4b8f3d6b9"
      },
      "execution_count": null,
      "outputs": [
        {
          "output_type": "stream",
          "name": "stdout",
          "text": [
            "Mounted at /content/drive\n",
            "Libraries imported, Drive mounted, and dataset loaded successfully.\n",
            "<class 'pandas.core.frame.DataFrame'>\n",
            "RangeIndex: 21910 entries, 0 to 21909\n",
            "Data columns (total 3 columns):\n",
            " #   Column         Non-Null Count  Dtype \n",
            "---  ------         --------------  ----- \n",
            " 0   text_bengali   21910 non-null  object\n",
            " 1   text_banglish  21910 non-null  object\n",
            " 2   label          21910 non-null  int64 \n",
            "dtypes: int64(1), object(2)\n",
            "memory usage: 513.6+ KB\n"
          ]
        }
      ]
    },
    {
      "cell_type": "code",
      "source": [
        "# --- 1. Define the text preprocessing function ---\n",
        "def preprocess_text(text):\n",
        "    text = str(text).lower()  # Convert to lowercase and ensure it's a string\n",
        "    text = re.sub(r'[^a-z\\s]', '', text) # Remove punctuation, numbers, etc.\n",
        "    text = re.sub(r'\\s+', ' ', text).strip() # Remove extra whitespace\n",
        "    return text\n",
        "\n",
        "# --- 2. Apply the function to create a 'cleaned_text' column ---\n",
        "df['cleaned_text'] = df['text_banglish'].apply(preprocess_text)\n",
        "\n",
        "# --- 3. Tokenize the cleaned text into lists of words ---\n",
        "# This is required for the Gensim Word2Vec model in the next step\n",
        "df['tokenized_text'] = df['cleaned_text'].apply(lambda x: x.split())\n",
        "\n",
        "# --- 4. Safeguard: Remove any rows that became empty after cleaning ---\n",
        "original_rows = len(df)\n",
        "df = df[df['cleaned_text'] != ''].reset_index(drop=True)\n",
        "if original_rows > len(df):\n",
        "    print(f\"Removed {original_rows - len(df)} rows that were empty after preprocessing.\")\n",
        "\n",
        "# --- 5. Display the result to verify ---\n",
        "print(\"DataFrame after preprocessing and tokenization:\")\n",
        "print(df[['text_banglish', 'cleaned_text', 'tokenized_text', 'label']].head())"
      ],
      "metadata": {
        "colab": {
          "base_uri": "https://localhost:8080/"
        },
        "id": "HXy9Lx7A0yML",
        "outputId": "621add48-e58a-40ae-b06f-1a073eac3711"
      },
      "execution_count": null,
      "outputs": [
        {
          "output_type": "stream",
          "name": "stdout",
          "text": [
            "Removed 2 rows that were empty after preprocessing.\n",
            "DataFrame after preprocessing and tokenization:\n",
            "                                       text_banglish  \\\n",
            "0  manasika sharirikabhabe asustha klanta puro ji...   \n",
            "1  daya sathe thakuna atyanta dirgha apanake pada...   \n",
            "2  janatama sathe bhula loka kharapa jibana katiy...   \n",
            "3  anetibha imreji spikarera anusarana biraktikar...   \n",
            "4  anetibha imreji spikarera anusarana biraktikar...   \n",
            "\n",
            "                                        cleaned_text  \\\n",
            "0  manasika sharirikabhabe asustha klanta puro ji...   \n",
            "1  daya sathe thakuna atyanta dirgha apanake pada...   \n",
            "2  janatama sathe bhula loka kharapa jibana katiy...   \n",
            "3  anetibha imreji spikarera anusarana biraktikar...   \n",
            "4  anetibha imreji spikarera anusarana biraktikar...   \n",
            "\n",
            "                                      tokenized_text  label  \n",
            "0  [manasika, sharirikabhabe, asustha, klanta, pu...      1  \n",
            "1  [daya, sathe, thakuna, atyanta, dirgha, apanak...      1  \n",
            "2  [janatama, sathe, bhula, loka, kharapa, jibana...      1  \n",
            "3  [anetibha, imreji, spikarera, anusarana, birak...      1  \n",
            "4  [anetibha, imreji, spikarera, anusarana, birak...      1  \n"
          ]
        }
      ]
    },
    {
      "cell_type": "code",
      "source": [
        "# Isolate the tokenized sentences for training\n",
        "sentences = df['tokenized_text'].tolist()\n",
        "\n",
        "# --- Word2Vec Model Training ---\n",
        "# Define the model parameters\n",
        "embedding_dim = 100  # Dimensionality of the word vectors\n",
        "window_size = 5      # Context window size\n",
        "min_word_count = 1   # Minimum word count to be included\n",
        "\n",
        "# sg=1 trains the Skip-Gram model, which often works well.\n",
        "print(\"Training Word2Vec model... (This might take a minute or two)\")\n",
        "w2v_model = Word2Vec(sentences=sentences,\n",
        "                     vector_size=embedding_dim,\n",
        "                     window=window_size,\n",
        "                     min_count=min_word_count,\n",
        "                     workers=4, # Use 4 CPU cores for training\n",
        "                     sg=1)\n",
        "\n",
        "print(\"Word2Vec model trained successfully.\")\n",
        "\n",
        "# --- Sanity Check ---\n",
        "# Check the vocabulary size\n",
        "vocab_size = len(w2v_model.wv.index_to_key)\n",
        "print(f\"\\nVocabulary size: {vocab_size}\")\n",
        "\n",
        "# Test the model by finding the most similar words to a sample word.\n",
        "try:\n",
        "    sample_word = 'ami'\n",
        "    similar_words = w2v_model.wv.most_similar(sample_word)\n",
        "    print(f\"\\nWords most similar to '{sample_word}':\")\n",
        "    print(similar_words)\n",
        "except KeyError:\n",
        "    print(f\"\\nCould not perform similarity check. The word '{sample_word}' was not in the vocabulary.\")"
      ],
      "metadata": {
        "colab": {
          "base_uri": "https://localhost:8080/"
        },
        "id": "PUgZGJaW04WT",
        "outputId": "0548f640-b201-47c9-bced-aa07cf2d5bd8"
      },
      "execution_count": null,
      "outputs": [
        {
          "output_type": "stream",
          "name": "stdout",
          "text": [
            "Training Word2Vec model... (This might take a minute or two)\n",
            "Word2Vec model trained successfully.\n",
            "\n",
            "Vocabulary size: 56826\n",
            "\n",
            "Words most similar to 'ami':\n",
            "[('anugamidera', 0.9482709765434265), ('prashasakera', 0.9432940483093262), ('byaktikeo', 0.9390219449996948), ('mistike', 0.9364268183708191), ('nambarao', 0.9342079162597656), ('grupatike', 0.9316320419311523), ('bhayankarake', 0.931441605091095), ('dyaba', 0.9311736822128296), ('intaraayakashanera', 0.9308089017868042), ('ranadauna', 0.9304046034812927)]\n"
          ]
        }
      ]
    },
    {
      "cell_type": "code",
      "source": [
        "# --- 1. Use Keras Tokenizer to convert texts to integer sequences ---\n",
        "texts = df['cleaned_text'].tolist()\n",
        "labels = df['label'].values\n",
        "\n",
        "tokenizer = Tokenizer()\n",
        "tokenizer.fit_on_texts(texts)\n",
        "sequences = tokenizer.texts_to_sequences(texts)\n",
        "\n",
        "word_index = tokenizer.word_index\n",
        "# The vocab size for the Embedding layer is the number of unique words + 1 (for the 0 padding token)\n",
        "keras_vocab_size = len(word_index) + 1\n",
        "print(f\"Vocabulary size for Keras Tokenizer: {keras_vocab_size}\")\n",
        "\n",
        "\n",
        "# --- 2. Pad sequences to a uniform length ---\n",
        "lengths = [len(s) for s in sequences]\n",
        "maxlen = int(np.percentile(lengths, 95))\n",
        "print(f\"Padding sequences to a max length of: {maxlen}\")\n",
        "\n",
        "X = pad_sequences(sequences, maxlen=maxlen, padding='post', truncating='post')\n",
        "y = labels\n",
        "\n",
        "\n",
        "# --- 3. Create the embedding matrix from our custom Word2Vec model ---\n",
        "# This matrix will be used as the initial weights for the Keras Embedding layer.\n",
        "embedding_matrix = np.zeros((keras_vocab_size, embedding_dim)) # embedding_dim is 100\n",
        "\n",
        "for word, i in word_index.items():\n",
        "    if word in w2v_model.wv:\n",
        "        embedding_vector = w2v_model.wv[word]\n",
        "        embedding_matrix[i] = embedding_vector\n",
        "\n",
        "print(f\"Shape of the embedding matrix: {embedding_matrix.shape}\")\n",
        "\n",
        "\n",
        "# --- 4. Split data into training and testing sets ---\n",
        "X_train, X_test, y_train, y_test = train_test_split(X, y,\n",
        "                                                    test_size=0.2,\n",
        "                                                    random_state=42,\n",
        "                                                    stratify=y) # stratify ensures similar class distribution\n",
        "\n",
        "print(f\"\\nTraining data shape (X_train): {X_train.shape}\")\n",
        "print(f\"Testing data shape (X_test): {X_test.shape}\")"
      ],
      "metadata": {
        "colab": {
          "base_uri": "https://localhost:8080/"
        },
        "id": "Wp4a8WaW07WS",
        "outputId": "d59cb710-0a44-4ce1-8c69-5fcdc9412c15"
      },
      "execution_count": null,
      "outputs": [
        {
          "output_type": "stream",
          "name": "stdout",
          "text": [
            "Vocabulary size for Keras Tokenizer: 56827\n",
            "Padding sequences to a max length of: 192\n",
            "Shape of the embedding matrix: (56827, 100)\n",
            "\n",
            "Training data shape (X_train): (17526, 192)\n",
            "Testing data shape (X_test): (4382, 192)\n"
          ]
        }
      ]
    },
    {
      "cell_type": "code",
      "source": [
        "# --- 1. Build the BiLSTM Model ---\n",
        "\n",
        "model = Sequential()\n",
        "\n",
        "# 1. Embedding Layer\n",
        "# We load our custom Word2Vec-based embedding matrix.\n",
        "model.add(Embedding(input_dim=keras_vocab_size,\n",
        "                    output_dim=embedding_dim, # This is 100 for our Word2Vec model\n",
        "                    weights=[embedding_matrix],\n",
        "                    input_length=maxlen,\n",
        "                    trainable=False))\n",
        "\n",
        "# 2. Bidirectional LSTM Layer\n",
        "model.add(Bidirectional(LSTM(units=64)))\n",
        "\n",
        "# 3. Dropout for regularization\n",
        "model.add(Dropout(0.3))\n",
        "\n",
        "# 4. A standard Dense layer\n",
        "model.add(Dense(32, activation='relu'))\n",
        "\n",
        "# 5. Final Output Layer for binary classification\n",
        "model.add(Dense(1, activation='sigmoid'))\n",
        "\n",
        "\n",
        "# --- 2. Compile the Model ---\n",
        "model.compile(optimizer='adam',\n",
        "              loss='binary_crossentropy',\n",
        "              metrics=['accuracy', Precision(name='precision'), Recall(name='recall')])\n",
        "\n",
        "# --- 3. Print Model Summary ---\n",
        "model.summary()"
      ],
      "metadata": {
        "colab": {
          "base_uri": "https://localhost:8080/",
          "height": 341
        },
        "id": "kyEt_4AE1QWh",
        "outputId": "86a562dc-7513-4ad7-f9a4-7de5c4c9b057"
      },
      "execution_count": null,
      "outputs": [
        {
          "output_type": "stream",
          "name": "stderr",
          "text": [
            "/usr/local/lib/python3.12/dist-packages/keras/src/layers/core/embedding.py:97: UserWarning: Argument `input_length` is deprecated. Just remove it.\n",
            "  warnings.warn(\n"
          ]
        },
        {
          "output_type": "display_data",
          "data": {
            "text/plain": [
              "\u001b[1mModel: \"sequential\"\u001b[0m\n"
            ],
            "text/html": [
              "<pre style=\"white-space:pre;overflow-x:auto;line-height:normal;font-family:Menlo,'DejaVu Sans Mono',consolas,'Courier New',monospace\"><span style=\"font-weight: bold\">Model: \"sequential\"</span>\n",
              "</pre>\n"
            ]
          },
          "metadata": {}
        },
        {
          "output_type": "display_data",
          "data": {
            "text/plain": [
              "┏━━━━━━━━━━━━━━━━━━━━━━━━━━━━━━━━━┳━━━━━━━━━━━━━━━━━━━━━━━━┳━━━━━━━━━━━━━━━┓\n",
              "┃\u001b[1m \u001b[0m\u001b[1mLayer (type)                   \u001b[0m\u001b[1m \u001b[0m┃\u001b[1m \u001b[0m\u001b[1mOutput Shape          \u001b[0m\u001b[1m \u001b[0m┃\u001b[1m \u001b[0m\u001b[1m      Param #\u001b[0m\u001b[1m \u001b[0m┃\n",
              "┡━━━━━━━━━━━━━━━━━━━━━━━━━━━━━━━━━╇━━━━━━━━━━━━━━━━━━━━━━━━╇━━━━━━━━━━━━━━━┩\n",
              "│ embedding (\u001b[38;5;33mEmbedding\u001b[0m)           │ ?                      │     \u001b[38;5;34m5,682,700\u001b[0m │\n",
              "├─────────────────────────────────┼────────────────────────┼───────────────┤\n",
              "│ bidirectional (\u001b[38;5;33mBidirectional\u001b[0m)   │ ?                      │   \u001b[38;5;34m0\u001b[0m (unbuilt) │\n",
              "├─────────────────────────────────┼────────────────────────┼───────────────┤\n",
              "│ dropout (\u001b[38;5;33mDropout\u001b[0m)               │ ?                      │             \u001b[38;5;34m0\u001b[0m │\n",
              "├─────────────────────────────────┼────────────────────────┼───────────────┤\n",
              "│ dense (\u001b[38;5;33mDense\u001b[0m)                   │ ?                      │   \u001b[38;5;34m0\u001b[0m (unbuilt) │\n",
              "├─────────────────────────────────┼────────────────────────┼───────────────┤\n",
              "│ dense_1 (\u001b[38;5;33mDense\u001b[0m)                 │ ?                      │   \u001b[38;5;34m0\u001b[0m (unbuilt) │\n",
              "└─────────────────────────────────┴────────────────────────┴───────────────┘\n"
            ],
            "text/html": [
              "<pre style=\"white-space:pre;overflow-x:auto;line-height:normal;font-family:Menlo,'DejaVu Sans Mono',consolas,'Courier New',monospace\">┏━━━━━━━━━━━━━━━━━━━━━━━━━━━━━━━━━┳━━━━━━━━━━━━━━━━━━━━━━━━┳━━━━━━━━━━━━━━━┓\n",
              "┃<span style=\"font-weight: bold\"> Layer (type)                    </span>┃<span style=\"font-weight: bold\"> Output Shape           </span>┃<span style=\"font-weight: bold\">       Param # </span>┃\n",
              "┡━━━━━━━━━━━━━━━━━━━━━━━━━━━━━━━━━╇━━━━━━━━━━━━━━━━━━━━━━━━╇━━━━━━━━━━━━━━━┩\n",
              "│ embedding (<span style=\"color: #0087ff; text-decoration-color: #0087ff\">Embedding</span>)           │ ?                      │     <span style=\"color: #00af00; text-decoration-color: #00af00\">5,682,700</span> │\n",
              "├─────────────────────────────────┼────────────────────────┼───────────────┤\n",
              "│ bidirectional (<span style=\"color: #0087ff; text-decoration-color: #0087ff\">Bidirectional</span>)   │ ?                      │   <span style=\"color: #00af00; text-decoration-color: #00af00\">0</span> (unbuilt) │\n",
              "├─────────────────────────────────┼────────────────────────┼───────────────┤\n",
              "│ dropout (<span style=\"color: #0087ff; text-decoration-color: #0087ff\">Dropout</span>)               │ ?                      │             <span style=\"color: #00af00; text-decoration-color: #00af00\">0</span> │\n",
              "├─────────────────────────────────┼────────────────────────┼───────────────┤\n",
              "│ dense (<span style=\"color: #0087ff; text-decoration-color: #0087ff\">Dense</span>)                   │ ?                      │   <span style=\"color: #00af00; text-decoration-color: #00af00\">0</span> (unbuilt) │\n",
              "├─────────────────────────────────┼────────────────────────┼───────────────┤\n",
              "│ dense_1 (<span style=\"color: #0087ff; text-decoration-color: #0087ff\">Dense</span>)                 │ ?                      │   <span style=\"color: #00af00; text-decoration-color: #00af00\">0</span> (unbuilt) │\n",
              "└─────────────────────────────────┴────────────────────────┴───────────────┘\n",
              "</pre>\n"
            ]
          },
          "metadata": {}
        },
        {
          "output_type": "display_data",
          "data": {
            "text/plain": [
              "\u001b[1m Total params: \u001b[0m\u001b[38;5;34m5,682,700\u001b[0m (21.68 MB)\n"
            ],
            "text/html": [
              "<pre style=\"white-space:pre;overflow-x:auto;line-height:normal;font-family:Menlo,'DejaVu Sans Mono',consolas,'Courier New',monospace\"><span style=\"font-weight: bold\"> Total params: </span><span style=\"color: #00af00; text-decoration-color: #00af00\">5,682,700</span> (21.68 MB)\n",
              "</pre>\n"
            ]
          },
          "metadata": {}
        },
        {
          "output_type": "display_data",
          "data": {
            "text/plain": [
              "\u001b[1m Trainable params: \u001b[0m\u001b[38;5;34m0\u001b[0m (0.00 B)\n"
            ],
            "text/html": [
              "<pre style=\"white-space:pre;overflow-x:auto;line-height:normal;font-family:Menlo,'DejaVu Sans Mono',consolas,'Courier New',monospace\"><span style=\"font-weight: bold\"> Trainable params: </span><span style=\"color: #00af00; text-decoration-color: #00af00\">0</span> (0.00 B)\n",
              "</pre>\n"
            ]
          },
          "metadata": {}
        },
        {
          "output_type": "display_data",
          "data": {
            "text/plain": [
              "\u001b[1m Non-trainable params: \u001b[0m\u001b[38;5;34m5,682,700\u001b[0m (21.68 MB)\n"
            ],
            "text/html": [
              "<pre style=\"white-space:pre;overflow-x:auto;line-height:normal;font-family:Menlo,'DejaVu Sans Mono',consolas,'Courier New',monospace\"><span style=\"font-weight: bold\"> Non-trainable params: </span><span style=\"color: #00af00; text-decoration-color: #00af00\">5,682,700</span> (21.68 MB)\n",
              "</pre>\n"
            ]
          },
          "metadata": {}
        }
      ]
    },
    {
      "cell_type": "code",
      "source": [
        "# --- Train the Model ---\n",
        "\n",
        "print(\"Starting BiLSTM model training with Word2Vec embeddings...\")\n",
        "\n",
        "# Use EarlyStopping to prevent overfitting and save the best model\n",
        "early_stopping = EarlyStopping(monitor='val_loss', patience=3, restore_best_weights=True)\n",
        "\n",
        "# Define number of epochs and batch size\n",
        "epochs = 20\n",
        "batch_size = 32\n",
        "\n",
        "# Start the timer\n",
        "start_time = time.time()\n",
        "\n",
        "# Train the model\n",
        "history = model.fit(X_train, y_train,\n",
        "                    epochs=epochs,\n",
        "                    batch_size=batch_size,\n",
        "                    validation_data=(X_test, y_test),\n",
        "                    callbacks=[early_stopping])\n",
        "\n",
        "# Stop the timer\n",
        "end_time = time.time()\n",
        "\n",
        "# Calculate and print the training time\n",
        "training_time = end_time - start_time\n",
        "print(f\"\\nTraining finished in {training_time:.2f} seconds (approx {training_time/60:.1f} minutes).\")"
      ],
      "metadata": {
        "colab": {
          "base_uri": "https://localhost:8080/"
        },
        "id": "9EQLYJih1ZqU",
        "outputId": "cba45749-242c-41a5-cb32-2340a8327bb3"
      },
      "execution_count": null,
      "outputs": [
        {
          "output_type": "stream",
          "name": "stdout",
          "text": [
            "Starting BiLSTM model training with Word2Vec embeddings...\n",
            "Epoch 1/20\n",
            "\u001b[1m548/548\u001b[0m \u001b[32m━━━━━━━━━━━━━━━━━━━━\u001b[0m\u001b[37m\u001b[0m \u001b[1m111s\u001b[0m 184ms/step - accuracy: 0.7825 - loss: 0.4737 - precision: 0.7565 - recall: 0.8344 - val_accuracy: 0.8129 - val_loss: 0.4579 - val_precision: 0.7577 - val_recall: 0.9202\n",
            "Epoch 2/20\n",
            "\u001b[1m548/548\u001b[0m \u001b[32m━━━━━━━━━━━━━━━━━━━━\u001b[0m\u001b[37m\u001b[0m \u001b[1m100s\u001b[0m 182ms/step - accuracy: 0.8490 - loss: 0.3794 - precision: 0.8348 - recall: 0.8720 - val_accuracy: 0.8667 - val_loss: 0.3217 - val_precision: 0.8605 - val_recall: 0.8755\n",
            "Epoch 3/20\n",
            "\u001b[1m548/548\u001b[0m \u001b[32m━━━━━━━━━━━━━━━━━━━━\u001b[0m\u001b[37m\u001b[0m \u001b[1m116s\u001b[0m 211ms/step - accuracy: 0.8719 - loss: 0.3177 - precision: 0.8544 - recall: 0.8980 - val_accuracy: 0.8786 - val_loss: 0.2952 - val_precision: 0.8786 - val_recall: 0.8786\n",
            "Epoch 4/20\n",
            "\u001b[1m548/548\u001b[0m \u001b[32m━━━━━━━━━━━━━━━━━━━━\u001b[0m\u001b[37m\u001b[0m \u001b[1m128s\u001b[0m 185ms/step - accuracy: 0.8891 - loss: 0.2786 - precision: 0.8800 - recall: 0.9024 - val_accuracy: 0.8857 - val_loss: 0.2744 - val_precision: 0.8351 - val_recall: 0.9612\n",
            "Epoch 5/20\n",
            "\u001b[1m548/548\u001b[0m \u001b[32m━━━━━━━━━━━━━━━━━━━━\u001b[0m\u001b[37m\u001b[0m \u001b[1m101s\u001b[0m 185ms/step - accuracy: 0.8960 - loss: 0.2578 - precision: 0.8822 - recall: 0.9131 - val_accuracy: 0.8898 - val_loss: 0.2738 - val_precision: 0.9305 - val_recall: 0.8426\n",
            "Epoch 6/20\n",
            "\u001b[1m548/548\u001b[0m \u001b[32m━━━━━━━━━━━━━━━━━━━━\u001b[0m\u001b[37m\u001b[0m \u001b[1m144s\u001b[0m 188ms/step - accuracy: 0.9074 - loss: 0.2275 - precision: 0.8984 - recall: 0.9165 - val_accuracy: 0.9005 - val_loss: 0.2455 - val_precision: 0.8730 - val_recall: 0.9375\n",
            "Epoch 7/20\n",
            "\u001b[1m548/548\u001b[0m \u001b[32m━━━━━━━━━━━━━━━━━━━━\u001b[0m\u001b[37m\u001b[0m \u001b[1m107s\u001b[0m 194ms/step - accuracy: 0.9091 - loss: 0.2274 - precision: 0.8962 - recall: 0.9233 - val_accuracy: 0.9032 - val_loss: 0.2351 - val_precision: 0.9048 - val_recall: 0.9015\n",
            "Epoch 8/20\n",
            "\u001b[1m548/548\u001b[0m \u001b[32m━━━━━━━━━━━━━━━━━━━━\u001b[0m\u001b[37m\u001b[0m \u001b[1m137s\u001b[0m 185ms/step - accuracy: 0.9121 - loss: 0.2109 - precision: 0.9043 - recall: 0.9241 - val_accuracy: 0.9080 - val_loss: 0.2289 - val_precision: 0.9094 - val_recall: 0.9065\n",
            "Epoch 9/20\n",
            "\u001b[1m548/548\u001b[0m \u001b[32m━━━━━━━━━━━━━━━━━━━━\u001b[0m\u001b[37m\u001b[0m \u001b[1m143s\u001b[0m 187ms/step - accuracy: 0.9189 - loss: 0.2011 - precision: 0.9116 - recall: 0.9271 - val_accuracy: 0.8571 - val_loss: 0.3348 - val_precision: 0.7870 - val_recall: 0.9795\n",
            "Epoch 10/20\n",
            "\u001b[1m548/548\u001b[0m \u001b[32m━━━━━━━━━━━━━━━━━━━━\u001b[0m\u001b[37m\u001b[0m \u001b[1m100s\u001b[0m 183ms/step - accuracy: 0.9126 - loss: 0.2122 - precision: 0.8998 - recall: 0.9282 - val_accuracy: 0.9108 - val_loss: 0.2234 - val_precision: 0.9133 - val_recall: 0.9078\n",
            "Epoch 11/20\n",
            "\u001b[1m548/548\u001b[0m \u001b[32m━━━━━━━━━━━━━━━━━━━━\u001b[0m\u001b[37m\u001b[0m \u001b[1m102s\u001b[0m 185ms/step - accuracy: 0.9276 - loss: 0.1827 - precision: 0.9176 - recall: 0.9402 - val_accuracy: 0.9071 - val_loss: 0.2293 - val_precision: 0.8839 - val_recall: 0.9375\n",
            "Epoch 12/20\n",
            "\u001b[1m548/548\u001b[0m \u001b[32m━━━━━━━━━━━━━━━━━━━━\u001b[0m\u001b[37m\u001b[0m \u001b[1m102s\u001b[0m 185ms/step - accuracy: 0.9355 - loss: 0.1657 - precision: 0.9280 - recall: 0.9452 - val_accuracy: 0.8845 - val_loss: 0.2705 - val_precision: 0.9460 - val_recall: 0.8157\n",
            "Epoch 13/20\n",
            "\u001b[1m548/548\u001b[0m \u001b[32m━━━━━━━━━━━━━━━━━━━━\u001b[0m\u001b[37m\u001b[0m \u001b[1m138s\u001b[0m 178ms/step - accuracy: 0.9329 - loss: 0.1661 - precision: 0.9265 - recall: 0.9422 - val_accuracy: 0.9007 - val_loss: 0.2513 - val_precision: 0.8680 - val_recall: 0.9453\n",
            "\n",
            "Training finished in 1570.11 seconds (approx 26.2 minutes).\n"
          ]
        }
      ]
    },
    {
      "cell_type": "code",
      "source": [
        "# --- 1. Performance Evaluation on Test Set ---\n",
        "print(\"--- Final Performance Evaluation (BiLSTM with Word2Vec) ---\")\n",
        "\n",
        "# Get model's prediction probabilities on the test set\n",
        "y_pred_probs = model.predict(X_test)\n",
        "\n",
        "# Convert probabilities to binary class labels (0 or 1) using a 0.5 threshold\n",
        "y_pred = (y_pred_probs > 0.5).astype(\"int32\")\n",
        "\n",
        "# Calculate and print the final metrics\n",
        "accuracy = accuracy_score(y_test, y_pred)\n",
        "f1 = f1_score(y_test, y_pred)\n",
        "roc_auc = roc_auc_score(y_test, y_pred_probs) # Use probabilities for ROC-AUC\n",
        "\n",
        "print(f\"\\nOverall Test Metrics:\")\n",
        "print(f\"Accuracy:  {accuracy:.4f}\")\n",
        "print(f\"F1 Score:  {f1:.4f}\")\n",
        "print(f\"ROC-AUC Score: {roc_auc:.4f}\\n\")\n",
        "\n",
        "# Display a detailed classification report\n",
        "print(\"Classification Report:\")\n",
        "print(classification_report(y_test, y_pred, target_names=['Not Depressed (0)', 'Depressed (1)']))\n",
        "\n",
        "\n",
        "# --- 2. Display the Confusion Matrix ---\n",
        "print(\"\\nConfusion Matrix:\")\n",
        "cm = confusion_matrix(y_test, y_pred)\n",
        "plt.figure(figsize=(6, 5))\n",
        "sns.heatmap(cm, annot=True, fmt='d', cmap='Blues',\n",
        "            xticklabels=['Not Depressed (0)', 'Depressed (1)'],\n",
        "            yticklabels=['Not Depressed (0)', 'Depressed (1)'])\n",
        "plt.xlabel('Predicted Label')\n",
        "plt.ylabel('True Label')\n",
        "plt.title('Confusion Matrix (BiLSTM with Word2Vec)')\n",
        "plt.show()\n",
        "print(\"\\n\" + \"=\"*50 + \"\\n\")\n",
        "\n",
        "\n",
        "# --- 3. Practical Time Complexity Analysis ---\n",
        "print(\"--- Time Complexity ---\")\n",
        "print(f\"Total Training Time: {training_time:.2f} seconds (approx. {training_time/60:.1f} minutes)\")\n",
        "\n",
        "# Measure Inference Time\n",
        "inference_start_time = time.time()\n",
        "_ = model.predict(X_test)\n",
        "inference_end_time = time.time()\n",
        "total_inference_time = inference_end_time - inference_start_time\n",
        "avg_inference_time_per_sample = total_inference_time / len(X_test)\n",
        "\n",
        "print(f\"Total Inference Time for {len(X_test)} samples: {total_inference_time:.4f} seconds\")\n",
        "print(f\"Average Inference Time per Sample: {avg_inference_time_per_sample * 1000:.4f} milliseconds\\n\")\n",
        "print(\"=\"*50 + \"\\n\")\n",
        "\n",
        "\n",
        "# --- 4. Practical Space Complexity Analysis ---\n",
        "print(\"--- Space Complexity ---\")\n",
        "total_params = model.count_params()\n",
        "print(f\"Total Model Parameters: {total_params:,}\")\n",
        "\n",
        "# Save the model with a unique name\n",
        "model_filename = \"depression_detection_bilstm_word2vec.keras\"\n",
        "model.save(model_filename)\n",
        "model_size_bytes = os.path.getsize(model_filename)\n",
        "model_size_mb = model_size_bytes / (1024 * 1024)\n",
        "\n",
        "print(f\"Model Size on Disk: {model_size_mb:.2f} MB\")"
      ],
      "metadata": {
        "colab": {
          "base_uri": "https://localhost:8080/",
          "height": 1000
        },
        "id": "l5vNefYh1jGU",
        "outputId": "86660006-9871-4b49-9f53-61d754e002ec"
      },
      "execution_count": null,
      "outputs": [
        {
          "output_type": "stream",
          "name": "stdout",
          "text": [
            "--- Final Performance Evaluation (BiLSTM with Word2Vec) ---\n",
            "\u001b[1m137/137\u001b[0m \u001b[32m━━━━━━━━━━━━━━━━━━━━\u001b[0m\u001b[37m\u001b[0m \u001b[1m7s\u001b[0m 45ms/step\n",
            "\n",
            "Overall Test Metrics:\n",
            "Accuracy:  0.9108\n",
            "F1 Score:  0.9105\n",
            "ROC-AUC Score: 0.9700\n",
            "\n",
            "Classification Report:\n",
            "                   precision    recall  f1-score   support\n",
            "\n",
            "Not Depressed (0)       0.91      0.91      0.91      2190\n",
            "    Depressed (1)       0.91      0.91      0.91      2192\n",
            "\n",
            "         accuracy                           0.91      4382\n",
            "        macro avg       0.91      0.91      0.91      4382\n",
            "     weighted avg       0.91      0.91      0.91      4382\n",
            "\n",
            "\n",
            "Confusion Matrix:\n"
          ]
        },
        {
          "output_type": "display_data",
          "data": {
            "text/plain": [
              "<Figure size 600x500 with 2 Axes>"
            ],
            "image/png": "[encoded data removed]"
          },
          "metadata": {}
        },
        {
          "output_type": "stream",
          "name": "stdout",
          "text": [
            "\n",
            "==================================================\n",
            "\n",
            "--- Time Complexity ---\n",
            "Total Training Time: 1570.11 seconds (approx. 26.2 minutes)\n",
            "\u001b[1m137/137\u001b[0m \u001b[32m━━━━━━━━━━━━━━━━━━━━\u001b[0m\u001b[37m\u001b[0m \u001b[1m8s\u001b[0m 54ms/step\n",
            "Total Inference Time for 4382 samples: 7.6237 seconds\n",
            "Average Inference Time per Sample: 1.7398 milliseconds\n",
            "\n",
            "==================================================\n",
            "\n",
            "--- Space Complexity ---\n",
            "Total Model Parameters: 5,771,341\n",
            "Model Size on Disk: 22.74 MB\n"
          ]
        }
      ]
    },
    {
      "cell_type": "code",
      "source": [
        "model.summary()"
      ],
      "metadata": {
        "colab": {
          "base_uri": "https://localhost:8080/",
          "height": 302
        },
        "id": "wksCA3as2fWg",
        "outputId": "77dbb383-cee6-48fb-8768-07490e8df05a"
      },
      "execution_count": null,
      "outputs": [
        {
          "output_type": "display_data",
          "data": {
            "text/plain": [
              "\u001b[1mModel: \"sequential\"\u001b[0m\n"
            ],
            "text/html": [
              "<pre style=\"white-space:pre;overflow-x:auto;line-height:normal;font-family:Menlo,'DejaVu Sans Mono',consolas,'Courier New',monospace\"><span style=\"font-weight: bold\">Model: \"sequential\"</span>\n",
              "</pre>\n"
            ]
          },
          "metadata": {}
        },
        {
          "output_type": "display_data",
          "data": {
            "text/plain": [
              "┏━━━━━━━━━━━━━━━━━━━━━━━━━━━━━━━━━┳━━━━━━━━━━━━━━━━━━━━━━━━┳━━━━━━━━━━━━━━━┓\n",
              "┃\u001b[1m \u001b[0m\u001b[1mLayer (type)                   \u001b[0m\u001b[1m \u001b[0m┃\u001b[1m \u001b[0m\u001b[1mOutput Shape          \u001b[0m\u001b[1m \u001b[0m┃\u001b[1m \u001b[0m\u001b[1m      Param #\u001b[0m\u001b[1m \u001b[0m┃\n",
              "┡━━━━━━━━━━━━━━━━━━━━━━━━━━━━━━━━━╇━━━━━━━━━━━━━━━━━━━━━━━━╇━━━━━━━━━━━━━━━┩\n",
              "│ embedding (\u001b[38;5;33mEmbedding\u001b[0m)           │ (\u001b[38;5;45mNone\u001b[0m, \u001b[38;5;34m192\u001b[0m, \u001b[38;5;34m100\u001b[0m)       │     \u001b[38;5;34m5,682,700\u001b[0m │\n",
              "├─────────────────────────────────┼────────────────────────┼───────────────┤\n",
              "│ bidirectional (\u001b[38;5;33mBidirectional\u001b[0m)   │ (\u001b[38;5;45mNone\u001b[0m, \u001b[38;5;34m128\u001b[0m)            │        \u001b[38;5;34m84,480\u001b[0m │\n",
              "├─────────────────────────────────┼────────────────────────┼───────────────┤\n",
              "│ dropout (\u001b[38;5;33mDropout\u001b[0m)               │ (\u001b[38;5;45mNone\u001b[0m, \u001b[38;5;34m128\u001b[0m)            │             \u001b[38;5;34m0\u001b[0m │\n",
              "├─────────────────────────────────┼────────────────────────┼───────────────┤\n",
              "│ dense (\u001b[38;5;33mDense\u001b[0m)                   │ (\u001b[38;5;45mNone\u001b[0m, \u001b[38;5;34m32\u001b[0m)             │         \u001b[38;5;34m4,128\u001b[0m │\n",
              "├─────────────────────────────────┼────────────────────────┼───────────────┤\n",
              "│ dense_1 (\u001b[38;5;33mDense\u001b[0m)                 │ (\u001b[38;5;45mNone\u001b[0m, \u001b[38;5;34m1\u001b[0m)              │            \u001b[38;5;34m33\u001b[0m │\n",
              "└─────────────────────────────────┴────────────────────────┴───────────────┘\n"
            ],
            "text/html": [
              "<pre style=\"white-space:pre;overflow-x:auto;line-height:normal;font-family:Menlo,'DejaVu Sans Mono',consolas,'Courier New',monospace\">┏━━━━━━━━━━━━━━━━━━━━━━━━━━━━━━━━━┳━━━━━━━━━━━━━━━━━━━━━━━━┳━━━━━━━━━━━━━━━┓\n",
              "┃<span style=\"font-weight: bold\"> Layer (type)                    </span>┃<span style=\"font-weight: bold\"> Output Shape           </span>┃<span style=\"font-weight: bold\">       Param # </span>┃\n",
              "┡━━━━━━━━━━━━━━━━━━━━━━━━━━━━━━━━━╇━━━━━━━━━━━━━━━━━━━━━━━━╇━━━━━━━━━━━━━━━┩\n",
              "│ embedding (<span style=\"color: #0087ff; text-decoration-color: #0087ff\">Embedding</span>)           │ (<span style=\"color: #00d7ff; text-decoration-color: #00d7ff\">None</span>, <span style=\"color: #00af00; text-decoration-color: #00af00\">192</span>, <span style=\"color: #00af00; text-decoration-color: #00af00\">100</span>)       │     <span style=\"color: #00af00; text-decoration-color: #00af00\">5,682,700</span> │\n",
              "├─────────────────────────────────┼────────────────────────┼───────────────┤\n",
              "│ bidirectional (<span style=\"color: #0087ff; text-decoration-color: #0087ff\">Bidirectional</span>)   │ (<span style=\"color: #00d7ff; text-decoration-color: #00d7ff\">None</span>, <span style=\"color: #00af00; text-decoration-color: #00af00\">128</span>)            │        <span style=\"color: #00af00; text-decoration-color: #00af00\">84,480</span> │\n",
              "├─────────────────────────────────┼────────────────────────┼───────────────┤\n",
              "│ dropout (<span style=\"color: #0087ff; text-decoration-color: #0087ff\">Dropout</span>)               │ (<span style=\"color: #00d7ff; text-decoration-color: #00d7ff\">None</span>, <span style=\"color: #00af00; text-decoration-color: #00af00\">128</span>)            │             <span style=\"color: #00af00; text-decoration-color: #00af00\">0</span> │\n",
              "├─────────────────────────────────┼────────────────────────┼───────────────┤\n",
              "│ dense (<span style=\"color: #0087ff; text-decoration-color: #0087ff\">Dense</span>)                   │ (<span style=\"color: #00d7ff; text-decoration-color: #00d7ff\">None</span>, <span style=\"color: #00af00; text-decoration-color: #00af00\">32</span>)             │         <span style=\"color: #00af00; text-decoration-color: #00af00\">4,128</span> │\n",
              "├─────────────────────────────────┼────────────────────────┼───────────────┤\n",
              "│ dense_1 (<span style=\"color: #0087ff; text-decoration-color: #0087ff\">Dense</span>)                 │ (<span style=\"color: #00d7ff; text-decoration-color: #00d7ff\">None</span>, <span style=\"color: #00af00; text-decoration-color: #00af00\">1</span>)              │            <span style=\"color: #00af00; text-decoration-color: #00af00\">33</span> │\n",
              "└─────────────────────────────────┴────────────────────────┴───────────────┘\n",
              "</pre>\n"
            ]
          },
          "metadata": {}
        },
        {
          "output_type": "display_data",
          "data": {
            "text/plain": [
              "\u001b[1m Total params: \u001b[0m\u001b[38;5;34m5,948,625\u001b[0m (22.69 MB)\n"
            ],
            "text/html": [
              "<pre style=\"white-space:pre;overflow-x:auto;line-height:normal;font-family:Menlo,'DejaVu Sans Mono',consolas,'Courier New',monospace\"><span style=\"font-weight: bold\"> Total params: </span><span style=\"color: #00af00; text-decoration-color: #00af00\">5,948,625</span> (22.69 MB)\n",
              "</pre>\n"
            ]
          },
          "metadata": {}
        },
        {
          "output_type": "display_data",
          "data": {
            "text/plain": [
              "\u001b[1m Trainable params: \u001b[0m\u001b[38;5;34m88,641\u001b[0m (346.25 KB)\n"
            ],
            "text/html": [
              "<pre style=\"white-space:pre;overflow-x:auto;line-height:normal;font-family:Menlo,'DejaVu Sans Mono',consolas,'Courier New',monospace\"><span style=\"font-weight: bold\"> Trainable params: </span><span style=\"color: #00af00; text-decoration-color: #00af00\">88,641</span> (346.25 KB)\n",
              "</pre>\n"
            ]
          },
          "metadata": {}
        },
        {
          "output_type": "display_data",
          "data": {
            "text/plain": [
              "\u001b[1m Non-trainable params: \u001b[0m\u001b[38;5;34m5,682,700\u001b[0m (21.68 MB)\n"
            ],
            "text/html": [
              "<pre style=\"white-space:pre;overflow-x:auto;line-height:normal;font-family:Menlo,'DejaVu Sans Mono',consolas,'Courier New',monospace\"><span style=\"font-weight: bold\"> Non-trainable params: </span><span style=\"color: #00af00; text-decoration-color: #00af00\">5,682,700</span> (21.68 MB)\n",
              "</pre>\n"
            ]
          },
          "metadata": {}
        },
        {
          "output_type": "display_data",
          "data": {
            "text/plain": [
              "\u001b[1m Optimizer params: \u001b[0m\u001b[38;5;34m177,284\u001b[0m (692.52 KB)\n"
            ],
            "text/html": [
              "<pre style=\"white-space:pre;overflow-x:auto;line-height:normal;font-family:Menlo,'DejaVu Sans Mono',consolas,'Courier New',monospace\"><span style=\"font-weight: bold\"> Optimizer params: </span><span style=\"color: #00af00; text-decoration-color: #00af00\">177,284</span> (692.52 KB)\n",
              "</pre>\n"
            ]
          },
          "metadata": {}
        }
      ]
    },
    {
      "cell_type": "code",
      "source": [
        "import os\n",
        "import pickle\n",
        "\n",
        "# --- 1. Save all model components to the Colab environment ---\n",
        "\n",
        "# a) The custom Word2Vec model\n",
        "w2v_model_filename = \"word2vec_bilstm.model\"\n",
        "w2v_model.save(w2v_model_filename)\n",
        "print(f\"Word2Vec model saved to '{w2v_model_filename}'\")\n",
        "\n",
        "# b) The Keras Tokenizer object\n",
        "tokenizer_filename = 'tokenizer_bilstm_word2vec.pickle'\n",
        "with open(tokenizer_filename, 'wb') as handle:\n",
        "    pickle.dump(tokenizer, handle, protocol=pickle.HIGHEST_PROTOCOL)\n",
        "print(f\"Keras Tokenizer saved to '{tokenizer_filename}'\")\n",
        "\n",
        "\n",
        "# --- 2. Copy all artifacts to your Google Drive ---\n",
        "# Define the destination folder in your Google Drive\n",
        "destination_folder = '/content/drive/MyDrive/Depression detection dataset/saved_models/BiLSTM_Word2Vec/'\n",
        "\n",
        "# Create the folder if it doesn't already exist\n",
        "os.makedirs(destination_folder, exist_ok=True)\n",
        "\n",
        "# List of all the files we want to save from this experiment\n",
        "files_to_copy = [\n",
        "    'depression_detection_bilstm_word2vec.keras', # Saved in the evaluation step\n",
        "    'word2vec_bilstm.model',                      # Just saved now\n",
        "    'tokenizer_bilstm_word2vec.pickle'            # Just saved now\n",
        "]\n",
        "\n",
        "# Loop through the files and copy them to your Drive\n",
        "for filename in files_to_copy:\n",
        "  source_path = f'./{filename}'\n",
        "  destination_path = os.path.join(destination_folder, filename)\n",
        "  if os.path.exists(source_path):\n",
        "    !cp \"{source_path}\" \"{destination_path}\"\n",
        "    print(f\"Successfully copied '{filename}' to your Google Drive.\")\n",
        "  else:\n",
        "    print(f\"Warning: '{filename}' not found. Please ensure the previous cells were run.\")\n",
        "\n",
        "print(f\"\\nYour BiLSTM with Word2Vec model files are now safely stored in your Google Drive!\")"
      ],
      "metadata": {
        "colab": {
          "base_uri": "https://localhost:8080/"
        },
        "id": "OgOCiQ1S2gQA",
        "outputId": "02e4ff9f-5bab-42ca-b975-782a41f6c170"
      },
      "execution_count": null,
      "outputs": [
        {
          "output_type": "stream",
          "name": "stdout",
          "text": [
            "Word2Vec model saved to 'word2vec_bilstm.model'\n",
            "Keras Tokenizer saved to 'tokenizer_bilstm_word2vec.pickle'\n",
            "Successfully copied 'depression_detection_bilstm_word2vec.keras' to your Google Drive.\n",
            "Successfully copied 'word2vec_bilstm.model' to your Google Drive.\n",
            "Successfully copied 'tokenizer_bilstm_word2vec.pickle' to your Google Drive.\n",
            "\n",
            "Your BiLSTM with Word2Vec model files are now safely stored in your Google Drive!\n"
          ]
        }
      ]
    }
  ]
}