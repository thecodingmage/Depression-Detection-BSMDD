{
  "nbformat": 4,
  "nbformat_minor": 0,
  "metadata": {
    "colab": {
      "provenance": []
    },
    "kernelspec": {
      "name": "python3",
      "display_name": "Python 3"
    },
    "language_info": {
      "name": "python"
    }
  },
  "cells": [
    {
      "cell_type": "code",
      "source": [
        "# Mount Google Drive to access your dataset\n",
        "from google.colab import drive\n",
        "drive.mount('/content/drive')"
      ],
      "metadata": {
        "colab": {
          "base_uri": "https://localhost:8080/"
        },
        "id": "IMSwpIWDE901",
        "outputId": "5231ae50-88cd-416a-cf2f-cfe41cfec9e8"
      },
      "execution_count": 1,
      "outputs": [
        {
          "output_type": "stream",
          "name": "stdout",
          "text": [
            "Mounted at /content/drive\n"
          ]
        }
      ]
    },
    {
      "cell_type": "code",
      "source": [
        "!pip install gensim"
      ],
      "metadata": {
        "colab": {
          "base_uri": "https://localhost:8080/",
          "height": 669
        },
        "id": "HoVdp6e_FNU9",
        "outputId": "0ec0ff4a-f98f-449a-a4dd-bc8f27984e62"
      },
      "execution_count": 3,
      "outputs": [
        {
          "output_type": "stream",
          "name": "stdout",
          "text": [
            "Collecting gensim\n",
            "  Downloading gensim-4.3.3-cp312-cp312-manylinux_2_17_x86_64.manylinux2014_x86_64.whl.metadata (8.1 kB)\n",
            "Collecting numpy<2.0,>=1.18.5 (from gensim)\n",
            "  Downloading numpy-1.26.4-cp312-cp312-manylinux_2_17_x86_64.manylinux2014_x86_64.whl.metadata (61 kB)\n",
            "\u001b[2K     \u001b[90m━━━━━━━━━━━━━━━━━━━━━━━━━━━━━━━━━━━━━━━━\u001b[0m \u001b[32m61.0/61.0 kB\u001b[0m \u001b[31m3.5 MB/s\u001b[0m eta \u001b[36m0:00:00\u001b[0m\n",
            "\u001b[?25hCollecting scipy<1.14.0,>=1.7.0 (from gensim)\n",
            "  Downloading scipy-1.13.1-cp312-cp312-manylinux_2_17_x86_64.manylinux2014_x86_64.whl.metadata (60 kB)\n",
            "\u001b[2K     \u001b[90m━━━━━━━━━━━━━━━━━━━━━━━━━━━━━━━━━━━━━━━━\u001b[0m \u001b[32m60.6/60.6 kB\u001b[0m \u001b[31m5.0 MB/s\u001b[0m eta \u001b[36m0:00:00\u001b[0m\n",
            "\u001b[?25hRequirement already satisfied: smart-open>=1.8.1 in /usr/local/lib/python3.12/dist-packages (from gensim) (7.3.1)\n",
            "Requirement already satisfied: wrapt in /usr/local/lib/python3.12/dist-packages (from smart-open>=1.8.1->gensim) (1.17.3)\n",
            "Downloading gensim-4.3.3-cp312-cp312-manylinux_2_17_x86_64.manylinux2014_x86_64.whl (26.6 MB)\n",
            "\u001b[2K   \u001b[90m━━━━━━━━━━━━━━━━━━━━━━━━━━━━━━━━━━━━━━━━\u001b[0m \u001b[32m26.6/26.6 MB\u001b[0m \u001b[31m75.9 MB/s\u001b[0m eta \u001b[36m0:00:00\u001b[0m\n",
            "\u001b[?25hDownloading numpy-1.26.4-cp312-cp312-manylinux_2_17_x86_64.manylinux2014_x86_64.whl (18.0 MB)\n",
            "\u001b[2K   \u001b[90m━━━━━━━━━━━━━━━━━━━━━━━━━━━━━━━━━━━━━━━━\u001b[0m \u001b[32m18.0/18.0 MB\u001b[0m \u001b[31m108.0 MB/s\u001b[0m eta \u001b[36m0:00:00\u001b[0m\n",
            "\u001b[?25hDownloading scipy-1.13.1-cp312-cp312-manylinux_2_17_x86_64.manylinux2014_x86_64.whl (38.2 MB)\n",
            "\u001b[2K   \u001b[90m━━━━━━━━━━━━━━━━━━━━━━━━━━━━━━━━━━━━━━━━\u001b[0m \u001b[32m38.2/38.2 MB\u001b[0m \u001b[31m17.2 MB/s\u001b[0m eta \u001b[36m0:00:00\u001b[0m\n",
            "\u001b[?25hInstalling collected packages: numpy, scipy, gensim\n",
            "  Attempting uninstall: numpy\n",
            "    Found existing installation: numpy 2.0.2\n",
            "    Uninstalling numpy-2.0.2:\n",
            "      Successfully uninstalled numpy-2.0.2\n",
            "  Attempting uninstall: scipy\n",
            "    Found existing installation: scipy 1.16.2\n",
            "    Uninstalling scipy-1.16.2:\n",
            "      Successfully uninstalled scipy-1.16.2\n",
            "\u001b[31mERROR: pip's dependency resolver does not currently take into account all the packages that are installed. This behaviour is the source of the following dependency conflicts.\n",
            "opencv-python 4.12.0.88 requires numpy<2.3.0,>=2; python_version >= \"3.9\", but you have numpy 1.26.4 which is incompatible.\n",
            "opencv-contrib-python 4.12.0.88 requires numpy<2.3.0,>=2; python_version >= \"3.9\", but you have numpy 1.26.4 which is incompatible.\n",
            "opencv-python-headless 4.12.0.88 requires numpy<2.3.0,>=2; python_version >= \"3.9\", but you have numpy 1.26.4 which is incompatible.\n",
            "tsfresh 0.21.1 requires scipy>=1.14.0; python_version >= \"3.10\", but you have scipy 1.13.1 which is incompatible.\n",
            "thinc 8.3.6 requires numpy<3.0.0,>=2.0.0, but you have numpy 1.26.4 which is incompatible.\u001b[0m\u001b[31m\n",
            "\u001b[0mSuccessfully installed gensim-4.3.3 numpy-1.26.4 scipy-1.13.1\n"
          ]
        },
        {
          "output_type": "display_data",
          "data": {
            "application/vnd.colab-display-data+json": {
              "pip_warning": {
                "packages": [
                  "numpy",
                  "scipy"
                ]
              },
              "id": "ef53c5406e7643f58f1d1fda7618aff4"
            }
          },
          "metadata": {}
        }
      ]
    },
    {
      "cell_type": "code",
      "execution_count": 1,
      "metadata": {
        "colab": {
          "base_uri": "https://localhost:8080/"
        },
        "id": "TuMRj6cmDtAZ",
        "outputId": "6ac0aa18-9ded-498e-c4eb-1803df7337c6"
      },
      "outputs": [
        {
          "output_type": "stream",
          "name": "stdout",
          "text": [
            "Dataset loaded successfully!\n",
            "First 5 rows of the dataset:\n",
            "                                        text_bengali  \\\n",
            "0  মানসিক শারীরিকভাবে অসুস্থ ক্লান্ত পুরো জীবন শা...   \n",
            "1  দয়া সাথে থাকুন অত্যন্ত দীর্ঘ আপনাকে পড়তে উত্...   \n",
            "2  জানতাম সাথে ভুল লোক খারাপ জীবন কাটিয়েছে সম্পূ...   \n",
            "3  অনেটিভ ইংরেজি স্পিকারের অনুসরণ বিরক্তিকর অপ্রত...   \n",
            "4  অনেটিভ ইংরেজি স্পিকারের অনুসরণ বিরক্তিকর অপ্রত...   \n",
            "\n",
            "                                       text_banglish  label  \n",
            "0  manasika sharirikabhabe asustha klanta puro ji...      1  \n",
            "1  daya sathe thakuna atyanta dirgha apanake pada...      1  \n",
            "2  janatama sathe bhula loka kharapa jibana katiy...      1  \n",
            "3  anetibha imreji spikarera anusarana biraktikar...      1  \n",
            "4  anetibha imreji spikarera anusarana biraktikar...      1  \n",
            "\n",
            "Dataset Info:\n",
            "<class 'pandas.core.frame.DataFrame'>\n",
            "RangeIndex: 21910 entries, 0 to 21909\n",
            "Data columns (total 3 columns):\n",
            " #   Column         Non-Null Count  Dtype \n",
            "---  ------         --------------  ----- \n",
            " 0   text_bengali   21910 non-null  object\n",
            " 1   text_banglish  21910 non-null  object\n",
            " 2   label          21910 non-null  int64 \n",
            "dtypes: int64(1), object(2)\n",
            "memory usage: 513.6+ KB\n"
          ]
        }
      ],
      "source": [
        "import pandas as pd\n",
        "import numpy as np\n",
        "import re\n",
        "import nltk\n",
        "from nltk.tokenize import word_tokenize\n",
        "import tensorflow as tf\n",
        "from tensorflow.keras.preprocessing.text import Tokenizer\n",
        "from tensorflow.keras.preprocessing.sequence import pad_sequences\n",
        "from tensorflow.keras.models import Sequential\n",
        "from tensorflow.keras.layers import Embedding, LSTM, Dense, Dropout\n",
        "from sklearn.model_selection import train_test_split\n",
        "from gensim.models import Word2Vec\n",
        "import time\n",
        "\n",
        "# --- Load the Dataset ---\n",
        "# IMPORTANT: Make sure the path to your file is correct.\n",
        "try:\n",
        "    file_path = '/content/drive/MyDrive/Depression detection dataset/BSMDD_main.xlsx'\n",
        "    df = pd.read_excel(file_path)\n",
        "    print(\"Dataset loaded successfully!\")\n",
        "    print(\"First 5 rows of the dataset:\")\n",
        "    print(df.head())\n",
        "except FileNotFoundError:\n",
        "    print(f\"Error: The file was not found at the specified path.\")\n",
        "    print(\"Please double-check the file path and try again.\")\n",
        "    df = None\n",
        "\n",
        "# Display basic information about the dataset\n",
        "if df is not None:\n",
        "    print(\"\\nDataset Info:\")\n",
        "    df.info()"
      ]
    },
    {
      "cell_type": "code",
      "source": [
        "import nltk\n",
        "nltk.download('punkt_tab')"
      ],
      "metadata": {
        "colab": {
          "base_uri": "https://localhost:8080/"
        },
        "id": "eFuTNF0MF1jG",
        "outputId": "43a980da-7680-43eb-aef9-77190c761584"
      },
      "execution_count": 3,
      "outputs": [
        {
          "output_type": "stream",
          "name": "stderr",
          "text": [
            "[nltk_data] Downloading package punkt_tab to /root/nltk_data...\n",
            "[nltk_data]   Unzipping tokenizers/punkt_tab.zip.\n"
          ]
        },
        {
          "output_type": "execute_result",
          "data": {
            "text/plain": [
              "True"
            ]
          },
          "metadata": {},
          "execution_count": 3
        }
      ]
    },
    {
      "cell_type": "code",
      "source": [
        "# Download the 'punkt' tokenizer from NLTK\n",
        "# This is required for word_tokenize\n",
        "nltk.download('punkt')\n",
        "\n",
        "# --- Data Cleaning and Preprocessing ---\n",
        "\n",
        "# 1. Drop rows with missing text\n",
        "df.dropna(subset=['text_banglish'], inplace=True)\n",
        "\n",
        "# 2. Rename 'Label' to 'label' for consistency\n",
        "if 'Label' in df.columns:\n",
        "    df.rename(columns={'Label': 'label'}, inplace=True)\n",
        "\n",
        "# 3. Define a function to clean the text\n",
        "def clean_text(text):\n",
        "    text = text.lower()  # Convert to lowercase\n",
        "    text = re.sub(r'http\\S+|www\\S+|https\\S+', '', text, flags=re.MULTILINE) # Remove URLs\n",
        "    text = re.sub(r'[^a-z\\s]', '', text) # Remove punctuation and numbers\n",
        "    text = re.sub(r'\\s+', ' ', text).strip() # Remove extra whitespace\n",
        "    return text\n",
        "\n",
        "# Apply the cleaning function\n",
        "df['cleaned_text'] = df['text_banglish'].apply(clean_text)\n",
        "\n",
        "# 4. Tokenize the text\n",
        "df['tokenized_text'] = df['cleaned_text'].apply(word_tokenize)\n",
        "\n",
        "# Display the first few rows with the new columns\n",
        "print(\"DataFrame after preprocessing and tokenization:\")\n",
        "print(df[['text_banglish', 'cleaned_text', 'tokenized_text', 'label']].head())\n",
        "\n",
        "# Display dataset info to check for null values again\n",
        "print(\"\\nDataset Info after cleaning:\")\n",
        "df.info()"
      ],
      "metadata": {
        "colab": {
          "base_uri": "https://localhost:8080/"
        },
        "id": "PqoL0bPaE38u",
        "outputId": "7260da52-095d-4a21-967a-15aab06f1a58"
      },
      "execution_count": 4,
      "outputs": [
        {
          "output_type": "stream",
          "name": "stderr",
          "text": [
            "[nltk_data] Downloading package punkt to /root/nltk_data...\n",
            "[nltk_data]   Package punkt is already up-to-date!\n"
          ]
        },
        {
          "output_type": "stream",
          "name": "stdout",
          "text": [
            "DataFrame after preprocessing and tokenization:\n",
            "                                       text_banglish  \\\n",
            "0  manasika sharirikabhabe asustha klanta puro ji...   \n",
            "1  daya sathe thakuna atyanta dirgha apanake pada...   \n",
            "2  janatama sathe bhula loka kharapa jibana katiy...   \n",
            "3  anetibha imreji spikarera anusarana biraktikar...   \n",
            "4  anetibha imreji spikarera anusarana biraktikar...   \n",
            "\n",
            "                                        cleaned_text  \\\n",
            "0  manasika sharirikabhabe asustha klanta puro ji...   \n",
            "1  daya sathe thakuna atyanta dirgha apanake pada...   \n",
            "2  janatama sathe bhula loka kharapa jibana katiy...   \n",
            "3  anetibha imreji spikarera anusarana biraktikar...   \n",
            "4  anetibha imreji spikarera anusarana biraktikar...   \n",
            "\n",
            "                                      tokenized_text  label  \n",
            "0  [manasika, sharirikabhabe, asustha, klanta, pu...      1  \n",
            "1  [daya, sathe, thakuna, atyanta, dirgha, apanak...      1  \n",
            "2  [janatama, sathe, bhula, loka, kharapa, jibana...      1  \n",
            "3  [anetibha, imreji, spikarera, anusarana, birak...      1  \n",
            "4  [anetibha, imreji, spikarera, anusarana, birak...      1  \n",
            "\n",
            "Dataset Info after cleaning:\n",
            "<class 'pandas.core.frame.DataFrame'>\n",
            "RangeIndex: 21910 entries, 0 to 21909\n",
            "Data columns (total 5 columns):\n",
            " #   Column          Non-Null Count  Dtype \n",
            "---  ------          --------------  ----- \n",
            " 0   text_bengali    21910 non-null  object\n",
            " 1   text_banglish   21910 non-null  object\n",
            " 2   label           21910 non-null  int64 \n",
            " 3   cleaned_text    21910 non-null  object\n",
            " 4   tokenized_text  21910 non-null  object\n",
            "dtypes: int64(1), object(4)\n",
            "memory usage: 856.0+ KB\n"
          ]
        }
      ]
    },
    {
      "cell_type": "code",
      "source": [
        "# --- Train Custom Word2Vec Model ---\n",
        "\n",
        "# The tokenized text will be our corpus for training\n",
        "sentences = df['tokenized_text'].tolist()\n",
        "\n",
        "print(\"Starting Word2Vec model training...\")\n",
        "\n",
        "# Parameters:\n",
        "# vector_size: The dimensionality of the word vectors. 100 is a good starting point.\n",
        "# window: The maximum distance between the current and predicted word within a sentence.\n",
        "# min_count: Ignores all words with a total frequency lower than this.\n",
        "# workers: Use these many worker threads to train the model (faster training).\n",
        "word2vec_model = Word2Vec(sentences=sentences, vector_size=100, window=5, min_count=2, workers=4)\n",
        "\n",
        "print(\"Word2Vec model training completed.\")\n",
        "\n",
        "# Save the trained model for later use\n",
        "word2vec_model.save(\"word2vec.model\")\n",
        "print(\"Word2Vec model saved to 'word2vec.model'\")"
      ],
      "metadata": {
        "colab": {
          "base_uri": "https://localhost:8080/"
        },
        "id": "vkf2o88aFqQG",
        "outputId": "d68d95b2-3402-4afa-a75d-de3d725593e6"
      },
      "execution_count": 5,
      "outputs": [
        {
          "output_type": "stream",
          "name": "stdout",
          "text": [
            "Starting Word2Vec model training...\n",
            "Word2Vec model training completed.\n",
            "Word2Vec model saved to 'word2vec.model'\n"
          ]
        }
      ]
    },
    {
      "cell_type": "code",
      "source": [
        "# --- Prepare Data for the LSTM Model ---\n",
        "\n",
        "# 1. Keras Tokenizer for integer encoding\n",
        "# We create a new vocabulary based on our tokenized text.\n",
        "# The <OOV> token is for words that are not in the vocabulary.\n",
        "tokenizer = Tokenizer(oov_token=\"<OOV>\")\n",
        "tokenizer.fit_on_texts(df['tokenized_text'])\n",
        "word_index = tokenizer.word_index\n",
        "vocab_size = len(word_index) + 1 # Add 1 for the padding token\n",
        "\n",
        "print(f\"Found {len(word_index)} unique tokens in the dataset.\")\n",
        "\n",
        "# 2. Convert text to sequences of integers\n",
        "sequences = tokenizer.texts_to_sequences(df['tokenized_text'])\n",
        "\n",
        "# 3. Pad sequences to ensure uniform length\n",
        "# We'll use a max length of 192, which is suitable for this kind of text data.\n",
        "max_length = 192\n",
        "padded_sequences = pad_sequences(sequences, maxlen=max_length, padding='post', truncating='post')\n",
        "\n",
        "print(f\"Padding sequences to a max length of: {max_length}\")\n",
        "\n",
        "# 4. Create the Embedding Matrix\n",
        "embedding_dim = 100  # This must match the vector_size from our Word2Vec model\n",
        "embedding_matrix = np.zeros((vocab_size, embedding_dim))\n",
        "\n",
        "for word, i in word_index.items():\n",
        "    if word in word2vec_model.wv:\n",
        "        embedding_matrix[i] = word2vec_model.wv[word]\n",
        "# Words not found in Word2Vec will be all zeros.\n",
        "\n",
        "print(f\"Embedding Matrix Shape: {embedding_matrix.shape}\")\n",
        "\n",
        "\n",
        "# --- Split Data into Training and Testing Sets ---\n",
        "X = padded_sequences\n",
        "y = df['label'].values\n",
        "\n",
        "X_train, X_test, y_train, y_test = train_test_split(X, y, test_size=0.2, random_state=42, stratify=y)\n",
        "\n",
        "print(\"\\nData splitting complete.\")\n",
        "print(f\"Training data shape (X_train): {X_train.shape}\")\n",
        "print(f\"Testing data shape (X_test): {X_test.shape}\")"
      ],
      "metadata": {
        "colab": {
          "base_uri": "https://localhost:8080/"
        },
        "id": "XmLrrxJPGB_6",
        "outputId": "0c42881b-63ad-42ef-a5e5-fe02bc293f74"
      },
      "execution_count": 6,
      "outputs": [
        {
          "output_type": "stream",
          "name": "stdout",
          "text": [
            "Found 56827 unique tokens in the dataset.\n",
            "Padding sequences to a max length of: 192\n",
            "Embedding Matrix Shape: (56828, 100)\n",
            "\n",
            "Data splitting complete.\n",
            "Training data shape (X_train): (17528, 192)\n",
            "Testing data shape (X_test): (4382, 192)\n"
          ]
        }
      ]
    },
    {
      "cell_type": "code",
      "source": [
        "from tensorflow.keras.callbacks import EarlyStopping\n",
        "from tensorflow.keras.optimizers import Adam\n",
        "\n",
        "# --- Build and Compile the Model (Improved Version) ---\n",
        "\n",
        "# Clear any previous models from memory\n",
        "tf.keras.backend.clear_session()\n",
        "\n",
        "model = Sequential([\n",
        "    Embedding(\n",
        "        input_dim=vocab_size,\n",
        "        output_dim=embedding_dim,\n",
        "        weights=[embedding_matrix],\n",
        "        input_length=max_length,\n",
        "        trainable=True\n",
        "    ),\n",
        "    LSTM(units=64),\n",
        "    Dropout(0.5),\n",
        "    Dense(units=32, activation='relu'),\n",
        "    Dense(units=1, activation='sigmoid')\n",
        "])\n",
        "\n",
        "# 1. Use a lower learning rate for more stable training\n",
        "optimizer = Adam(learning_rate=0.0001)\n",
        "\n",
        "# 2. Compile the model with the new optimizer\n",
        "model.compile(\n",
        "    loss='binary_crossentropy',\n",
        "    optimizer=optimizer,\n",
        "    metrics=['accuracy', tf.keras.metrics.Precision(), tf.keras.metrics.Recall()]\n",
        ")\n",
        "\n",
        "# Define the EarlyStopping callback\n",
        "# It will monitor 'val_loss' and stop training if it doesn't improve for 3 epochs.\n",
        "# restore_best_weights=True ensures the model reverts to the best version.\n",
        "early_stopping = EarlyStopping(\n",
        "    monitor='val_loss',\n",
        "    patience=3,\n",
        "    restore_best_weights=True,\n",
        "    verbose=1\n",
        ")\n",
        "\n",
        "print(\"Model re-compiled with a lower learning rate and Early Stopping.\")\n",
        "model.summary()"
      ],
      "metadata": {
        "colab": {
          "base_uri": "https://localhost:8080/",
          "height": 338
        },
        "id": "TSyctzhIGPXi",
        "outputId": "86ed0a87-461e-49f3-c4c1-831b6b49a86a"
      },
      "execution_count": 15,
      "outputs": [
        {
          "output_type": "stream",
          "name": "stdout",
          "text": [
            "Model re-compiled with a lower learning rate and Early Stopping.\n"
          ]
        },
        {
          "output_type": "stream",
          "name": "stderr",
          "text": [
            "/usr/local/lib/python3.12/dist-packages/keras/src/layers/core/embedding.py:97: UserWarning: Argument `input_length` is deprecated. Just remove it.\n",
            "  warnings.warn(\n"
          ]
        },
        {
          "output_type": "display_data",
          "data": {
            "text/plain": [
              "\u001b[1mModel: \"sequential\"\u001b[0m\n"
            ],
            "text/html": [
              "<pre style=\"white-space:pre;overflow-x:auto;line-height:normal;font-family:Menlo,'DejaVu Sans Mono',consolas,'Courier New',monospace\"><span style=\"font-weight: bold\">Model: \"sequential\"</span>\n",
              "</pre>\n"
            ]
          },
          "metadata": {}
        },
        {
          "output_type": "display_data",
          "data": {
            "text/plain": [
              "┏━━━━━━━━━━━━━━━━━━━━━━━━━━━━━━━━━┳━━━━━━━━━━━━━━━━━━━━━━━━┳━━━━━━━━━━━━━━━┓\n",
              "┃\u001b[1m \u001b[0m\u001b[1mLayer (type)                   \u001b[0m\u001b[1m \u001b[0m┃\u001b[1m \u001b[0m\u001b[1mOutput Shape          \u001b[0m\u001b[1m \u001b[0m┃\u001b[1m \u001b[0m\u001b[1m      Param #\u001b[0m\u001b[1m \u001b[0m┃\n",
              "┡━━━━━━━━━━━━━━━━━━━━━━━━━━━━━━━━━╇━━━━━━━━━━━━━━━━━━━━━━━━╇━━━━━━━━━━━━━━━┩\n",
              "│ embedding (\u001b[38;5;33mEmbedding\u001b[0m)           │ ?                      │     \u001b[38;5;34m5,682,800\u001b[0m │\n",
              "├─────────────────────────────────┼────────────────────────┼───────────────┤\n",
              "│ lstm (\u001b[38;5;33mLSTM\u001b[0m)                     │ ?                      │   \u001b[38;5;34m0\u001b[0m (unbuilt) │\n",
              "├─────────────────────────────────┼────────────────────────┼───────────────┤\n",
              "│ dropout (\u001b[38;5;33mDropout\u001b[0m)               │ ?                      │             \u001b[38;5;34m0\u001b[0m │\n",
              "├─────────────────────────────────┼────────────────────────┼───────────────┤\n",
              "│ dense (\u001b[38;5;33mDense\u001b[0m)                   │ ?                      │   \u001b[38;5;34m0\u001b[0m (unbuilt) │\n",
              "├─────────────────────────────────┼────────────────────────┼───────────────┤\n",
              "│ dense_1 (\u001b[38;5;33mDense\u001b[0m)                 │ ?                      │   \u001b[38;5;34m0\u001b[0m (unbuilt) │\n",
              "└─────────────────────────────────┴────────────────────────┴───────────────┘\n"
            ],
            "text/html": [
              "<pre style=\"white-space:pre;overflow-x:auto;line-height:normal;font-family:Menlo,'DejaVu Sans Mono',consolas,'Courier New',monospace\">┏━━━━━━━━━━━━━━━━━━━━━━━━━━━━━━━━━┳━━━━━━━━━━━━━━━━━━━━━━━━┳━━━━━━━━━━━━━━━┓\n",
              "┃<span style=\"font-weight: bold\"> Layer (type)                    </span>┃<span style=\"font-weight: bold\"> Output Shape           </span>┃<span style=\"font-weight: bold\">       Param # </span>┃\n",
              "┡━━━━━━━━━━━━━━━━━━━━━━━━━━━━━━━━━╇━━━━━━━━━━━━━━━━━━━━━━━━╇━━━━━━━━━━━━━━━┩\n",
              "│ embedding (<span style=\"color: #0087ff; text-decoration-color: #0087ff\">Embedding</span>)           │ ?                      │     <span style=\"color: #00af00; text-decoration-color: #00af00\">5,682,800</span> │\n",
              "├─────────────────────────────────┼────────────────────────┼───────────────┤\n",
              "│ lstm (<span style=\"color: #0087ff; text-decoration-color: #0087ff\">LSTM</span>)                     │ ?                      │   <span style=\"color: #00af00; text-decoration-color: #00af00\">0</span> (unbuilt) │\n",
              "├─────────────────────────────────┼────────────────────────┼───────────────┤\n",
              "│ dropout (<span style=\"color: #0087ff; text-decoration-color: #0087ff\">Dropout</span>)               │ ?                      │             <span style=\"color: #00af00; text-decoration-color: #00af00\">0</span> │\n",
              "├─────────────────────────────────┼────────────────────────┼───────────────┤\n",
              "│ dense (<span style=\"color: #0087ff; text-decoration-color: #0087ff\">Dense</span>)                   │ ?                      │   <span style=\"color: #00af00; text-decoration-color: #00af00\">0</span> (unbuilt) │\n",
              "├─────────────────────────────────┼────────────────────────┼───────────────┤\n",
              "│ dense_1 (<span style=\"color: #0087ff; text-decoration-color: #0087ff\">Dense</span>)                 │ ?                      │   <span style=\"color: #00af00; text-decoration-color: #00af00\">0</span> (unbuilt) │\n",
              "└─────────────────────────────────┴────────────────────────┴───────────────┘\n",
              "</pre>\n"
            ]
          },
          "metadata": {}
        },
        {
          "output_type": "display_data",
          "data": {
            "text/plain": [
              "\u001b[1m Total params: \u001b[0m\u001b[38;5;34m5,682,800\u001b[0m (21.68 MB)\n"
            ],
            "text/html": [
              "<pre style=\"white-space:pre;overflow-x:auto;line-height:normal;font-family:Menlo,'DejaVu Sans Mono',consolas,'Courier New',monospace\"><span style=\"font-weight: bold\"> Total params: </span><span style=\"color: #00af00; text-decoration-color: #00af00\">5,682,800</span> (21.68 MB)\n",
              "</pre>\n"
            ]
          },
          "metadata": {}
        },
        {
          "output_type": "display_data",
          "data": {
            "text/plain": [
              "\u001b[1m Trainable params: \u001b[0m\u001b[38;5;34m5,682,800\u001b[0m (21.68 MB)\n"
            ],
            "text/html": [
              "<pre style=\"white-space:pre;overflow-x:auto;line-height:normal;font-family:Menlo,'DejaVu Sans Mono',consolas,'Courier New',monospace\"><span style=\"font-weight: bold\"> Trainable params: </span><span style=\"color: #00af00; text-decoration-color: #00af00\">5,682,800</span> (21.68 MB)\n",
              "</pre>\n"
            ]
          },
          "metadata": {}
        },
        {
          "output_type": "display_data",
          "data": {
            "text/plain": [
              "\u001b[1m Non-trainable params: \u001b[0m\u001b[38;5;34m0\u001b[0m (0.00 B)\n"
            ],
            "text/html": [
              "<pre style=\"white-space:pre;overflow-x:auto;line-height:normal;font-family:Menlo,'DejaVu Sans Mono',consolas,'Courier New',monospace\"><span style=\"font-weight: bold\"> Non-trainable params: </span><span style=\"color: #00af00; text-decoration-color: #00af00\">0</span> (0.00 B)\n",
              "</pre>\n"
            ]
          },
          "metadata": {}
        }
      ]
    },
    {
      "cell_type": "code",
      "source": [
        "# --- Train the Model ---\n",
        "\n",
        "print(\"Starting model training...\")\n",
        "\n",
        "# Define training parameters\n",
        "epochs = 20\n",
        "batch_size = 32\n",
        "\n",
        "# Start the timer\n",
        "start_time = time.time()\n",
        "\n",
        "# Fit the model to the training data\n",
        "history = model.fit(\n",
        "    X_train, y_train,\n",
        "    epochs=epochs,\n",
        "    batch_size=batch_size,\n",
        "    validation_data=(X_test, y_test)\n",
        ")\n",
        "\n",
        "# End the timer\n",
        "end_time = time.time()\n",
        "training_time = end_time - start_time\n",
        "\n",
        "print(f\"\\nTraining finished in {training_time:.2f} seconds.\")"
      ],
      "metadata": {
        "colab": {
          "base_uri": "https://localhost:8080/"
        },
        "id": "aoQUOnNEGY0R",
        "outputId": "1de77698-8929-4d46-e223-d98ec33f858b"
      },
      "execution_count": 10,
      "outputs": [
        {
          "output_type": "stream",
          "name": "stdout",
          "text": [
            "Starting model training...\n",
            "Epoch 1/20\n",
            "\u001b[1m548/548\u001b[0m \u001b[32m━━━━━━━━━━━━━━━━━━━━\u001b[0m\u001b[37m\u001b[0m \u001b[1m105s\u001b[0m 185ms/step - accuracy: 0.5022 - loss: 0.6922 - precision: 0.5068 - recall: 0.3825 - val_accuracy: 0.5196 - val_loss: 0.6884 - val_precision: 0.6667 - val_recall: 0.0794\n",
            "Epoch 2/20\n",
            "\u001b[1m548/548\u001b[0m \u001b[32m━━━━━━━━━━━━━━━━━━━━\u001b[0m\u001b[37m\u001b[0m \u001b[1m103s\u001b[0m 188ms/step - accuracy: 0.5387 - loss: 0.6781 - precision: 0.6604 - recall: 0.1579 - val_accuracy: 0.8279 - val_loss: 0.4734 - val_precision: 0.8230 - val_recall: 0.8358\n",
            "Epoch 3/20\n",
            "\u001b[1m548/548\u001b[0m \u001b[32m━━━━━━━━━━━━━━━━━━━━\u001b[0m\u001b[37m\u001b[0m \u001b[1m103s\u001b[0m 188ms/step - accuracy: 0.8171 - loss: 0.4813 - precision: 0.8391 - recall: 0.7835 - val_accuracy: 0.8063 - val_loss: 0.4714 - val_precision: 0.7477 - val_recall: 0.9247\n",
            "Epoch 4/20\n",
            "\u001b[1m548/548\u001b[0m \u001b[32m━━━━━━━━━━━━━━━━━━━━\u001b[0m\u001b[37m\u001b[0m \u001b[1m142s\u001b[0m 188ms/step - accuracy: 0.8228 - loss: 0.4631 - precision: 0.7789 - recall: 0.9015 - val_accuracy: 0.8263 - val_loss: 0.4628 - val_precision: 0.8263 - val_recall: 0.8266\n",
            "Epoch 5/20\n",
            "\u001b[1m548/548\u001b[0m \u001b[32m━━━━━━━━━━━━━━━━━━━━\u001b[0m\u001b[37m\u001b[0m \u001b[1m142s\u001b[0m 187ms/step - accuracy: 0.8286 - loss: 0.4620 - precision: 0.8168 - recall: 0.8505 - val_accuracy: 0.8069 - val_loss: 0.5003 - val_precision: 0.8576 - val_recall: 0.7363\n",
            "Epoch 6/20\n",
            "\u001b[1m548/548\u001b[0m \u001b[32m━━━━━━━━━━━━━━━━━━━━\u001b[0m\u001b[37m\u001b[0m \u001b[1m104s\u001b[0m 190ms/step - accuracy: 0.8190 - loss: 0.4743 - precision: 0.8343 - recall: 0.7957 - val_accuracy: 0.8254 - val_loss: 0.4656 - val_precision: 0.7904 - val_recall: 0.8859\n",
            "Epoch 7/20\n",
            "\u001b[1m548/548\u001b[0m \u001b[32m━━━━━━━━━━━━━━━━━━━━\u001b[0m\u001b[37m\u001b[0m \u001b[1m143s\u001b[0m 193ms/step - accuracy: 0.8285 - loss: 0.4580 - precision: 0.8134 - recall: 0.8557 - val_accuracy: 0.6956 - val_loss: 0.5745 - val_precision: 0.9299 - val_recall: 0.4234\n",
            "Epoch 8/20\n",
            "\u001b[1m548/548\u001b[0m \u001b[32m━━━━━━━━━━━━━━━━━━━━\u001b[0m\u001b[37m\u001b[0m \u001b[1m139s\u001b[0m 187ms/step - accuracy: 0.7633 - loss: 0.5211 - precision: 0.9086 - recall: 0.5891 - val_accuracy: 0.7983 - val_loss: 0.4864 - val_precision: 0.8794 - val_recall: 0.6916\n",
            "Epoch 9/20\n",
            "\u001b[1m548/548\u001b[0m \u001b[32m━━━━━━━━━━━━━━━━━━━━\u001b[0m\u001b[37m\u001b[0m \u001b[1m142s\u001b[0m 187ms/step - accuracy: 0.8184 - loss: 0.4753 - precision: 0.8386 - recall: 0.7927 - val_accuracy: 0.8204 - val_loss: 0.4582 - val_precision: 0.7750 - val_recall: 0.9033\n",
            "Epoch 10/20\n",
            "\u001b[1m548/548\u001b[0m \u001b[32m━━━━━━━━━━━━━━━━━━━━\u001b[0m\u001b[37m\u001b[0m \u001b[1m102s\u001b[0m 186ms/step - accuracy: 0.8337 - loss: 0.4497 - precision: 0.7979 - recall: 0.8921 - val_accuracy: 0.8300 - val_loss: 0.4516 - val_precision: 0.8101 - val_recall: 0.8622\n",
            "Epoch 11/20\n",
            "\u001b[1m548/548\u001b[0m \u001b[32m━━━━━━━━━━━━━━━━━━━━\u001b[0m\u001b[37m\u001b[0m \u001b[1m141s\u001b[0m 184ms/step - accuracy: 0.8343 - loss: 0.4486 - precision: 0.8178 - recall: 0.8618 - val_accuracy: 0.8279 - val_loss: 0.4580 - val_precision: 0.8398 - val_recall: 0.8107\n",
            "Epoch 12/20\n",
            "\u001b[1m548/548\u001b[0m \u001b[32m━━━━━━━━━━━━━━━━━━━━\u001b[0m\u001b[37m\u001b[0m \u001b[1m103s\u001b[0m 187ms/step - accuracy: 0.8119 - loss: 0.4757 - precision: 0.7708 - recall: 0.8899 - val_accuracy: 0.8199 - val_loss: 0.4710 - val_precision: 0.7969 - val_recall: 0.8590\n",
            "Epoch 13/20\n",
            "\u001b[1m548/548\u001b[0m \u001b[32m━━━━━━━━━━━━━━━━━━━━\u001b[0m\u001b[37m\u001b[0m \u001b[1m103s\u001b[0m 187ms/step - accuracy: 0.8335 - loss: 0.4505 - precision: 0.8060 - recall: 0.8824 - val_accuracy: 0.8229 - val_loss: 0.4638 - val_precision: 0.8169 - val_recall: 0.8326\n",
            "Epoch 14/20\n",
            "\u001b[1m548/548\u001b[0m \u001b[32m━━━━━━━━━━━━━━━━━━━━\u001b[0m\u001b[37m\u001b[0m \u001b[1m101s\u001b[0m 184ms/step - accuracy: 0.8286 - loss: 0.4580 - precision: 0.8273 - recall: 0.8300 - val_accuracy: 0.6924 - val_loss: 0.5766 - val_precision: 0.9254 - val_recall: 0.4188\n",
            "Epoch 15/20\n",
            "\u001b[1m548/548\u001b[0m \u001b[32m━━━━━━━━━━━━━━━━━━━━\u001b[0m\u001b[37m\u001b[0m \u001b[1m102s\u001b[0m 186ms/step - accuracy: 0.7175 - loss: 0.5586 - precision: 0.9124 - recall: 0.4792 - val_accuracy: 0.7850 - val_loss: 0.5006 - val_precision: 0.8834 - val_recall: 0.6569\n",
            "Epoch 16/20\n",
            "\u001b[1m548/548\u001b[0m \u001b[32m━━━━━━━━━━━━━━━━━━━━\u001b[0m\u001b[37m\u001b[0m \u001b[1m142s\u001b[0m 186ms/step - accuracy: 0.7969 - loss: 0.4904 - precision: 0.8849 - recall: 0.6818 - val_accuracy: 0.7853 - val_loss: 0.4986 - val_precision: 0.8821 - val_recall: 0.6588\n",
            "Epoch 17/20\n",
            "\u001b[1m548/548\u001b[0m \u001b[32m━━━━━━━━━━━━━━━━━━━━\u001b[0m\u001b[37m\u001b[0m \u001b[1m103s\u001b[0m 188ms/step - accuracy: 0.8015 - loss: 0.4887 - precision: 0.8738 - recall: 0.7083 - val_accuracy: 0.8113 - val_loss: 0.4733 - val_precision: 0.8660 - val_recall: 0.7368\n",
            "Epoch 18/20\n",
            "\u001b[1m548/548\u001b[0m \u001b[32m━━━━━━━━━━━━━━━━━━━━\u001b[0m\u001b[37m\u001b[0m \u001b[1m141s\u001b[0m 187ms/step - accuracy: 0.8213 - loss: 0.4641 - precision: 0.8542 - recall: 0.7725 - val_accuracy: 0.8282 - val_loss: 0.4530 - val_precision: 0.8047 - val_recall: 0.8668\n",
            "Epoch 19/20\n",
            "\u001b[1m548/548\u001b[0m \u001b[32m━━━━━━━━━━━━━━━━━━━━\u001b[0m\u001b[37m\u001b[0m \u001b[1m102s\u001b[0m 187ms/step - accuracy: 0.8143 - loss: 0.4734 - precision: 0.8249 - recall: 0.7989 - val_accuracy: 0.7081 - val_loss: 0.5636 - val_precision: 0.9139 - val_recall: 0.4599\n",
            "Epoch 20/20\n",
            "\u001b[1m548/548\u001b[0m \u001b[32m━━━━━━━━━━━━━━━━━━━━\u001b[0m\u001b[37m\u001b[0m \u001b[1m102s\u001b[0m 187ms/step - accuracy: 0.7186 - loss: 0.5637 - precision: 0.8948 - recall: 0.4864 - val_accuracy: 0.7243 - val_loss: 0.5498 - val_precision: 0.9121 - val_recall: 0.4968\n",
            "\n",
            "Training finished in 2403.18 seconds.\n"
          ]
        }
      ]
    },
    {
      "cell_type": "code",
      "source": [
        "# --- Re-run Training with the EarlyStopping Callback ---\n",
        "\n",
        "print(\"Starting model training with Early Stopping...\")\n",
        "\n",
        "# We are using the 'early_stopping' callback we defined earlier.\n",
        "# The 'model' object is already compiled with the better learning rate.\n",
        "\n",
        "epochs = 20\n",
        "batch_size = 32\n",
        "\n",
        "# Start the timer\n",
        "start_time = time.time()\n",
        "\n",
        "# Fit the model, this time correctly passing the callback\n",
        "history = model.fit(\n",
        "    X_train, y_train,\n",
        "    epochs=epochs,\n",
        "    batch_size=batch_size,\n",
        "    validation_data=(X_test, y_test),\n",
        "    callbacks=[early_stopping]  # <-- This is the crucial addition\n",
        ")\n",
        "\n",
        "# End the timer\n",
        "end_time = time.time()\n",
        "training_time = end_time - start_time\n",
        "\n",
        "print(f\"\\nTraining finished in {training_time:.2f} seconds.\")\n",
        "print(\"The model has been restored to the weights of the best epoch.\")"
      ],
      "metadata": {
        "colab": {
          "base_uri": "https://localhost:8080/"
        },
        "id": "6wuN0clwWfoi",
        "outputId": "1808dbd0-f126-487c-c836-32a3003a7e2a"
      },
      "execution_count": 16,
      "outputs": [
        {
          "output_type": "stream",
          "name": "stdout",
          "text": [
            "Starting model training with Early Stopping...\n",
            "Epoch 1/20\n",
            "\u001b[1m548/548\u001b[0m \u001b[32m━━━━━━━━━━━━━━━━━━━━\u001b[0m\u001b[37m\u001b[0m \u001b[1m106s\u001b[0m 188ms/step - accuracy: 0.5024 - loss: 0.6925 - precision: 0.5132 - recall: 0.3202 - val_accuracy: 0.5180 - val_loss: 0.6889 - val_precision: 0.6653 - val_recall: 0.0734\n",
            "Epoch 2/20\n",
            "\u001b[1m548/548\u001b[0m \u001b[32m━━━━━━━━━━━━━━━━━━━━\u001b[0m\u001b[37m\u001b[0m \u001b[1m143s\u001b[0m 190ms/step - accuracy: 0.5085 - loss: 0.6896 - precision: 0.5285 - recall: 0.2421 - val_accuracy: 0.5262 - val_loss: 0.6858 - val_precision: 0.5139 - val_recall: 0.9790\n",
            "Epoch 3/20\n",
            "\u001b[1m548/548\u001b[0m \u001b[32m━━━━━━━━━━━━━━━━━━━━\u001b[0m\u001b[37m\u001b[0m \u001b[1m102s\u001b[0m 185ms/step - accuracy: 0.6231 - loss: 0.6244 - precision: 0.6638 - recall: 0.4661 - val_accuracy: 0.8122 - val_loss: 0.4811 - val_precision: 0.8552 - val_recall: 0.7518\n",
            "Epoch 4/20\n",
            "\u001b[1m548/548\u001b[0m \u001b[32m━━━━━━━━━━━━━━━━━━━━\u001b[0m\u001b[37m\u001b[0m \u001b[1m103s\u001b[0m 188ms/step - accuracy: 0.8286 - loss: 0.4679 - precision: 0.8375 - recall: 0.8165 - val_accuracy: 0.8005 - val_loss: 0.4920 - val_precision: 0.7477 - val_recall: 0.9074\n",
            "Epoch 5/20\n",
            "\u001b[1m548/548\u001b[0m \u001b[32m━━━━━━━━━━━━━━━━━━━━\u001b[0m\u001b[37m\u001b[0m \u001b[1m142s\u001b[0m 189ms/step - accuracy: 0.8194 - loss: 0.4708 - precision: 0.7783 - recall: 0.8949 - val_accuracy: 0.8252 - val_loss: 0.4598 - val_precision: 0.8034 - val_recall: 0.8613\n",
            "Epoch 6/20\n",
            "\u001b[1m548/548\u001b[0m \u001b[32m━━━━━━━━━━━━━━━━━━━━\u001b[0m\u001b[37m\u001b[0m \u001b[1m103s\u001b[0m 187ms/step - accuracy: 0.8032 - loss: 0.4969 - precision: 0.8523 - recall: 0.7400 - val_accuracy: 0.8147 - val_loss: 0.4715 - val_precision: 0.8682 - val_recall: 0.7422\n",
            "Epoch 7/20\n",
            "\u001b[1m548/548\u001b[0m \u001b[32m━━━━━━━━━━━━━━━━━━━━\u001b[0m\u001b[37m\u001b[0m \u001b[1m101s\u001b[0m 184ms/step - accuracy: 0.8022 - loss: 0.4876 - precision: 0.8882 - recall: 0.6888 - val_accuracy: 0.8245 - val_loss: 0.4667 - val_precision: 0.8528 - val_recall: 0.7847\n",
            "Epoch 8/20\n",
            "\u001b[1m548/548\u001b[0m \u001b[32m━━━━━━━━━━━━━━━━━━━━\u001b[0m\u001b[37m\u001b[0m \u001b[1m142s\u001b[0m 184ms/step - accuracy: 0.8293 - loss: 0.4622 - precision: 0.8434 - recall: 0.8099 - val_accuracy: 0.7741 - val_loss: 0.5043 - val_precision: 0.7036 - val_recall: 0.9475\n",
            "Epoch 8: early stopping\n",
            "Restoring model weights from the end of the best epoch: 5.\n",
            "\n",
            "Training finished in 982.48 seconds.\n",
            "The model has been restored to the weights of the best epoch.\n"
          ]
        }
      ]
    },
    {
      "cell_type": "code",
      "source": [
        "from sklearn.metrics import classification_report, confusion_matrix, accuracy_score, precision_score, recall_score, f1_score, roc_auc_score\n",
        "import seaborn as sns\n",
        "import matplotlib.pyplot as plt\n",
        "\n",
        "# --- Final Performance Evaluation ---\n",
        "\n",
        "# 1. Get model predictions on the test set\n",
        "# .predict() gives probabilities, so we convert them to 0 or 1\n",
        "y_pred_prob = model.predict(X_test)\n",
        "y_pred = (y_pred_prob > 0.5).astype(int)\n",
        "\n",
        "# 2. Calculate and print overall metrics\n",
        "print(\"--- Overall Test Metrics ---\")\n",
        "accuracy = accuracy_score(y_test, y_pred)\n",
        "precision = precision_score(y_test, y_pred)\n",
        "recall = recall_score(y_test, y_pred)\n",
        "f1 = f1_score(y_test, y_pred)\n",
        "roc_auc = roc_auc_score(y_test, y_pred_prob) # Use probabilities for ROC-AUC\n",
        "\n",
        "print(f\"Accuracy:  {accuracy:.4f}\")\n",
        "print(f\"Precision: {precision:.4f}\")\n",
        "print(f\"Recall:    {recall:.4f}\")\n",
        "print(f\"F1 Score:  {f1:.4f}\")\n",
        "print(f\"ROC-AUC Score: {roc_auc:.4f}\")\n",
        "\n",
        "# 3. Print the detailed Classification Report\n",
        "print(\"\\nClassification Report:\")\n",
        "print(classification_report(y_test, y_pred, target_names=['Not Depressed (0)', 'Depressed (1)']))\n",
        "\n",
        "# 4. Display the Confusion Matrix\n",
        "print(\"\\nConfusion Matrix:\")\n",
        "cm = confusion_matrix(y_test, y_pred)\n",
        "plt.figure(figsize=(6, 5))\n",
        "sns.heatmap(cm, annot=True, fmt='d', cmap='Blues',\n",
        "            xticklabels=['Not Depressed (0)', 'Depressed (1)'],\n",
        "            yticklabels=['Not Depressed (0)', 'Depressed (1)'])\n",
        "plt.xlabel('Predicted Label')\n",
        "plt.ylabel('True Label')\n",
        "plt.title('Confusion Matrix')\n",
        "plt.show()"
      ],
      "metadata": {
        "colab": {
          "base_uri": "https://localhost:8080/",
          "height": 834
        },
        "id": "TCYE88y8GfAk",
        "outputId": "bea66abd-ba66-458d-d22d-fe00124119bc"
      },
      "execution_count": 17,
      "outputs": [
        {
          "output_type": "stream",
          "name": "stdout",
          "text": [
            "\u001b[1m137/137\u001b[0m \u001b[32m━━━━━━━━━━━━━━━━━━━━\u001b[0m\u001b[37m\u001b[0m \u001b[1m9s\u001b[0m 63ms/step\n",
            "--- Overall Test Metrics ---\n",
            "Accuracy:  0.8252\n",
            "Precision: 0.8034\n",
            "Recall:    0.8613\n",
            "F1 Score:  0.8314\n",
            "ROC-AUC Score: 0.8768\n",
            "\n",
            "Classification Report:\n",
            "                   precision    recall  f1-score   support\n",
            "\n",
            "Not Depressed (0)       0.85      0.79      0.82      2190\n",
            "    Depressed (1)       0.80      0.86      0.83      2192\n",
            "\n",
            "         accuracy                           0.83      4382\n",
            "        macro avg       0.83      0.83      0.82      4382\n",
            "     weighted avg       0.83      0.83      0.82      4382\n",
            "\n",
            "\n",
            "Confusion Matrix:\n"
          ]
        },
        {
          "output_type": "display_data",
          "data": {
            "text/plain": [
              "<Figure size 600x500 with 2 Axes>"
            ],
            "image/png": "[encoded data removed]"
          },
          "metadata": {}
        }
      ]
    },
    {
      "cell_type": "code",
      "source": [
        "import os\n",
        "\n",
        "# --- Time Complexity ---\n",
        "print(\"--- Time Complexity ---\")\n",
        "# The 'training_time' variable was just updated by the last training run.\n",
        "print(f\"Total Training Time: {training_time:.2f} seconds (approx. {training_time/60:.1f} minutes)\")\n",
        "\n",
        "# Measure inference time for the final model\n",
        "inference_start_time = time.time()\n",
        "model.predict(X_test, batch_size=batch_size)\n",
        "inference_end_time = time.time()\n",
        "total_inference_time = inference_end_time - inference_start_time\n",
        "avg_inference_time_ms = (total_inference_time / len(X_test)) * 1000\n",
        "\n",
        "print(f\"Total Inference Time for {len(X_test)} samples: {total_inference_time:.4f} seconds\")\n",
        "print(f\"Average Inference Time per Sample: {avg_inference_time_ms:.4f} milliseconds\")\n",
        "\n",
        "# --- Space Complexity ---\n",
        "print(\"\\n--- Space Complexity ---\")\n",
        "# Save the final, best model to a file\n",
        "model_filename = 'depression_detection_lstm_best.keras'\n",
        "model.save(model_filename)\n",
        "\n",
        "# Get the size of the saved model file\n",
        "model_size_bytes = os.path.getsize(model_filename)\n",
        "model_size_mb = model_size_bytes / (1024 * 1024)\n",
        "\n",
        "print(f\"Total Model Parameters: {model.count_params():,}\")\n",
        "print(f\"Model Size on Disk: {model_size_mb:.2f} MB\")"
      ],
      "metadata": {
        "colab": {
          "base_uri": "https://localhost:8080/"
        },
        "id": "SjzALM6WUwcv",
        "outputId": "ad2dd35e-8ff4-45be-ad62-427ea5142cdb"
      },
      "execution_count": 18,
      "outputs": [
        {
          "output_type": "stream",
          "name": "stdout",
          "text": [
            "--- Time Complexity ---\n",
            "Total Training Time: 982.48 seconds (approx. 16.4 minutes)\n",
            "\u001b[1m137/137\u001b[0m \u001b[32m━━━━━━━━━━━━━━━━━━━━\u001b[0m\u001b[37m\u001b[0m \u001b[1m4s\u001b[0m 31ms/step\n",
            "Total Inference Time for 4382 samples: 4.3874 seconds\n",
            "Average Inference Time per Sample: 1.0012 milliseconds\n",
            "\n",
            "--- Space Complexity ---\n",
            "Total Model Parameters: 5,727,153\n",
            "Model Size on Disk: 65.58 MB\n"
          ]
        }
      ]
    },
    {
      "cell_type": "code",
      "source": [
        "import pickle\n",
        "\n",
        "# Save the Keras Tokenizer to a file\n",
        "with open('tokenizer.pickle', 'wb') as handle:\n",
        "    pickle.dump(tokenizer, handle, protocol=pickle.HIGHEST_PROTOCOL)\n",
        "\n",
        "print(\"Tokenizer has been saved to 'tokenizer.pickle'\")"
      ],
      "metadata": {
        "colab": {
          "base_uri": "https://localhost:8080/"
        },
        "id": "0GpbhHDXi248",
        "outputId": "781291fe-df06-492d-f1a0-c8736b098127"
      },
      "execution_count": 19,
      "outputs": [
        {
          "output_type": "stream",
          "name": "stdout",
          "text": [
            "Tokenizer has been saved to 'tokenizer.pickle'\n"
          ]
        }
      ]
    },
    {
      "cell_type": "code",
      "source": [
        "model.summary()"
      ],
      "metadata": {
        "colab": {
          "base_uri": "https://localhost:8080/",
          "height": 302
        },
        "id": "G32pX6IWnLh4",
        "outputId": "b3b2bea9-e237-4be1-b7bb-e988ad630406"
      },
      "execution_count": 20,
      "outputs": [
        {
          "output_type": "display_data",
          "data": {
            "text/plain": [
              "\u001b[1mModel: \"sequential\"\u001b[0m\n"
            ],
            "text/html": [
              "<pre style=\"white-space:pre;overflow-x:auto;line-height:normal;font-family:Menlo,'DejaVu Sans Mono',consolas,'Courier New',monospace\"><span style=\"font-weight: bold\">Model: \"sequential\"</span>\n",
              "</pre>\n"
            ]
          },
          "metadata": {}
        },
        {
          "output_type": "display_data",
          "data": {
            "text/plain": [
              "┏━━━━━━━━━━━━━━━━━━━━━━━━━━━━━━━━━┳━━━━━━━━━━━━━━━━━━━━━━━━┳━━━━━━━━━━━━━━━┓\n",
              "┃\u001b[1m \u001b[0m\u001b[1mLayer (type)                   \u001b[0m\u001b[1m \u001b[0m┃\u001b[1m \u001b[0m\u001b[1mOutput Shape          \u001b[0m\u001b[1m \u001b[0m┃\u001b[1m \u001b[0m\u001b[1m      Param #\u001b[0m\u001b[1m \u001b[0m┃\n",
              "┡━━━━━━━━━━━━━━━━━━━━━━━━━━━━━━━━━╇━━━━━━━━━━━━━━━━━━━━━━━━╇━━━━━━━━━━━━━━━┩\n",
              "│ embedding (\u001b[38;5;33mEmbedding\u001b[0m)           │ (\u001b[38;5;45mNone\u001b[0m, \u001b[38;5;34m192\u001b[0m, \u001b[38;5;34m100\u001b[0m)       │     \u001b[38;5;34m5,682,800\u001b[0m │\n",
              "├─────────────────────────────────┼────────────────────────┼───────────────┤\n",
              "│ lstm (\u001b[38;5;33mLSTM\u001b[0m)                     │ (\u001b[38;5;45mNone\u001b[0m, \u001b[38;5;34m64\u001b[0m)             │        \u001b[38;5;34m42,240\u001b[0m │\n",
              "├─────────────────────────────────┼────────────────────────┼───────────────┤\n",
              "│ dropout (\u001b[38;5;33mDropout\u001b[0m)               │ (\u001b[38;5;45mNone\u001b[0m, \u001b[38;5;34m64\u001b[0m)             │             \u001b[38;5;34m0\u001b[0m │\n",
              "├─────────────────────────────────┼────────────────────────┼───────────────┤\n",
              "│ dense (\u001b[38;5;33mDense\u001b[0m)                   │ (\u001b[38;5;45mNone\u001b[0m, \u001b[38;5;34m32\u001b[0m)             │         \u001b[38;5;34m2,080\u001b[0m │\n",
              "├─────────────────────────────────┼────────────────────────┼───────────────┤\n",
              "│ dense_1 (\u001b[38;5;33mDense\u001b[0m)                 │ (\u001b[38;5;45mNone\u001b[0m, \u001b[38;5;34m1\u001b[0m)              │            \u001b[38;5;34m33\u001b[0m │\n",
              "└─────────────────────────────────┴────────────────────────┴───────────────┘\n"
            ],
            "text/html": [
              "<pre style=\"white-space:pre;overflow-x:auto;line-height:normal;font-family:Menlo,'DejaVu Sans Mono',consolas,'Courier New',monospace\">┏━━━━━━━━━━━━━━━━━━━━━━━━━━━━━━━━━┳━━━━━━━━━━━━━━━━━━━━━━━━┳━━━━━━━━━━━━━━━┓\n",
              "┃<span style=\"font-weight: bold\"> Layer (type)                    </span>┃<span style=\"font-weight: bold\"> Output Shape           </span>┃<span style=\"font-weight: bold\">       Param # </span>┃\n",
              "┡━━━━━━━━━━━━━━━━━━━━━━━━━━━━━━━━━╇━━━━━━━━━━━━━━━━━━━━━━━━╇━━━━━━━━━━━━━━━┩\n",
              "│ embedding (<span style=\"color: #0087ff; text-decoration-color: #0087ff\">Embedding</span>)           │ (<span style=\"color: #00d7ff; text-decoration-color: #00d7ff\">None</span>, <span style=\"color: #00af00; text-decoration-color: #00af00\">192</span>, <span style=\"color: #00af00; text-decoration-color: #00af00\">100</span>)       │     <span style=\"color: #00af00; text-decoration-color: #00af00\">5,682,800</span> │\n",
              "├─────────────────────────────────┼────────────────────────┼───────────────┤\n",
              "│ lstm (<span style=\"color: #0087ff; text-decoration-color: #0087ff\">LSTM</span>)                     │ (<span style=\"color: #00d7ff; text-decoration-color: #00d7ff\">None</span>, <span style=\"color: #00af00; text-decoration-color: #00af00\">64</span>)             │        <span style=\"color: #00af00; text-decoration-color: #00af00\">42,240</span> │\n",
              "├─────────────────────────────────┼────────────────────────┼───────────────┤\n",
              "│ dropout (<span style=\"color: #0087ff; text-decoration-color: #0087ff\">Dropout</span>)               │ (<span style=\"color: #00d7ff; text-decoration-color: #00d7ff\">None</span>, <span style=\"color: #00af00; text-decoration-color: #00af00\">64</span>)             │             <span style=\"color: #00af00; text-decoration-color: #00af00\">0</span> │\n",
              "├─────────────────────────────────┼────────────────────────┼───────────────┤\n",
              "│ dense (<span style=\"color: #0087ff; text-decoration-color: #0087ff\">Dense</span>)                   │ (<span style=\"color: #00d7ff; text-decoration-color: #00d7ff\">None</span>, <span style=\"color: #00af00; text-decoration-color: #00af00\">32</span>)             │         <span style=\"color: #00af00; text-decoration-color: #00af00\">2,080</span> │\n",
              "├─────────────────────────────────┼────────────────────────┼───────────────┤\n",
              "│ dense_1 (<span style=\"color: #0087ff; text-decoration-color: #0087ff\">Dense</span>)                 │ (<span style=\"color: #00d7ff; text-decoration-color: #00d7ff\">None</span>, <span style=\"color: #00af00; text-decoration-color: #00af00\">1</span>)              │            <span style=\"color: #00af00; text-decoration-color: #00af00\">33</span> │\n",
              "└─────────────────────────────────┴────────────────────────┴───────────────┘\n",
              "</pre>\n"
            ]
          },
          "metadata": {}
        },
        {
          "output_type": "display_data",
          "data": {
            "text/plain": [
              "\u001b[1m Total params: \u001b[0m\u001b[38;5;34m17,181,461\u001b[0m (65.54 MB)\n"
            ],
            "text/html": [
              "<pre style=\"white-space:pre;overflow-x:auto;line-height:normal;font-family:Menlo,'DejaVu Sans Mono',consolas,'Courier New',monospace\"><span style=\"font-weight: bold\"> Total params: </span><span style=\"color: #00af00; text-decoration-color: #00af00\">17,181,461</span> (65.54 MB)\n",
              "</pre>\n"
            ]
          },
          "metadata": {}
        },
        {
          "output_type": "display_data",
          "data": {
            "text/plain": [
              "\u001b[1m Trainable params: \u001b[0m\u001b[38;5;34m5,727,153\u001b[0m (21.85 MB)\n"
            ],
            "text/html": [
              "<pre style=\"white-space:pre;overflow-x:auto;line-height:normal;font-family:Menlo,'DejaVu Sans Mono',consolas,'Courier New',monospace\"><span style=\"font-weight: bold\"> Trainable params: </span><span style=\"color: #00af00; text-decoration-color: #00af00\">5,727,153</span> (21.85 MB)\n",
              "</pre>\n"
            ]
          },
          "metadata": {}
        },
        {
          "output_type": "display_data",
          "data": {
            "text/plain": [
              "\u001b[1m Non-trainable params: \u001b[0m\u001b[38;5;34m0\u001b[0m (0.00 B)\n"
            ],
            "text/html": [
              "<pre style=\"white-space:pre;overflow-x:auto;line-height:normal;font-family:Menlo,'DejaVu Sans Mono',consolas,'Courier New',monospace\"><span style=\"font-weight: bold\"> Non-trainable params: </span><span style=\"color: #00af00; text-decoration-color: #00af00\">0</span> (0.00 B)\n",
              "</pre>\n"
            ]
          },
          "metadata": {}
        },
        {
          "output_type": "display_data",
          "data": {
            "text/plain": [
              "\u001b[1m Optimizer params: \u001b[0m\u001b[38;5;34m11,454,308\u001b[0m (43.69 MB)\n"
            ],
            "text/html": [
              "<pre style=\"white-space:pre;overflow-x:auto;line-height:normal;font-family:Menlo,'DejaVu Sans Mono',consolas,'Courier New',monospace\"><span style=\"font-weight: bold\"> Optimizer params: </span><span style=\"color: #00af00; text-decoration-color: #00af00\">11,454,308</span> (43.69 MB)\n",
              "</pre>\n"
            ]
          },
          "metadata": {}
        }
      ]
    },
    {
      "cell_type": "code",
      "source": [],
      "metadata": {
        "id": "4RmJmpAOnL8F"
      },
      "execution_count": null,
      "outputs": []
    }
  ]
}